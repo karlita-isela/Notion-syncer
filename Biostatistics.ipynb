{
  "nbformat": 4,
  "nbformat_minor": 0,
  "metadata": {
    "colab": {
      "provenance": [],
      "authorship_tag": "ABX9TyM6OU7g254V5QEhenR3UgWg",
      "include_colab_link": true
    },
    "kernelspec": {
      "name": "python3",
      "display_name": "Python 3"
    },
    "language_info": {
      "name": "python"
    }
  },
  "cells": [
    {
      "cell_type": "markdown",
      "metadata": {
        "id": "view-in-github",
        "colab_type": "text"
      },
      "source": [
        "<a href=\"https://colab.research.google.com/github/karlita-isela/Notion-syncer/blob/main/Biostatistics.ipynb\" target=\"_parent\"><img src=\"https://colab.research.google.com/assets/colab-badge.svg\" alt=\"Open In Colab\"/></a>"
      ]
    },
    {
      "cell_type": "code",
      "source": [
        "!pip install seaborn"
      ],
      "metadata": {
        "colab": {
          "base_uri": "https://localhost:8080/"
        },
        "id": "Nwo8c-sXHhtH",
        "outputId": "8612d70c-9acb-4d2d-c074-065b4feb2330"
      },
      "execution_count": null,
      "outputs": [
        {
          "output_type": "stream",
          "name": "stdout",
          "text": [
            "Requirement already satisfied: seaborn in /usr/local/lib/python3.11/dist-packages (0.13.2)\n",
            "Requirement already satisfied: numpy!=1.24.0,>=1.20 in /usr/local/lib/python3.11/dist-packages (from seaborn) (2.0.2)\n",
            "Requirement already satisfied: pandas>=1.2 in /usr/local/lib/python3.11/dist-packages (from seaborn) (2.2.2)\n",
            "Requirement already satisfied: matplotlib!=3.6.1,>=3.4 in /usr/local/lib/python3.11/dist-packages (from seaborn) (3.10.0)\n",
            "Requirement already satisfied: contourpy>=1.0.1 in /usr/local/lib/python3.11/dist-packages (from matplotlib!=3.6.1,>=3.4->seaborn) (1.3.2)\n",
            "Requirement already satisfied: cycler>=0.10 in /usr/local/lib/python3.11/dist-packages (from matplotlib!=3.6.1,>=3.4->seaborn) (0.12.1)\n",
            "Requirement already satisfied: fonttools>=4.22.0 in /usr/local/lib/python3.11/dist-packages (from matplotlib!=3.6.1,>=3.4->seaborn) (4.59.0)\n",
            "Requirement already satisfied: kiwisolver>=1.3.1 in /usr/local/lib/python3.11/dist-packages (from matplotlib!=3.6.1,>=3.4->seaborn) (1.4.8)\n",
            "Requirement already satisfied: packaging>=20.0 in /usr/local/lib/python3.11/dist-packages (from matplotlib!=3.6.1,>=3.4->seaborn) (25.0)\n",
            "Requirement already satisfied: pillow>=8 in /usr/local/lib/python3.11/dist-packages (from matplotlib!=3.6.1,>=3.4->seaborn) (11.2.1)\n",
            "Requirement already satisfied: pyparsing>=2.3.1 in /usr/local/lib/python3.11/dist-packages (from matplotlib!=3.6.1,>=3.4->seaborn) (3.2.3)\n",
            "Requirement already satisfied: python-dateutil>=2.7 in /usr/local/lib/python3.11/dist-packages (from matplotlib!=3.6.1,>=3.4->seaborn) (2.9.0.post0)\n",
            "Requirement already satisfied: pytz>=2020.1 in /usr/local/lib/python3.11/dist-packages (from pandas>=1.2->seaborn) (2025.2)\n",
            "Requirement already satisfied: tzdata>=2022.7 in /usr/local/lib/python3.11/dist-packages (from pandas>=1.2->seaborn) (2025.2)\n",
            "Requirement already satisfied: six>=1.5 in /usr/local/lib/python3.11/dist-packages (from python-dateutil>=2.7->matplotlib!=3.6.1,>=3.4->seaborn) (1.17.0)\n"
          ]
        }
      ]
    },
    {
      "cell_type": "code",
      "source": [
        "# 🧼 Make plots look cleaner and prettier\n",
        "import matplotlib.pyplot as plt\n",
        "import seaborn as sns\n",
        "\n",
        "# Set a clean white style with grid lines\n",
        "sns.set_theme(style=\"whitegrid\")\n",
        "\n",
        "# Make plots higher quality (less blurry)\n",
        "plt.rcParams['figure.dpi'] = 120  # You can change to 150 or 200 if you want super crisp"
      ],
      "metadata": {
        "id": "UJHyoUDmHcd-"
      },
      "execution_count": null,
      "outputs": []
    },
    {
      "cell_type": "code",
      "source": [
        "!pip install plotly"
      ],
      "metadata": {
        "colab": {
          "base_uri": "https://localhost:8080/",
          "height": 91
        },
        "id": "Yiz1sR4-HwYN",
        "outputId": "cb82eab4-ab3f-485f-f175-fc5340adf0f2"
      },
      "execution_count": null,
      "outputs": [
        {
          "output_type": "stream",
          "name": "stdout",
          "text": [
            "Requirement already satisfied: plotly in /usr/local/lib/python3.11/dist-packages (5.24.1)\n",
            "Requirement already satisfied: tenacity>=6.2.0 in /usr/local/lib/python3.11/dist-packages (from plotly) (8.5.0)\n",
            "Requirement already satisfied: packaging in /usr/local/lib/python3.11/dist-packages (from plotly) (25.0)\n"
          ]
        }
      ]
    },
    {
      "cell_type": "code",
      "execution_count": 101,
      "metadata": {
        "colab": {
          "base_uri": "https://localhost:8080/",
          "height": 72
        },
        "id": "1inMtRui9dv4",
        "outputId": "88e5b1aa-2f1b-4ace-b61d-22ae0c9f6430"
      },
      "outputs": [
        {
          "output_type": "display_data",
          "data": {
            "text/plain": [
              "<IPython.core.display.HTML object>"
            ],
            "text/html": [
              "\n",
              "     <input type=\"file\" id=\"files-5422b5b3-b33b-4a9c-9c7b-81419121cb40\" name=\"files[]\" multiple disabled\n",
              "        style=\"border:none\" />\n",
              "     <output id=\"result-5422b5b3-b33b-4a9c-9c7b-81419121cb40\">\n",
              "      Upload widget is only available when the cell has been executed in the\n",
              "      current browser session. Please rerun this cell to enable.\n",
              "      </output>\n",
              "      <script>// Copyright 2017 Google LLC\n",
              "//\n",
              "// Licensed under the Apache License, Version 2.0 (the \"License\");\n",
              "// you may not use this file except in compliance with the License.\n",
              "// You may obtain a copy of the License at\n",
              "//\n",
              "//      http://www.apache.org/licenses/LICENSE-2.0\n",
              "//\n",
              "// Unless required by applicable law or agreed to in writing, software\n",
              "// distributed under the License is distributed on an \"AS IS\" BASIS,\n",
              "// WITHOUT WARRANTIES OR CONDITIONS OF ANY KIND, either express or implied.\n",
              "// See the License for the specific language governing permissions and\n",
              "// limitations under the License.\n",
              "\n",
              "/**\n",
              " * @fileoverview Helpers for google.colab Python module.\n",
              " */\n",
              "(function(scope) {\n",
              "function span(text, styleAttributes = {}) {\n",
              "  const element = document.createElement('span');\n",
              "  element.textContent = text;\n",
              "  for (const key of Object.keys(styleAttributes)) {\n",
              "    element.style[key] = styleAttributes[key];\n",
              "  }\n",
              "  return element;\n",
              "}\n",
              "\n",
              "// Max number of bytes which will be uploaded at a time.\n",
              "const MAX_PAYLOAD_SIZE = 100 * 1024;\n",
              "\n",
              "function _uploadFiles(inputId, outputId) {\n",
              "  const steps = uploadFilesStep(inputId, outputId);\n",
              "  const outputElement = document.getElementById(outputId);\n",
              "  // Cache steps on the outputElement to make it available for the next call\n",
              "  // to uploadFilesContinue from Python.\n",
              "  outputElement.steps = steps;\n",
              "\n",
              "  return _uploadFilesContinue(outputId);\n",
              "}\n",
              "\n",
              "// This is roughly an async generator (not supported in the browser yet),\n",
              "// where there are multiple asynchronous steps and the Python side is going\n",
              "// to poll for completion of each step.\n",
              "// This uses a Promise to block the python side on completion of each step,\n",
              "// then passes the result of the previous step as the input to the next step.\n",
              "function _uploadFilesContinue(outputId) {\n",
              "  const outputElement = document.getElementById(outputId);\n",
              "  const steps = outputElement.steps;\n",
              "\n",
              "  const next = steps.next(outputElement.lastPromiseValue);\n",
              "  return Promise.resolve(next.value.promise).then((value) => {\n",
              "    // Cache the last promise value to make it available to the next\n",
              "    // step of the generator.\n",
              "    outputElement.lastPromiseValue = value;\n",
              "    return next.value.response;\n",
              "  });\n",
              "}\n",
              "\n",
              "/**\n",
              " * Generator function which is called between each async step of the upload\n",
              " * process.\n",
              " * @param {string} inputId Element ID of the input file picker element.\n",
              " * @param {string} outputId Element ID of the output display.\n",
              " * @return {!Iterable<!Object>} Iterable of next steps.\n",
              " */\n",
              "function* uploadFilesStep(inputId, outputId) {\n",
              "  const inputElement = document.getElementById(inputId);\n",
              "  inputElement.disabled = false;\n",
              "\n",
              "  const outputElement = document.getElementById(outputId);\n",
              "  outputElement.innerHTML = '';\n",
              "\n",
              "  const pickedPromise = new Promise((resolve) => {\n",
              "    inputElement.addEventListener('change', (e) => {\n",
              "      resolve(e.target.files);\n",
              "    });\n",
              "  });\n",
              "\n",
              "  const cancel = document.createElement('button');\n",
              "  inputElement.parentElement.appendChild(cancel);\n",
              "  cancel.textContent = 'Cancel upload';\n",
              "  const cancelPromise = new Promise((resolve) => {\n",
              "    cancel.onclick = () => {\n",
              "      resolve(null);\n",
              "    };\n",
              "  });\n",
              "\n",
              "  // Wait for the user to pick the files.\n",
              "  const files = yield {\n",
              "    promise: Promise.race([pickedPromise, cancelPromise]),\n",
              "    response: {\n",
              "      action: 'starting',\n",
              "    }\n",
              "  };\n",
              "\n",
              "  cancel.remove();\n",
              "\n",
              "  // Disable the input element since further picks are not allowed.\n",
              "  inputElement.disabled = true;\n",
              "\n",
              "  if (!files) {\n",
              "    return {\n",
              "      response: {\n",
              "        action: 'complete',\n",
              "      }\n",
              "    };\n",
              "  }\n",
              "\n",
              "  for (const file of files) {\n",
              "    const li = document.createElement('li');\n",
              "    li.append(span(file.name, {fontWeight: 'bold'}));\n",
              "    li.append(span(\n",
              "        `(${file.type || 'n/a'}) - ${file.size} bytes, ` +\n",
              "        `last modified: ${\n",
              "            file.lastModifiedDate ? file.lastModifiedDate.toLocaleDateString() :\n",
              "                                    'n/a'} - `));\n",
              "    const percent = span('0% done');\n",
              "    li.appendChild(percent);\n",
              "\n",
              "    outputElement.appendChild(li);\n",
              "\n",
              "    const fileDataPromise = new Promise((resolve) => {\n",
              "      const reader = new FileReader();\n",
              "      reader.onload = (e) => {\n",
              "        resolve(e.target.result);\n",
              "      };\n",
              "      reader.readAsArrayBuffer(file);\n",
              "    });\n",
              "    // Wait for the data to be ready.\n",
              "    let fileData = yield {\n",
              "      promise: fileDataPromise,\n",
              "      response: {\n",
              "        action: 'continue',\n",
              "      }\n",
              "    };\n",
              "\n",
              "    // Use a chunked sending to avoid message size limits. See b/62115660.\n",
              "    let position = 0;\n",
              "    do {\n",
              "      const length = Math.min(fileData.byteLength - position, MAX_PAYLOAD_SIZE);\n",
              "      const chunk = new Uint8Array(fileData, position, length);\n",
              "      position += length;\n",
              "\n",
              "      const base64 = btoa(String.fromCharCode.apply(null, chunk));\n",
              "      yield {\n",
              "        response: {\n",
              "          action: 'append',\n",
              "          file: file.name,\n",
              "          data: base64,\n",
              "        },\n",
              "      };\n",
              "\n",
              "      let percentDone = fileData.byteLength === 0 ?\n",
              "          100 :\n",
              "          Math.round((position / fileData.byteLength) * 100);\n",
              "      percent.textContent = `${percentDone}% done`;\n",
              "\n",
              "    } while (position < fileData.byteLength);\n",
              "  }\n",
              "\n",
              "  // All done.\n",
              "  yield {\n",
              "    response: {\n",
              "      action: 'complete',\n",
              "    }\n",
              "  };\n",
              "}\n",
              "\n",
              "scope.google = scope.google || {};\n",
              "scope.google.colab = scope.google.colab || {};\n",
              "scope.google.colab._files = {\n",
              "  _uploadFiles,\n",
              "  _uploadFilesContinue,\n",
              "};\n",
              "})(self);\n",
              "</script> "
            ]
          },
          "metadata": {}
        },
        {
          "output_type": "stream",
          "name": "stdout",
          "text": [
            "Saving BIOSTATS_MASTER.csv to BIOSTATS_MASTER (2).csv\n"
          ]
        }
      ],
      "source": [
        "from google.colab import files\n",
        "upload= files.upload()"
      ]
    },
    {
      "cell_type": "markdown",
      "source": [
        "#Preoperative Vulnerability\n",
        "  **Do younger, smaller patients enter surgery already at risk for complications or delayed extubation?**"
      ],
      "metadata": {
        "id": "kfVRRGP98J3I"
      }
    },
    {
      "cell_type": "markdown",
      "source": [
        "### Clinical Rationale  \n",
        "\n",
        "Neonates — infants under 30 days old — are especially vulnerable after heart surgery due to immature cardiac function, limited metabolic reserve, and fragile lungs. These patients are more prone to hemodynamic instability and may require longer ICU stays or vasoactive support to recover (Arslan et al., 2022).\n",
        "\n",
        "---\n",
        "\n",
        "### Group Definitions  \n",
        "- **Neonates:** Age < 30 days at surgery  \n",
        "- **Non-neonates:** Age ≥ 30 days\n"
      ],
      "metadata": {
        "id": "WigtstPSRCQb"
      }
    },
    {
      "cell_type": "markdown",
      "source": [
        "### Q1: Is the mean ICU length of stay significantly longer in neonates compared to non-neonates?\n",
        "\n",
        "**Test Type:** Independent t-test  \n",
        "**Independent Variable (Grouping):** Neonatal status (`PROC_AGE < 30 days`)  \n",
        "**Dependent Variable (Quantitative):** ICU length of stay (`ICU_DISCHARGE_D_DAY`)\n",
        "\n",
        "---\n",
        "\n",
        "#### Hypotheses:\n",
        "- **Null Hypothesis (H₀):**  \n",
        "  There is **no difference** in the mean ICU stay between neonates and non-neonates.\n",
        "\n",
        "- **Alternative Hypothesis (H₁):**  \n",
        "  The **mean ICU stay differs** significantly between neonates and non-neonates.\n",
        "\n",
        "---\n",
        "\n",
        "#### ✅ T-test\n",
        "- We are comparing the **means** of a continuous outcome (ICU days) between **two independent groups** (neonates vs. non-neonates).\n",
        "---\n",
        "\n",
        "#### 🧠 Clinical Significance:\n",
        "Neonates are especially vulnerable during cardiac surgery due to several unique physiological characteristics:\n",
        "\n",
        "- **Immature myocardial calcium handling:** Neonatal hearts have underdeveloped sarcoplasmic reticulum and rely heavily on extracellular calcium, reducing contractile reserve and increasing susceptibility to bypass-related stress\n",
        "- **High oxidative stress response:** CPB triggers oxidative stress, and neonatal antioxidant systems are not fully matured, putting them at greater risk for reperfusion injury\n",
        "- **Limited physiologic reserve:** Neonates have smaller blood volumes and immature organ systems."
      ],
      "metadata": {
        "id": "X-akEOWsTV_o"
      }
    },
    {
      "cell_type": "code",
      "source": [
        "# Safely drop old NEONATE column if it exists\n",
        "if \"NEONATE\" in df_clean.columns:\n",
        "    df_clean = df_clean.drop(columns=[\"NEONATE\"])\n",
        "\n",
        "# Assign new NEONATE column (1 = neonate, 0 = non-neonate)\n",
        "df_clean[\"NEONATE\"] = (df_clean[\"PROC_AGE\"].astype(float) < 30).astype(int)"
      ],
      "metadata": {
        "id": "GzFZEsh8sCLl",
        "colab": {
          "base_uri": "https://localhost:8080/",
          "height": 217
        },
        "outputId": "719ceff4-1af1-43d0-b61c-a520bd8647fd"
      },
      "execution_count": null,
      "outputs": [
        {
          "output_type": "error",
          "ename": "NameError",
          "evalue": "name 'df_clean' is not defined",
          "traceback": [
            "\u001b[0;31m---------------------------------------------------------------------------\u001b[0m",
            "\u001b[0;31mNameError\u001b[0m                                 Traceback (most recent call last)",
            "\u001b[0;32m/tmp/ipython-input-20-3511966787.py\u001b[0m in \u001b[0;36m<cell line: 0>\u001b[0;34m()\u001b[0m\n\u001b[1;32m      1\u001b[0m \u001b[0;31m# Safely drop old NEONATE column if it exists\u001b[0m\u001b[0;34m\u001b[0m\u001b[0;34m\u001b[0m\u001b[0m\n\u001b[0;32m----> 2\u001b[0;31m \u001b[0;32mif\u001b[0m \u001b[0;34m\"NEONATE\"\u001b[0m \u001b[0;32min\u001b[0m \u001b[0mdf_clean\u001b[0m\u001b[0;34m.\u001b[0m\u001b[0mcolumns\u001b[0m\u001b[0;34m:\u001b[0m\u001b[0;34m\u001b[0m\u001b[0;34m\u001b[0m\u001b[0m\n\u001b[0m\u001b[1;32m      3\u001b[0m     \u001b[0mdf_clean\u001b[0m \u001b[0;34m=\u001b[0m \u001b[0mdf_clean\u001b[0m\u001b[0;34m.\u001b[0m\u001b[0mdrop\u001b[0m\u001b[0;34m(\u001b[0m\u001b[0mcolumns\u001b[0m\u001b[0;34m=\u001b[0m\u001b[0;34m[\u001b[0m\u001b[0;34m\"NEONATE\"\u001b[0m\u001b[0;34m]\u001b[0m\u001b[0;34m)\u001b[0m\u001b[0;34m\u001b[0m\u001b[0;34m\u001b[0m\u001b[0m\n\u001b[1;32m      4\u001b[0m \u001b[0;34m\u001b[0m\u001b[0m\n\u001b[1;32m      5\u001b[0m \u001b[0;31m# Assign new NEONATE column (1 = neonate, 0 = non-neonate)\u001b[0m\u001b[0;34m\u001b[0m\u001b[0;34m\u001b[0m\u001b[0m\n",
            "\u001b[0;31mNameError\u001b[0m: name 'df_clean' is not defined"
          ]
        }
      ]
    },
    {
      "cell_type": "code",
      "source": [
        "import pandas as pd\n",
        "from scipy.stats import ttest_ind\n",
        "import matplotlib.pyplot as plt\n",
        "\n",
        "# Load your updated CSV\n",
        "df = pd.read_csv(\"stat_analysis_ICU_days_no_return.csv\")\n",
        "\n",
        "# Drop rows with missing data in required columns\n",
        "df_clean = df.dropna(subset=[\"PROC_AGE\", \"icu_end_d_day\"]).copy()\n",
        "\n",
        "# Ensure the column is explicitly created with int type (safe and clean)\n",
        "df_clean[\"NEONATE\"] = df_clean[\"PROC_AGE\"].apply(lambda x: 1 if x < 30 else 0).astype(int)\n",
        "\n",
        "# Separate groups\n",
        "neonates = df_clean[df_clean[\"NEONATE\"] == 1][\"icu_end_d_day\"]\n",
        "non_neonates = df_clean[df_clean[\"NEONATE\"] == 0][\"icu_end_d_day\"]\n",
        "\n",
        "# Run t-test\n",
        "t_stat, p_val = ttest_ind(neonates, non_neonates, equal_var=False)\n",
        "print(\"Independent t-test: CICU Length of Stay by Neonatal Status\")\n",
        "print(f\"t-statistic = {t_stat:.2f}\")\n",
        "print(f\"p-value = {p_val:.4f}\")\n",
        "\n",
        "# Boxplot\n",
        "plt.figure(figsize=(6, 5))\n",
        "plt.boxplot([neonates, non_neonates],\n",
        "            patch_artist=True,\n",
        "            tick_labels=[\"Neonates\", \"Non-Neonates\"],\n",
        "            boxprops=dict(facecolor=\"lightcoral\"),\n",
        "            medianprops=dict(color=\"black\"))\n",
        "plt.title(\"CICU Length of Stay by Neonatal Status\")\n",
        "plt.ylabel(\"CICU Stay (Days)\")\n",
        "plt.grid(True, linestyle='--', alpha=0.5)\n",
        "plt.tight_layout()\n",
        "plt.show()"
      ],
      "metadata": {
        "id": "EMdin2_6Ywlx"
      },
      "execution_count": null,
      "outputs": []
    },
    {
      "cell_type": "markdown",
      "source": [
        "#### CICU Length of Stay by Neonatal Status\n",
        "\n",
        "We conducted an independent t-test to evaluate whether the mean **Cardiac ICU (CICU) length of stay** differed between **neonates** (patients <30 days old at surgery) and **non-neonates**.\n",
        "\n",
        "- **t-statistic:** –1.44  \n",
        "- **p-value:** 0.1499\n",
        "\n",
        "---\n",
        "\n",
        "#### Interpretation\n",
        "\n",
        "There is **no statistically significant difference** in mean CICU stay between neonates and non-neonates at the conventional α = 0.05 level. Although neonates appeared to have slightly longer stays on average, this difference was **not large enough to rule out chance variation**.\n",
        "\n",
        "This suggests that while neonatal physiology may introduce additional clinical challenges, **age alone may not strongly predict prolonged CICU duration** in this sample."
      ],
      "metadata": {
        "id": "iSk8OfVmYT1f"
      }
    },
    {
      "cell_type": "code",
      "source": [
        "import pandas as pd\n",
        "import matplotlib.pyplot as plt\n",
        "\n",
        "# Load the dataset\n",
        "df = pd.read_csv(\"BIOSTATS_MASTER.csv\")\n",
        "\n",
        "# Drop rows with missing ICU LOS or age\n",
        "df_clean = df.dropna(subset=[\"icu_end_d_day\", \"PROC_AGE\"])\n",
        "\n",
        "# Fix: Safely assign NEONATE classification\n",
        "df_clean.loc[:, \"NEONATE\"] = df_clean[\"PROC_AGE\"] < 30\n",
        "\n",
        "# Split into groups\n",
        "neonates = df_clean[df_clean[\"NEONATE\"]][\"icu_end_d_day\"]\n",
        "non_neonates = df_clean[~df_clean[\"NEONATE\"]][\"icu_end_d_day\"]\n",
        "\n",
        "# Plot histogram\n",
        "plt.figure(figsize=(10, 6))\n",
        "plt.hist(neonates, bins=20, alpha=0.7, label=\"Neonates\", color=\"lightblue\", edgecolor=\"black\")\n",
        "plt.hist(non_neonates, bins=20, alpha=0.7, label=\"Non-Neonates\", color=\"salmon\", edgecolor=\"black\")\n",
        "plt.title(\"Distribution of ICU Length of Stay by Neonatal Status\")\n",
        "plt.xlabel(\"ICU Stay (Days)\")\n",
        "plt.ylabel(\"Number of Patients\")\n",
        "plt.legend()\n",
        "plt.grid(True, linestyle='--', alpha=0.5)\n",
        "plt.tight_layout()\n",
        "plt.show()"
      ],
      "metadata": {
        "colab": {
          "base_uri": "https://localhost:8080/",
          "height": 361
        },
        "id": "cxOUTuV9Y-r6",
        "outputId": "3d3e65f0-2646-4c24-cbc3-1f5246fdb2d1"
      },
      "execution_count": null,
      "outputs": [
        {
          "output_type": "error",
          "ename": "KeyError",
          "evalue": "['PROC_AGE']",
          "traceback": [
            "\u001b[0;31m---------------------------------------------------------------------------\u001b[0m",
            "\u001b[0;31mKeyError\u001b[0m                                  Traceback (most recent call last)",
            "\u001b[0;32m/tmp/ipython-input-27-444389754.py\u001b[0m in \u001b[0;36m<cell line: 0>\u001b[0;34m()\u001b[0m\n\u001b[1;32m      6\u001b[0m \u001b[0;34m\u001b[0m\u001b[0m\n\u001b[1;32m      7\u001b[0m \u001b[0;31m# Drop rows with missing ICU LOS or age\u001b[0m\u001b[0;34m\u001b[0m\u001b[0;34m\u001b[0m\u001b[0m\n\u001b[0;32m----> 8\u001b[0;31m \u001b[0mdf_clean\u001b[0m \u001b[0;34m=\u001b[0m \u001b[0mdf\u001b[0m\u001b[0;34m.\u001b[0m\u001b[0mdropna\u001b[0m\u001b[0;34m(\u001b[0m\u001b[0msubset\u001b[0m\u001b[0;34m=\u001b[0m\u001b[0;34m[\u001b[0m\u001b[0;34m\"icu_end_d_day\"\u001b[0m\u001b[0;34m,\u001b[0m \u001b[0;34m\"PROC_AGE\"\u001b[0m\u001b[0;34m]\u001b[0m\u001b[0;34m)\u001b[0m\u001b[0;34m\u001b[0m\u001b[0;34m\u001b[0m\u001b[0m\n\u001b[0m\u001b[1;32m      9\u001b[0m \u001b[0;34m\u001b[0m\u001b[0m\n\u001b[1;32m     10\u001b[0m \u001b[0;31m# Fix: Safely assign NEONATE classification\u001b[0m\u001b[0;34m\u001b[0m\u001b[0;34m\u001b[0m\u001b[0m\n",
            "\u001b[0;32m/usr/local/lib/python3.11/dist-packages/pandas/core/frame.py\u001b[0m in \u001b[0;36mdropna\u001b[0;34m(self, axis, how, thresh, subset, inplace, ignore_index)\u001b[0m\n\u001b[1;32m   6668\u001b[0m             \u001b[0mcheck\u001b[0m \u001b[0;34m=\u001b[0m \u001b[0mindices\u001b[0m \u001b[0;34m==\u001b[0m \u001b[0;34m-\u001b[0m\u001b[0;36m1\u001b[0m\u001b[0;34m\u001b[0m\u001b[0;34m\u001b[0m\u001b[0m\n\u001b[1;32m   6669\u001b[0m             \u001b[0;32mif\u001b[0m \u001b[0mcheck\u001b[0m\u001b[0;34m.\u001b[0m\u001b[0many\u001b[0m\u001b[0;34m(\u001b[0m\u001b[0;34m)\u001b[0m\u001b[0;34m:\u001b[0m\u001b[0;34m\u001b[0m\u001b[0;34m\u001b[0m\u001b[0m\n\u001b[0;32m-> 6670\u001b[0;31m                 \u001b[0;32mraise\u001b[0m \u001b[0mKeyError\u001b[0m\u001b[0;34m(\u001b[0m\u001b[0mnp\u001b[0m\u001b[0;34m.\u001b[0m\u001b[0marray\u001b[0m\u001b[0;34m(\u001b[0m\u001b[0msubset\u001b[0m\u001b[0;34m)\u001b[0m\u001b[0;34m[\u001b[0m\u001b[0mcheck\u001b[0m\u001b[0;34m]\u001b[0m\u001b[0;34m.\u001b[0m\u001b[0mtolist\u001b[0m\u001b[0;34m(\u001b[0m\u001b[0;34m)\u001b[0m\u001b[0;34m)\u001b[0m\u001b[0;34m\u001b[0m\u001b[0;34m\u001b[0m\u001b[0m\n\u001b[0m\u001b[1;32m   6671\u001b[0m             \u001b[0magg_obj\u001b[0m \u001b[0;34m=\u001b[0m \u001b[0mself\u001b[0m\u001b[0;34m.\u001b[0m\u001b[0mtake\u001b[0m\u001b[0;34m(\u001b[0m\u001b[0mindices\u001b[0m\u001b[0;34m,\u001b[0m \u001b[0maxis\u001b[0m\u001b[0;34m=\u001b[0m\u001b[0magg_axis\u001b[0m\u001b[0;34m)\u001b[0m\u001b[0;34m\u001b[0m\u001b[0;34m\u001b[0m\u001b[0m\n\u001b[1;32m   6672\u001b[0m \u001b[0;34m\u001b[0m\u001b[0m\n",
            "\u001b[0;31mKeyError\u001b[0m: ['PROC_AGE']"
          ]
        }
      ]
    },
    {
      "cell_type": "markdown",
      "source": [
        "#### Distribution of ICU Stay by Neonatal Status\n",
        "\n",
        "This histogram displays the distribution of ICU length of stay (`icu_end_d_day`) for two groups:\n",
        "- **Neonates** (age at procedure < 30 days)\n",
        "- **Non-neonates** (age at procedure ≥ 30 days)\n",
        "\n",
        "Key observations:\n",
        "- Both distributions are right-skewed, indicating that most patients had relatively short ICU stays but a few had prolonged stays.\n",
        "- Neonates show a slightly broader spread and longer upper tail.\n",
        "- Visual overlap suggests variability within both groups, supporting the t-test result (p = 0.1499) that the difference in means is **not statistically significant** at the α = 0.05 level.\n",
        "\n",
        "This distribution helps illustrate that although neonates often face more complex postoperative courses, the mean ICU stay difference may be influenced by wide intra-group variation."
      ],
      "metadata": {
        "id": "7HHnaAVptfJs"
      }
    },
    {
      "cell_type": "markdown",
      "source": [
        "#### Do Neonates Require Greater Hemodynamic Support Postoperatively?\n",
        "\n",
        "In Question 1, we assessed whether neonatal patients experience prolonged ICU stays, a broad indicator of postoperative vulnerability.\n",
        "\n",
        "To further characterize this risk, we now examine a more acute physiologic marker —  \n",
        "**the use of vasopressors in the immediate postoperative period.**\n",
        "\n",
        "Due to limited cardiac reserve and immature physiology, neonates are thought to be at higher risk for needing vasoactive support after surgery."
      ],
      "metadata": {
        "id": "jPSvS_NZ4H9a"
      }
    },
    {
      "cell_type": "markdown",
      "source": [
        "### Q2: Are Neonates More Likely to Require Postoperative Vasopressors?\n",
        "\n",
        "**Test Type:** Chi-Square Test of Independence\n",
        "\n",
        "We now assess whether **neonatal status** is associated with the need for **vasopressor support after surgery** — a marker of hemodynamic instability.\n",
        "\n",
        "---\n",
        "\n",
        "### Variables\n",
        "\n",
        "- **NEONATE**:  \n",
        "  - `1` = Neonate (age < 30 days)  \n",
        "  - `0` = Non-neonate\n",
        "\n",
        "- **POSTOP_VASO_YN**:  \n",
        "  - `1` = Received vasopressors  \n",
        "  - `0` = Did not receive vasopressors\n",
        "\n",
        "---\n",
        "\n",
        "### Hypotheses\n",
        "\n",
        "- **Null (H₀):** Vasopressor use is independent of neonatal status  \n",
        "- **Alternative (H₁):** Vasopressor use is associated with neonatal status\n",
        "\n",
        "---\n",
        "\n",
        "### Rationale for Chi-Square Test\n",
        "\n",
        "This test compares the distribution of one **categorical variable** across levels of another.  \n",
        "It is appropriate when:\n",
        "- Both variables are categorical  \n",
        "- Expected cell counts are ≥ 5  \n",
        "- Normality is not assumed"
      ],
      "metadata": {
        "id": "VHVgx3NTXSxv"
      }
    },
    {
      "cell_type": "code",
      "source": [
        "import pandas as pd\n",
        "from scipy.stats import chi2_contingency\n",
        "\n",
        "# Load the cleaned dataset\n",
        "df = pd.read_csv(\"BIOSTATS_MASTER.csv\")\n",
        "\n",
        "# Create NEONATE column (1 if <30 days old, else 0)\n",
        "df[\"NEONATE\"] = df[\"PROC_AGE\"].astype(float).apply(lambda x: 1 if x < 30 else 0)\n",
        "\n",
        "# Create binary POSTOP_VASO_YN column from VASO_INFUS (Yes/No)\n",
        "df[\"POSTOP_VASO_YN\"] = df[\"VASO_INFUS\"].astype(str).str.strip().str.upper().map({'YES': 1, 'NO': 0})\n",
        "\n",
        "# Drop rows with missing or unmappable values\n",
        "df_clean = df.dropna(subset=[\"NEONATE\", \"POSTOP_VASO_YN\"])\n",
        "\n",
        "# Build contingency table\n",
        "contingency = pd.crosstab(df_clean[\"NEONATE\"], df_clean[\"POSTOP_VASO_YN\"])\n",
        "print(\"Contingency Table:\\n\", contingency)\n",
        "\n",
        "# Run Chi-Square Test\n",
        "chi2, p, dof, expected = chi2_contingency(contingency)\n",
        "\n",
        "# Display results\n",
        "print(\"\\nChi-Square Test Results:\")\n",
        "print(\"Chi-square statistic:\", round(chi2, 2))\n",
        "print(\"Degrees of freedom:\", dof)\n",
        "print(\"p-value:\", round(p, 4))"
      ],
      "metadata": {
        "colab": {
          "base_uri": "https://localhost:8080/",
          "height": 655
        },
        "id": "by6OrdaE-jeM",
        "outputId": "4b096ad6-6c8b-47cb-f56c-d2d9e0ce31d5"
      },
      "execution_count": null,
      "outputs": [
        {
          "output_type": "error",
          "ename": "KeyError",
          "evalue": "'PROC_AGE'",
          "traceback": [
            "\u001b[0;31m---------------------------------------------------------------------------\u001b[0m",
            "\u001b[0;31mKeyError\u001b[0m                                  Traceback (most recent call last)",
            "\u001b[0;32m/usr/local/lib/python3.11/dist-packages/pandas/core/indexes/base.py\u001b[0m in \u001b[0;36mget_loc\u001b[0;34m(self, key)\u001b[0m\n\u001b[1;32m   3804\u001b[0m         \u001b[0;32mtry\u001b[0m\u001b[0;34m:\u001b[0m\u001b[0;34m\u001b[0m\u001b[0;34m\u001b[0m\u001b[0m\n\u001b[0;32m-> 3805\u001b[0;31m             \u001b[0;32mreturn\u001b[0m \u001b[0mself\u001b[0m\u001b[0;34m.\u001b[0m\u001b[0m_engine\u001b[0m\u001b[0;34m.\u001b[0m\u001b[0mget_loc\u001b[0m\u001b[0;34m(\u001b[0m\u001b[0mcasted_key\u001b[0m\u001b[0;34m)\u001b[0m\u001b[0;34m\u001b[0m\u001b[0;34m\u001b[0m\u001b[0m\n\u001b[0m\u001b[1;32m   3806\u001b[0m         \u001b[0;32mexcept\u001b[0m \u001b[0mKeyError\u001b[0m \u001b[0;32mas\u001b[0m \u001b[0merr\u001b[0m\u001b[0;34m:\u001b[0m\u001b[0;34m\u001b[0m\u001b[0;34m\u001b[0m\u001b[0m\n",
            "\u001b[0;32mindex.pyx\u001b[0m in \u001b[0;36mpandas._libs.index.IndexEngine.get_loc\u001b[0;34m()\u001b[0m\n",
            "\u001b[0;32mindex.pyx\u001b[0m in \u001b[0;36mpandas._libs.index.IndexEngine.get_loc\u001b[0;34m()\u001b[0m\n",
            "\u001b[0;32mpandas/_libs/hashtable_class_helper.pxi\u001b[0m in \u001b[0;36mpandas._libs.hashtable.PyObjectHashTable.get_item\u001b[0;34m()\u001b[0m\n",
            "\u001b[0;32mpandas/_libs/hashtable_class_helper.pxi\u001b[0m in \u001b[0;36mpandas._libs.hashtable.PyObjectHashTable.get_item\u001b[0;34m()\u001b[0m\n",
            "\u001b[0;31mKeyError\u001b[0m: 'PROC_AGE'",
            "\nThe above exception was the direct cause of the following exception:\n",
            "\u001b[0;31mKeyError\u001b[0m                                  Traceback (most recent call last)",
            "\u001b[0;32m/tmp/ipython-input-21-2941072724.py\u001b[0m in \u001b[0;36m<cell line: 0>\u001b[0;34m()\u001b[0m\n\u001b[1;32m      6\u001b[0m \u001b[0;34m\u001b[0m\u001b[0m\n\u001b[1;32m      7\u001b[0m \u001b[0;31m# Create NEONATE column (1 if <30 days old, else 0)\u001b[0m\u001b[0;34m\u001b[0m\u001b[0;34m\u001b[0m\u001b[0m\n\u001b[0;32m----> 8\u001b[0;31m \u001b[0mdf\u001b[0m\u001b[0;34m[\u001b[0m\u001b[0;34m\"NEONATE\"\u001b[0m\u001b[0;34m]\u001b[0m \u001b[0;34m=\u001b[0m \u001b[0mdf\u001b[0m\u001b[0;34m[\u001b[0m\u001b[0;34m\"PROC_AGE\"\u001b[0m\u001b[0;34m]\u001b[0m\u001b[0;34m.\u001b[0m\u001b[0mastype\u001b[0m\u001b[0;34m(\u001b[0m\u001b[0mfloat\u001b[0m\u001b[0;34m)\u001b[0m\u001b[0;34m.\u001b[0m\u001b[0mapply\u001b[0m\u001b[0;34m(\u001b[0m\u001b[0;32mlambda\u001b[0m \u001b[0mx\u001b[0m\u001b[0;34m:\u001b[0m \u001b[0;36m1\u001b[0m \u001b[0;32mif\u001b[0m \u001b[0mx\u001b[0m \u001b[0;34m<\u001b[0m \u001b[0;36m30\u001b[0m \u001b[0;32melse\u001b[0m \u001b[0;36m0\u001b[0m\u001b[0;34m)\u001b[0m\u001b[0;34m\u001b[0m\u001b[0;34m\u001b[0m\u001b[0m\n\u001b[0m\u001b[1;32m      9\u001b[0m \u001b[0;34m\u001b[0m\u001b[0m\n\u001b[1;32m     10\u001b[0m \u001b[0;31m# Create binary POSTOP_VASO_YN column from VASO_INFUS (Yes/No)\u001b[0m\u001b[0;34m\u001b[0m\u001b[0;34m\u001b[0m\u001b[0m\n",
            "\u001b[0;32m/usr/local/lib/python3.11/dist-packages/pandas/core/frame.py\u001b[0m in \u001b[0;36m__getitem__\u001b[0;34m(self, key)\u001b[0m\n\u001b[1;32m   4100\u001b[0m             \u001b[0;32mif\u001b[0m \u001b[0mself\u001b[0m\u001b[0;34m.\u001b[0m\u001b[0mcolumns\u001b[0m\u001b[0;34m.\u001b[0m\u001b[0mnlevels\u001b[0m \u001b[0;34m>\u001b[0m \u001b[0;36m1\u001b[0m\u001b[0;34m:\u001b[0m\u001b[0;34m\u001b[0m\u001b[0;34m\u001b[0m\u001b[0m\n\u001b[1;32m   4101\u001b[0m                 \u001b[0;32mreturn\u001b[0m \u001b[0mself\u001b[0m\u001b[0;34m.\u001b[0m\u001b[0m_getitem_multilevel\u001b[0m\u001b[0;34m(\u001b[0m\u001b[0mkey\u001b[0m\u001b[0;34m)\u001b[0m\u001b[0;34m\u001b[0m\u001b[0;34m\u001b[0m\u001b[0m\n\u001b[0;32m-> 4102\u001b[0;31m             \u001b[0mindexer\u001b[0m \u001b[0;34m=\u001b[0m \u001b[0mself\u001b[0m\u001b[0;34m.\u001b[0m\u001b[0mcolumns\u001b[0m\u001b[0;34m.\u001b[0m\u001b[0mget_loc\u001b[0m\u001b[0;34m(\u001b[0m\u001b[0mkey\u001b[0m\u001b[0;34m)\u001b[0m\u001b[0;34m\u001b[0m\u001b[0;34m\u001b[0m\u001b[0m\n\u001b[0m\u001b[1;32m   4103\u001b[0m             \u001b[0;32mif\u001b[0m \u001b[0mis_integer\u001b[0m\u001b[0;34m(\u001b[0m\u001b[0mindexer\u001b[0m\u001b[0;34m)\u001b[0m\u001b[0;34m:\u001b[0m\u001b[0;34m\u001b[0m\u001b[0;34m\u001b[0m\u001b[0m\n\u001b[1;32m   4104\u001b[0m                 \u001b[0mindexer\u001b[0m \u001b[0;34m=\u001b[0m \u001b[0;34m[\u001b[0m\u001b[0mindexer\u001b[0m\u001b[0;34m]\u001b[0m\u001b[0;34m\u001b[0m\u001b[0;34m\u001b[0m\u001b[0m\n",
            "\u001b[0;32m/usr/local/lib/python3.11/dist-packages/pandas/core/indexes/base.py\u001b[0m in \u001b[0;36mget_loc\u001b[0;34m(self, key)\u001b[0m\n\u001b[1;32m   3810\u001b[0m             ):\n\u001b[1;32m   3811\u001b[0m                 \u001b[0;32mraise\u001b[0m \u001b[0mInvalidIndexError\u001b[0m\u001b[0;34m(\u001b[0m\u001b[0mkey\u001b[0m\u001b[0;34m)\u001b[0m\u001b[0;34m\u001b[0m\u001b[0;34m\u001b[0m\u001b[0m\n\u001b[0;32m-> 3812\u001b[0;31m             \u001b[0;32mraise\u001b[0m \u001b[0mKeyError\u001b[0m\u001b[0;34m(\u001b[0m\u001b[0mkey\u001b[0m\u001b[0;34m)\u001b[0m \u001b[0;32mfrom\u001b[0m \u001b[0merr\u001b[0m\u001b[0;34m\u001b[0m\u001b[0;34m\u001b[0m\u001b[0m\n\u001b[0m\u001b[1;32m   3813\u001b[0m         \u001b[0;32mexcept\u001b[0m \u001b[0mTypeError\u001b[0m\u001b[0;34m:\u001b[0m\u001b[0;34m\u001b[0m\u001b[0;34m\u001b[0m\u001b[0m\n\u001b[1;32m   3814\u001b[0m             \u001b[0;31m# If we have a listlike key, _check_indexing_error will raise\u001b[0m\u001b[0;34m\u001b[0m\u001b[0;34m\u001b[0m\u001b[0m\n",
            "\u001b[0;31mKeyError\u001b[0m: 'PROC_AGE'"
          ]
        }
      ]
    },
    {
      "cell_type": "code",
      "source": [],
      "metadata": {
        "id": "t3RHM7VlXO0s"
      },
      "execution_count": null,
      "outputs": []
    },
    {
      "cell_type": "markdown",
      "source": [
        "#### Chi-Square Test Results\n",
        "\n",
        "#### Observed Counts (Contingency Table)\n",
        "\n",
        "| Neonatal Status | No Vasopressors | Yes Vasopressors | Total |\n",
        "|-----------------|------------------|-------------------|-------|\n",
        "| Non-neonates (0) |        62         |        186         | 248   |\n",
        "| Neonates (1)     |        48         |         26         | 74    |\n",
        "| **Total**        |      110         |        212         | 322   |\n",
        "\n",
        "---\n",
        "\n",
        "#### Row Proportions (% Requiring Vasopressors)\n",
        "\n",
        "| Neonatal Status | % Requiring Vasopressors |\n",
        "|-----------------|--------------------------|\n",
        "| Non-neonates    | 186 / 248 = **75.0%**     |\n",
        "| Neonates        |  26 / 74 = **35.1%**      |\n",
        "\n",
        "---\n",
        "\n",
        "#### Chi-Square Output\n",
        "\n",
        "- **Chi-square statistic:** 38.52  \n",
        "- **Degrees of freedom:** 1  \n",
        "- **p-value:** < 0.001\n",
        "\n",
        "➡️ **Conclusion:**  \n",
        "There is a statistically significant association between neonatal status and vasopressor use.  \n",
        "We **reject the null hypothesis**."
      ],
      "metadata": {
        "id": "xrWYXy5xZunu"
      }
    },
    {
      "cell_type": "code",
      "source": [
        "import pandas as pd\n",
        "import matplotlib.pyplot as plt\n",
        "\n",
        "# Load your data\n",
        "df = pd.read_csv(\"BIOSTATS_MASTER.csv\")\n",
        "\n",
        "# Convert neonatal status\n",
        "df[\"NEONATE\"] = (df[\"PROC_AGE\"].astype(float) < 30).astype(int)\n",
        "\n",
        "# Convert vasopressor use\n",
        "df[\"POSTOP_VASO_YN\"] = df[\"VASO_INFUS\"].replace({'Yes': 1, 'No': 0}).fillna(0).astype(int)\n",
        "\n",
        "# Create proportion table\n",
        "contingency = pd.crosstab(df[\"NEONATE\"], df[\"POSTOP_VASO_YN\"])\n",
        "proportions = contingency.div(contingency.sum(axis=1), axis=0)\n",
        "\n",
        "# Setup plot\n",
        "fig, ax = plt.subplots(figsize=(6, 5))  # this avoids the <Figure size ...> message\n",
        "\n",
        "# Plot stacked bar chart\n",
        "bar = proportions.plot(kind='bar', stacked=True, ax=ax, color=[\"lightgray\", \"tomato\"], edgecolor='black')\n",
        "\n",
        "# Custom x-tick labels\n",
        "bar.set_xticklabels(['Non-neonate', 'Neonate'])\n",
        "\n",
        "# Add percentages inside bars\n",
        "for i, total in enumerate(contingency.sum(axis=1)):\n",
        "    for j, val in enumerate(contingency.iloc[i]):\n",
        "        percent = val / total\n",
        "        ax.text(i, proportions.iloc[i, :j+1].sum() - (proportions.iloc[i, j] / 2),\n",
        "                f\"{percent:.0%}\", ha='center', va='center', fontsize=11, color=\"black\")\n",
        "\n",
        "# Labels and title\n",
        "ax.set_ylabel(\"Proportion\")\n",
        "ax.set_xlabel(\"Neonatal Status\")\n",
        "ax.set_title(\"Proportion of Patients Receiving Vasopressors by Neonatal Status\")\n",
        "ax.legend(title=\"Vasopressors\", labels=[\"No\", \"Yes\"], loc=\"upper right\")\n",
        "\n",
        "# Save figure\n",
        "plt.tight_layout()\n",
        "plt.savefig(\"vaso_barplot_cleaned.png\", bbox_inches='tight', dpi=300)\n",
        "plt.show()"
      ],
      "metadata": {
        "colab": {
          "base_uri": "https://localhost:8080/",
          "height": 655
        },
        "id": "Iq17URKURzbJ",
        "outputId": "ee891895-db44-42c1-b5da-10287c9e421c"
      },
      "execution_count": null,
      "outputs": [
        {
          "output_type": "error",
          "ename": "KeyError",
          "evalue": "'PROC_AGE'",
          "traceback": [
            "\u001b[0;31m---------------------------------------------------------------------------\u001b[0m",
            "\u001b[0;31mKeyError\u001b[0m                                  Traceback (most recent call last)",
            "\u001b[0;32m/usr/local/lib/python3.11/dist-packages/pandas/core/indexes/base.py\u001b[0m in \u001b[0;36mget_loc\u001b[0;34m(self, key)\u001b[0m\n\u001b[1;32m   3804\u001b[0m         \u001b[0;32mtry\u001b[0m\u001b[0;34m:\u001b[0m\u001b[0;34m\u001b[0m\u001b[0;34m\u001b[0m\u001b[0m\n\u001b[0;32m-> 3805\u001b[0;31m             \u001b[0;32mreturn\u001b[0m \u001b[0mself\u001b[0m\u001b[0;34m.\u001b[0m\u001b[0m_engine\u001b[0m\u001b[0;34m.\u001b[0m\u001b[0mget_loc\u001b[0m\u001b[0;34m(\u001b[0m\u001b[0mcasted_key\u001b[0m\u001b[0;34m)\u001b[0m\u001b[0;34m\u001b[0m\u001b[0;34m\u001b[0m\u001b[0m\n\u001b[0m\u001b[1;32m   3806\u001b[0m         \u001b[0;32mexcept\u001b[0m \u001b[0mKeyError\u001b[0m \u001b[0;32mas\u001b[0m \u001b[0merr\u001b[0m\u001b[0;34m:\u001b[0m\u001b[0;34m\u001b[0m\u001b[0;34m\u001b[0m\u001b[0m\n",
            "\u001b[0;32mindex.pyx\u001b[0m in \u001b[0;36mpandas._libs.index.IndexEngine.get_loc\u001b[0;34m()\u001b[0m\n",
            "\u001b[0;32mindex.pyx\u001b[0m in \u001b[0;36mpandas._libs.index.IndexEngine.get_loc\u001b[0;34m()\u001b[0m\n",
            "\u001b[0;32mpandas/_libs/hashtable_class_helper.pxi\u001b[0m in \u001b[0;36mpandas._libs.hashtable.PyObjectHashTable.get_item\u001b[0;34m()\u001b[0m\n",
            "\u001b[0;32mpandas/_libs/hashtable_class_helper.pxi\u001b[0m in \u001b[0;36mpandas._libs.hashtable.PyObjectHashTable.get_item\u001b[0;34m()\u001b[0m\n",
            "\u001b[0;31mKeyError\u001b[0m: 'PROC_AGE'",
            "\nThe above exception was the direct cause of the following exception:\n",
            "\u001b[0;31mKeyError\u001b[0m                                  Traceback (most recent call last)",
            "\u001b[0;32m/tmp/ipython-input-23-56987118.py\u001b[0m in \u001b[0;36m<cell line: 0>\u001b[0;34m()\u001b[0m\n\u001b[1;32m      6\u001b[0m \u001b[0;34m\u001b[0m\u001b[0m\n\u001b[1;32m      7\u001b[0m \u001b[0;31m# Convert neonatal status\u001b[0m\u001b[0;34m\u001b[0m\u001b[0;34m\u001b[0m\u001b[0m\n\u001b[0;32m----> 8\u001b[0;31m \u001b[0mdf\u001b[0m\u001b[0;34m[\u001b[0m\u001b[0;34m\"NEONATE\"\u001b[0m\u001b[0;34m]\u001b[0m \u001b[0;34m=\u001b[0m \u001b[0;34m(\u001b[0m\u001b[0mdf\u001b[0m\u001b[0;34m[\u001b[0m\u001b[0;34m\"PROC_AGE\"\u001b[0m\u001b[0;34m]\u001b[0m\u001b[0;34m.\u001b[0m\u001b[0mastype\u001b[0m\u001b[0;34m(\u001b[0m\u001b[0mfloat\u001b[0m\u001b[0;34m)\u001b[0m \u001b[0;34m<\u001b[0m \u001b[0;36m30\u001b[0m\u001b[0;34m)\u001b[0m\u001b[0;34m.\u001b[0m\u001b[0mastype\u001b[0m\u001b[0;34m(\u001b[0m\u001b[0mint\u001b[0m\u001b[0;34m)\u001b[0m\u001b[0;34m\u001b[0m\u001b[0;34m\u001b[0m\u001b[0m\n\u001b[0m\u001b[1;32m      9\u001b[0m \u001b[0;34m\u001b[0m\u001b[0m\n\u001b[1;32m     10\u001b[0m \u001b[0;31m# Convert vasopressor use\u001b[0m\u001b[0;34m\u001b[0m\u001b[0;34m\u001b[0m\u001b[0m\n",
            "\u001b[0;32m/usr/local/lib/python3.11/dist-packages/pandas/core/frame.py\u001b[0m in \u001b[0;36m__getitem__\u001b[0;34m(self, key)\u001b[0m\n\u001b[1;32m   4100\u001b[0m             \u001b[0;32mif\u001b[0m \u001b[0mself\u001b[0m\u001b[0;34m.\u001b[0m\u001b[0mcolumns\u001b[0m\u001b[0;34m.\u001b[0m\u001b[0mnlevels\u001b[0m \u001b[0;34m>\u001b[0m \u001b[0;36m1\u001b[0m\u001b[0;34m:\u001b[0m\u001b[0;34m\u001b[0m\u001b[0;34m\u001b[0m\u001b[0m\n\u001b[1;32m   4101\u001b[0m                 \u001b[0;32mreturn\u001b[0m \u001b[0mself\u001b[0m\u001b[0;34m.\u001b[0m\u001b[0m_getitem_multilevel\u001b[0m\u001b[0;34m(\u001b[0m\u001b[0mkey\u001b[0m\u001b[0;34m)\u001b[0m\u001b[0;34m\u001b[0m\u001b[0;34m\u001b[0m\u001b[0m\n\u001b[0;32m-> 4102\u001b[0;31m             \u001b[0mindexer\u001b[0m \u001b[0;34m=\u001b[0m \u001b[0mself\u001b[0m\u001b[0;34m.\u001b[0m\u001b[0mcolumns\u001b[0m\u001b[0;34m.\u001b[0m\u001b[0mget_loc\u001b[0m\u001b[0;34m(\u001b[0m\u001b[0mkey\u001b[0m\u001b[0;34m)\u001b[0m\u001b[0;34m\u001b[0m\u001b[0;34m\u001b[0m\u001b[0m\n\u001b[0m\u001b[1;32m   4103\u001b[0m             \u001b[0;32mif\u001b[0m \u001b[0mis_integer\u001b[0m\u001b[0;34m(\u001b[0m\u001b[0mindexer\u001b[0m\u001b[0;34m)\u001b[0m\u001b[0;34m:\u001b[0m\u001b[0;34m\u001b[0m\u001b[0;34m\u001b[0m\u001b[0m\n\u001b[1;32m   4104\u001b[0m                 \u001b[0mindexer\u001b[0m \u001b[0;34m=\u001b[0m \u001b[0;34m[\u001b[0m\u001b[0mindexer\u001b[0m\u001b[0;34m]\u001b[0m\u001b[0;34m\u001b[0m\u001b[0;34m\u001b[0m\u001b[0m\n",
            "\u001b[0;32m/usr/local/lib/python3.11/dist-packages/pandas/core/indexes/base.py\u001b[0m in \u001b[0;36mget_loc\u001b[0;34m(self, key)\u001b[0m\n\u001b[1;32m   3810\u001b[0m             ):\n\u001b[1;32m   3811\u001b[0m                 \u001b[0;32mraise\u001b[0m \u001b[0mInvalidIndexError\u001b[0m\u001b[0;34m(\u001b[0m\u001b[0mkey\u001b[0m\u001b[0;34m)\u001b[0m\u001b[0;34m\u001b[0m\u001b[0;34m\u001b[0m\u001b[0m\n\u001b[0;32m-> 3812\u001b[0;31m             \u001b[0;32mraise\u001b[0m \u001b[0mKeyError\u001b[0m\u001b[0;34m(\u001b[0m\u001b[0mkey\u001b[0m\u001b[0;34m)\u001b[0m \u001b[0;32mfrom\u001b[0m \u001b[0merr\u001b[0m\u001b[0;34m\u001b[0m\u001b[0;34m\u001b[0m\u001b[0m\n\u001b[0m\u001b[1;32m   3813\u001b[0m         \u001b[0;32mexcept\u001b[0m \u001b[0mTypeError\u001b[0m\u001b[0;34m:\u001b[0m\u001b[0;34m\u001b[0m\u001b[0;34m\u001b[0m\u001b[0m\n\u001b[1;32m   3814\u001b[0m             \u001b[0;31m# If we have a listlike key, _check_indexing_error will raise\u001b[0m\u001b[0;34m\u001b[0m\u001b[0;34m\u001b[0m\u001b[0m\n",
            "\u001b[0;31mKeyError\u001b[0m: 'PROC_AGE'"
          ]
        }
      ]
    },
    {
      "cell_type": "markdown",
      "source": [
        "#### Logistic Regression: Modeling Vasopressor Use by Neonatal Status\n",
        "\n",
        "While the chi-square test confirmed an association, it did not quantify the **magnitude** or **direction** of that relationship.\n",
        "\n",
        "We now use **binary logistic regression** to estimate how **neonatal status** affects the **likelihood of receiving postoperative vasopressors**.\n",
        "\n",
        "---\n",
        "\n",
        "### Why Logistic Regression?\n",
        "\n",
        "- Outcome variable: `POSTOP_VASO_YN`  \n",
        "  (1 = received vasopressors, 0 = did not)\n",
        "  \n",
        "- Predictor variable: `NEONATE`  \n",
        "  (1 = neonate, age < 30 days; 0 = non-neonate)\n",
        "\n",
        "- Output: **Odds Ratio (OR)** — indicates whether neonates are more or less likely to receive vasopressors\n",
        "\n",
        "This approach models the **probability** of vasopressor use and helps determine whether neonates are at increased risk of hemodynamic instability in the immediate postoperative period."
      ],
      "metadata": {
        "id": "OJiHgnLkgaSp"
      }
    },
    {
      "cell_type": "code",
      "source": [
        "import pandas as pd\n",
        "import statsmodels.api as sm\n",
        "\n",
        "# Load data\n",
        "df = pd.read_csv(\"BIOSTATS_MASTER.csv\")\n",
        "\n",
        "# Binary variables\n",
        "df[\"NEONATE\"] = (df[\"PROC_AGE\"].astype(float) < 30).astype(int)\n",
        "df[\"POSTOP_VASO_YN\"] = df[\"VASO_INFUS\"].astype(str).str.strip().str.upper().map({'YES': 1, 'NO': 0})\n",
        "\n",
        "# Drop missing values\n",
        "df_clean = df.dropna(subset=[\"NEONATE\", \"POSTOP_VASO_YN\"])\n",
        "\n",
        "# Define outcome and predictor\n",
        "X = sm.add_constant(df_clean[\"NEONATE\"])\n",
        "y = df_clean[\"POSTOP_VASO_YN\"]\n",
        "\n",
        "# Run logistic regression\n",
        "model = sm.Logit(y, X)\n",
        "result = model.fit()\n",
        "\n",
        "# Show summary\n",
        "print(result.summary())\n",
        "\n",
        "# Calculate odds ratio and 95% CI\n",
        "import numpy as np\n",
        "params = result.params\n",
        "conf = result.conf_int()\n",
        "conf['OR'] = np.exp(params)\n",
        "conf.columns = ['2.5%', '97.5%', 'OR']\n",
        "conf = np.exp(conf)\n",
        "print(\"\\nOdds Ratio with 95% CI:\\n\", conf)"
      ],
      "metadata": {
        "id": "ngkUenqWjUii"
      },
      "execution_count": null,
      "outputs": []
    },
    {
      "cell_type": "markdown",
      "source": [
        "#### Logistic Regression Results\n",
        "\n",
        "We modeled vasopressor use based on neonatal status.\n",
        "\n",
        "---\n",
        "\n",
        "**Reference Group:** Non-neonates (`NEONATE = 0`)  \n",
        "**Predictor:** Neonates (`NEONATE = 1`)\n",
        "\n",
        "---\n",
        "\n",
        "### Key Findings\n",
        "\n",
        "- **Odds Ratio (OR):** 0.18  \n",
        "- **95% Confidence Interval:** [0.10, 0.32]  \n",
        "- **p-value:** < 0.001\n",
        "\n",
        "---\n",
        "\n",
        "### Interpretation\n",
        "\n",
        "Neonates were **significantly less likely** to receive postoperative vasopressors.\n",
        "\n",
        "- The odds of vasopressor use were **82% lower** in neonates compared to non-neonates.\n",
        "- The confidence interval does not include 1, indicating a statistically significant effect.\n",
        "\n",
        "---\n",
        "\n",
        "### Clinical Insight\n",
        "\n",
        "Although neonates are typically viewed as more physiologically fragile, this model suggests older infants required **more pharmacologic hemodynamic support** after surgery.  \n",
        "This finding aligns with the earlier chi-square result and may reflect factors such as:\n",
        "- Greater procedural complexity in older infants\n",
        "- Institutional variations in vasopressor initiation\n",
        "- Unmeasured intraoperative risk factors"
      ],
      "metadata": {
        "id": "7xlcxkhOjZzL"
      }
    },
    {
      "cell_type": "code",
      "source": [
        "import pandas as pd\n",
        "import numpy as np\n",
        "import matplotlib.pyplot as plt\n",
        "\n",
        "# Odds ratio data\n",
        "or_df = pd.DataFrame({\n",
        "    \"Variable\": [\"NEONATE\"],\n",
        "    \"Odds Ratio\": [0.18],\n",
        "    \"CI Lower\": [0.10],\n",
        "    \"CI Upper\": [0.32]\n",
        "})\n",
        "\n",
        "# Plot\n",
        "fig, ax = plt.subplots(figsize=(6, 4))\n",
        "\n",
        "# Define y-position for the variable\n",
        "y_pos = [0]  # Single variable at position 0\n",
        "\n",
        "# Calculate error bars\n",
        "lower_error = or_df[\"Odds Ratio\"] - or_df[\"CI Lower\"]\n",
        "upper_error = or_df[\"CI Upper\"] - or_df[\"Odds Ratio\"]\n",
        "asymmetric_error = [lower_error.values, upper_error.values]\n",
        "\n",
        "# Plot odds ratio with error bar\n",
        "ax.errorbar(\n",
        "    x=or_df[\"Odds Ratio\"],\n",
        "    y=y_pos,\n",
        "    xerr=asymmetric_error,\n",
        "    fmt='o', color='black', ecolor='gray', elinewidth=3, capsize=5\n",
        ")\n",
        "\n",
        "# Formatting\n",
        "ax.axvline(x=1, color='red', linestyle='--', label='No Effect')\n",
        "ax.set_yticks(y_pos)\n",
        "ax.set_yticklabels(or_df[\"Variable\"])\n",
        "ax.set_xlabel(\"Odds Ratio (log scale)\")\n",
        "ax.set_xscale(\"log\")\n",
        "ax.set_title(\"Odds Ratio for Vasopressor Use by Neonatal Status\")\n",
        "ax.legend()\n",
        "\n",
        "plt.tight_layout()\n",
        "plt.savefig(\"odds_ratio_plot.png\", bbox_inches='tight', dpi=300)\n",
        "plt.show()"
      ],
      "metadata": {
        "colab": {
          "base_uri": "https://localhost:8080/",
          "height": 407
        },
        "id": "bQH1fS3ZX8w2",
        "outputId": "d62f0a08-e68f-414d-e4d5-02760fd7f928"
      },
      "execution_count": null,
      "outputs": [
        {
          "output_type": "display_data",
          "data": {
            "text/plain": [
              "<Figure size 600x400 with 1 Axes>"
            ],
            "image/png": "[encoded data removed]"
          },
          "metadata": {}
        }
      ]
    },
    {
      "cell_type": "markdown",
      "source": [
        "#### Odds Ratio Plot\n",
        "\n",
        "This plot helps us interpret the **strength and direction** of association between two groups:\n",
        "- **Neonates** (age < 30 days at surgery)\n",
        "- **Non-neonates** (older infants)\n",
        "\n",
        "The outcome we’re modeling is **postoperative vasopressor use**, and we’re asking:\n",
        "> Are neonates more or less likely to require vasopressors?\n",
        "\n",
        "---\n",
        "\n",
        "### How to Read This Plot:\n",
        "- The black **dot** shows the **odds ratio (OR)**: here, OR = 0.18.\n",
        "- The **horizontal bar** is the 95% **confidence interval (CI)**.\n",
        "  - It ranges from **0.10 to 0.32**.\n",
        "- The **red dashed line** at OR = 1 means **no difference** between groups.\n",
        "\n",
        "If the CI does **not cross 1**, the association is statistically significant.\n",
        "\n",
        "---\n",
        "\n",
        "### Interpretation:\n",
        "- An OR of **0.18** means **neonates are ~82% less likely** to receive vasopressors compared to non-neonates.\n",
        "- Since the entire CI is **below 1**, this result is **statistically significant**."
      ],
      "metadata": {
        "id": "F4XKpQqVnLq3"
      }
    },
    {
      "cell_type": "code",
      "source": [
        "import pandas as pd\n",
        "\n",
        "# Load your file (assuming you've uploaded it via the file browser in Colab)\n",
        "df_master = pd.read_csv(\"BIOSTATS_MASTER.csv\")\n",
        "\n",
        "# Confirm it's loaded\n",
        "df_master.head()"
      ],
      "metadata": {
        "colab": {
          "base_uri": "https://localhost:8080/",
          "height": 253
        },
        "id": "sD63hBZvVUAY",
        "outputId": "0a3bf687-09b6-4d24-f85b-54c49f4d23f6"
      },
      "execution_count": null,
      "outputs": [
        {
          "output_type": "execute_result",
          "data": {
            "text/plain": [
              "   BLIND_ID WEIGHT_K  WEIGHT     SEX AGE_K    AGE RACE RACE_W RACE_B  \\\n",
              "0     53003      Yes    2.82    Male   Yes  37.00  Yes    Yes     No   \n",
              "1     53004       No     NaN    Male   Yes  39.00  Yes    Yes     No   \n",
              "2     53005      Yes    2.50  Female   Yes  39.00   No    NaN    NaN   \n",
              "3     53010      Yes    3.48    Male   Yes  39.00  Yes    Yes     No   \n",
              "4     53011      Yes    1.12  Female   Yes  28.57  Yes     No    Yes   \n",
              "\n",
              "  other_race  ... CHROM_22 CHROM_13  CHROM_18 CHROM_21 CHROM_PIERRE  \\\n",
              "0         No  ...       No       No        No       No           No   \n",
              "1         No  ...       No       No        No       No           No   \n",
              "2        NaN  ...       No       No        No       No           No   \n",
              "3         No  ...       No       No        No       No           No   \n",
              "4         No  ...       No       No        No       No           No   \n",
              "\n",
              "   CHROM_CRI CHROM_OTH CHROM_ABNORM_OTH  VASO_INFUS PREOP_RISK_YN  \n",
              "0         No        No              NaN          NO            NO  \n",
              "1         No        No              NaN         YES           NaN  \n",
              "2         No        No              NaN         YES           NaN  \n",
              "3         No        No              NaN          NO           NaN  \n",
              "4         No        No              NaN         YES           NaN  \n",
              "\n",
              "[5 rows x 373 columns]"
            ],
            "text/html": [
              "\n",
              "  <div id=\"df-ed88f6a3-3137-492f-b7df-137fa9077701\" class=\"colab-df-container\">\n",
              "    <div>\n",
              "<style scoped>\n",
              "    .dataframe tbody tr th:only-of-type {\n",
              "        vertical-align: middle;\n",
              "    }\n",
              "\n",
              "    .dataframe tbody tr th {\n",
              "        vertical-align: top;\n",
              "    }\n",
              "\n",
              "    .dataframe thead th {\n",
              "        text-align: right;\n",
              "    }\n",
              "</style>\n",
              "<table border=\"1\" class=\"dataframe\">\n",
              "  <thead>\n",
              "    <tr style=\"text-align: right;\">\n",
              "      <th></th>\n",
              "      <th>BLIND_ID</th>\n",
              "      <th>WEIGHT_K</th>\n",
              "      <th>WEIGHT</th>\n",
              "      <th>SEX</th>\n",
              "      <th>AGE_K</th>\n",
              "      <th>AGE</th>\n",
              "      <th>RACE</th>\n",
              "      <th>RACE_W</th>\n",
              "      <th>RACE_B</th>\n",
              "      <th>other_race</th>\n",
              "      <th>...</th>\n",
              "      <th>CHROM_22</th>\n",
              "      <th>CHROM_13</th>\n",
              "      <th>CHROM_18</th>\n",
              "      <th>CHROM_21</th>\n",
              "      <th>CHROM_PIERRE</th>\n",
              "      <th>CHROM_CRI</th>\n",
              "      <th>CHROM_OTH</th>\n",
              "      <th>CHROM_ABNORM_OTH</th>\n",
              "      <th>VASO_INFUS</th>\n",
              "      <th>PREOP_RISK_YN</th>\n",
              "    </tr>\n",
              "  </thead>\n",
              "  <tbody>\n",
              "    <tr>\n",
              "      <th>0</th>\n",
              "      <td>53003</td>\n",
              "      <td>Yes</td>\n",
              "      <td>2.82</td>\n",
              "      <td>Male</td>\n",
              "      <td>Yes</td>\n",
              "      <td>37.00</td>\n",
              "      <td>Yes</td>\n",
              "      <td>Yes</td>\n",
              "      <td>No</td>\n",
              "      <td>No</td>\n",
              "      <td>...</td>\n",
              "      <td>No</td>\n",
              "      <td>No</td>\n",
              "      <td>No</td>\n",
              "      <td>No</td>\n",
              "      <td>No</td>\n",
              "      <td>No</td>\n",
              "      <td>No</td>\n",
              "      <td>NaN</td>\n",
              "      <td>NO</td>\n",
              "      <td>NO</td>\n",
              "    </tr>\n",
              "    <tr>\n",
              "      <th>1</th>\n",
              "      <td>53004</td>\n",
              "      <td>No</td>\n",
              "      <td>NaN</td>\n",
              "      <td>Male</td>\n",
              "      <td>Yes</td>\n",
              "      <td>39.00</td>\n",
              "      <td>Yes</td>\n",
              "      <td>Yes</td>\n",
              "      <td>No</td>\n",
              "      <td>No</td>\n",
              "      <td>...</td>\n",
              "      <td>No</td>\n",
              "      <td>No</td>\n",
              "      <td>No</td>\n",
              "      <td>No</td>\n",
              "      <td>No</td>\n",
              "      <td>No</td>\n",
              "      <td>No</td>\n",
              "      <td>NaN</td>\n",
              "      <td>YES</td>\n",
              "      <td>NaN</td>\n",
              "    </tr>\n",
              "    <tr>\n",
              "      <th>2</th>\n",
              "      <td>53005</td>\n",
              "      <td>Yes</td>\n",
              "      <td>2.50</td>\n",
              "      <td>Female</td>\n",
              "      <td>Yes</td>\n",
              "      <td>39.00</td>\n",
              "      <td>No</td>\n",
              "      <td>NaN</td>\n",
              "      <td>NaN</td>\n",
              "      <td>NaN</td>\n",
              "      <td>...</td>\n",
              "      <td>No</td>\n",
              "      <td>No</td>\n",
              "      <td>No</td>\n",
              "      <td>No</td>\n",
              "      <td>No</td>\n",
              "      <td>No</td>\n",
              "      <td>No</td>\n",
              "      <td>NaN</td>\n",
              "      <td>YES</td>\n",
              "      <td>NaN</td>\n",
              "    </tr>\n",
              "    <tr>\n",
              "      <th>3</th>\n",
              "      <td>53010</td>\n",
              "      <td>Yes</td>\n",
              "      <td>3.48</td>\n",
              "      <td>Male</td>\n",
              "      <td>Yes</td>\n",
              "      <td>39.00</td>\n",
              "      <td>Yes</td>\n",
              "      <td>Yes</td>\n",
              "      <td>No</td>\n",
              "      <td>No</td>\n",
              "      <td>...</td>\n",
              "      <td>No</td>\n",
              "      <td>No</td>\n",
              "      <td>No</td>\n",
              "      <td>No</td>\n",
              "      <td>No</td>\n",
              "      <td>No</td>\n",
              "      <td>No</td>\n",
              "      <td>NaN</td>\n",
              "      <td>NO</td>\n",
              "      <td>NaN</td>\n",
              "    </tr>\n",
              "    <tr>\n",
              "      <th>4</th>\n",
              "      <td>53011</td>\n",
              "      <td>Yes</td>\n",
              "      <td>1.12</td>\n",
              "      <td>Female</td>\n",
              "      <td>Yes</td>\n",
              "      <td>28.57</td>\n",
              "      <td>Yes</td>\n",
              "      <td>No</td>\n",
              "      <td>Yes</td>\n",
              "      <td>No</td>\n",
              "      <td>...</td>\n",
              "      <td>No</td>\n",
              "      <td>No</td>\n",
              "      <td>No</td>\n",
              "      <td>No</td>\n",
              "      <td>No</td>\n",
              "      <td>No</td>\n",
              "      <td>No</td>\n",
              "      <td>NaN</td>\n",
              "      <td>YES</td>\n",
              "      <td>NaN</td>\n",
              "    </tr>\n",
              "  </tbody>\n",
              "</table>\n",
              "<p>5 rows × 373 columns</p>\n",
              "</div>\n",
              "    <div class=\"colab-df-buttons\">\n",
              "\n",
              "  <div class=\"colab-df-container\">\n",
              "    <button class=\"colab-df-convert\" onclick=\"convertToInteractive('df-ed88f6a3-3137-492f-b7df-137fa9077701')\"\n",
              "            title=\"Convert this dataframe to an interactive table.\"\n",
              "            style=\"display:none;\">\n",
              "\n",
              "  <svg xmlns=\"http://www.w3.org/2000/svg\" height=\"24px\" viewBox=\"0 -960 960 960\">\n",
              "    <path d=\"M120-120v-720h720v720H120Zm60-500h600v-160H180v160Zm220 220h160v-160H400v160Zm0 220h160v-160H400v160ZM180-400h160v-160H180v160Zm440 0h160v-160H620v160ZM180-180h160v-160H180v160Zm440 0h160v-160H620v160Z\"/>\n",
              "  </svg>\n",
              "    </button>\n",
              "\n",
              "  <style>\n",
              "    .colab-df-container {\n",
              "      display:flex;\n",
              "      gap: 12px;\n",
              "    }\n",
              "\n",
              "    .colab-df-convert {\n",
              "      background-color: #E8F0FE;\n",
              "      border: none;\n",
              "      border-radius: 50%;\n",
              "      cursor: pointer;\n",
              "      display: none;\n",
              "      fill: #1967D2;\n",
              "      height: 32px;\n",
              "      padding: 0 0 0 0;\n",
              "      width: 32px;\n",
              "    }\n",
              "\n",
              "    .colab-df-convert:hover {\n",
              "      background-color: #E2EBFA;\n",
              "      box-shadow: 0px 1px 2px rgba(60, 64, 67, 0.3), 0px 1px 3px 1px rgba(60, 64, 67, 0.15);\n",
              "      fill: #174EA6;\n",
              "    }\n",
              "\n",
              "    .colab-df-buttons div {\n",
              "      margin-bottom: 4px;\n",
              "    }\n",
              "\n",
              "    [theme=dark] .colab-df-convert {\n",
              "      background-color: #3B4455;\n",
              "      fill: #D2E3FC;\n",
              "    }\n",
              "\n",
              "    [theme=dark] .colab-df-convert:hover {\n",
              "      background-color: #434B5C;\n",
              "      box-shadow: 0px 1px 3px 1px rgba(0, 0, 0, 0.15);\n",
              "      filter: drop-shadow(0px 1px 2px rgba(0, 0, 0, 0.3));\n",
              "      fill: #FFFFFF;\n",
              "    }\n",
              "  </style>\n",
              "\n",
              "    <script>\n",
              "      const buttonEl =\n",
              "        document.querySelector('#df-ed88f6a3-3137-492f-b7df-137fa9077701 button.colab-df-convert');\n",
              "      buttonEl.style.display =\n",
              "        google.colab.kernel.accessAllowed ? 'block' : 'none';\n",
              "\n",
              "      async function convertToInteractive(key) {\n",
              "        const element = document.querySelector('#df-ed88f6a3-3137-492f-b7df-137fa9077701');\n",
              "        const dataTable =\n",
              "          await google.colab.kernel.invokeFunction('convertToInteractive',\n",
              "                                                    [key], {});\n",
              "        if (!dataTable) return;\n",
              "\n",
              "        const docLinkHtml = 'Like what you see? Visit the ' +\n",
              "          '<a target=\"_blank\" href=https://colab.research.google.com/notebooks/data_table.ipynb>data table notebook</a>'\n",
              "          + ' to learn more about interactive tables.';\n",
              "        element.innerHTML = '';\n",
              "        dataTable['output_type'] = 'display_data';\n",
              "        await google.colab.output.renderOutput(dataTable, element);\n",
              "        const docLink = document.createElement('div');\n",
              "        docLink.innerHTML = docLinkHtml;\n",
              "        element.appendChild(docLink);\n",
              "      }\n",
              "    </script>\n",
              "  </div>\n",
              "\n",
              "\n",
              "    <div id=\"df-6feeb603-ce73-4911-9310-f68cc208dc70\">\n",
              "      <button class=\"colab-df-quickchart\" onclick=\"quickchart('df-6feeb603-ce73-4911-9310-f68cc208dc70')\"\n",
              "                title=\"Suggest charts\"\n",
              "                style=\"display:none;\">\n",
              "\n",
              "<svg xmlns=\"http://www.w3.org/2000/svg\" height=\"24px\"viewBox=\"0 0 24 24\"\n",
              "     width=\"24px\">\n",
              "    <g>\n",
              "        <path d=\"M19 3H5c-1.1 0-2 .9-2 2v14c0 1.1.9 2 2 2h14c1.1 0 2-.9 2-2V5c0-1.1-.9-2-2-2zM9 17H7v-7h2v7zm4 0h-2V7h2v10zm4 0h-2v-4h2v4z\"/>\n",
              "    </g>\n",
              "</svg>\n",
              "      </button>\n",
              "\n",
              "<style>\n",
              "  .colab-df-quickchart {\n",
              "      --bg-color: #E8F0FE;\n",
              "      --fill-color: #1967D2;\n",
              "      --hover-bg-color: #E2EBFA;\n",
              "      --hover-fill-color: #174EA6;\n",
              "      --disabled-fill-color: #AAA;\n",
              "      --disabled-bg-color: #DDD;\n",
              "  }\n",
              "\n",
              "  [theme=dark] .colab-df-quickchart {\n",
              "      --bg-color: #3B4455;\n",
              "      --fill-color: #D2E3FC;\n",
              "      --hover-bg-color: #434B5C;\n",
              "      --hover-fill-color: #FFFFFF;\n",
              "      --disabled-bg-color: #3B4455;\n",
              "      --disabled-fill-color: #666;\n",
              "  }\n",
              "\n",
              "  .colab-df-quickchart {\n",
              "    background-color: var(--bg-color);\n",
              "    border: none;\n",
              "    border-radius: 50%;\n",
              "    cursor: pointer;\n",
              "    display: none;\n",
              "    fill: var(--fill-color);\n",
              "    height: 32px;\n",
              "    padding: 0;\n",
              "    width: 32px;\n",
              "  }\n",
              "\n",
              "  .colab-df-quickchart:hover {\n",
              "    background-color: var(--hover-bg-color);\n",
              "    box-shadow: 0 1px 2px rgba(60, 64, 67, 0.3), 0 1px 3px 1px rgba(60, 64, 67, 0.15);\n",
              "    fill: var(--button-hover-fill-color);\n",
              "  }\n",
              "\n",
              "  .colab-df-quickchart-complete:disabled,\n",
              "  .colab-df-quickchart-complete:disabled:hover {\n",
              "    background-color: var(--disabled-bg-color);\n",
              "    fill: var(--disabled-fill-color);\n",
              "    box-shadow: none;\n",
              "  }\n",
              "\n",
              "  .colab-df-spinner {\n",
              "    border: 2px solid var(--fill-color);\n",
              "    border-color: transparent;\n",
              "    border-bottom-color: var(--fill-color);\n",
              "    animation:\n",
              "      spin 1s steps(1) infinite;\n",
              "  }\n",
              "\n",
              "  @keyframes spin {\n",
              "    0% {\n",
              "      border-color: transparent;\n",
              "      border-bottom-color: var(--fill-color);\n",
              "      border-left-color: var(--fill-color);\n",
              "    }\n",
              "    20% {\n",
              "      border-color: transparent;\n",
              "      border-left-color: var(--fill-color);\n",
              "      border-top-color: var(--fill-color);\n",
              "    }\n",
              "    30% {\n",
              "      border-color: transparent;\n",
              "      border-left-color: var(--fill-color);\n",
              "      border-top-color: var(--fill-color);\n",
              "      border-right-color: var(--fill-color);\n",
              "    }\n",
              "    40% {\n",
              "      border-color: transparent;\n",
              "      border-right-color: var(--fill-color);\n",
              "      border-top-color: var(--fill-color);\n",
              "    }\n",
              "    60% {\n",
              "      border-color: transparent;\n",
              "      border-right-color: var(--fill-color);\n",
              "    }\n",
              "    80% {\n",
              "      border-color: transparent;\n",
              "      border-right-color: var(--fill-color);\n",
              "      border-bottom-color: var(--fill-color);\n",
              "    }\n",
              "    90% {\n",
              "      border-color: transparent;\n",
              "      border-bottom-color: var(--fill-color);\n",
              "    }\n",
              "  }\n",
              "</style>\n",
              "\n",
              "      <script>\n",
              "        async function quickchart(key) {\n",
              "          const quickchartButtonEl =\n",
              "            document.querySelector('#' + key + ' button');\n",
              "          quickchartButtonEl.disabled = true;  // To prevent multiple clicks.\n",
              "          quickchartButtonEl.classList.add('colab-df-spinner');\n",
              "          try {\n",
              "            const charts = await google.colab.kernel.invokeFunction(\n",
              "                'suggestCharts', [key], {});\n",
              "          } catch (error) {\n",
              "            console.error('Error during call to suggestCharts:', error);\n",
              "          }\n",
              "          quickchartButtonEl.classList.remove('colab-df-spinner');\n",
              "          quickchartButtonEl.classList.add('colab-df-quickchart-complete');\n",
              "        }\n",
              "        (() => {\n",
              "          let quickchartButtonEl =\n",
              "            document.querySelector('#df-6feeb603-ce73-4911-9310-f68cc208dc70 button');\n",
              "          quickchartButtonEl.style.display =\n",
              "            google.colab.kernel.accessAllowed ? 'block' : 'none';\n",
              "        })();\n",
              "      </script>\n",
              "    </div>\n",
              "\n",
              "    </div>\n",
              "  </div>\n"
            ],
            "application/vnd.google.colaboratory.intrinsic+json": {
              "type": "dataframe",
              "variable_name": "df_master"
            }
          },
          "metadata": {},
          "execution_count": 5
        }
      ]
    },
    {
      "cell_type": "markdown",
      "source": [
        "## Q3: Do neonates with preoperative risk indicators experience longer ICU stays postoperatively?\n",
        "\n",
        "---\n",
        "\n",
        "**Hypotheses:**  \n",
        "- **Null Hypothesis (H₀):** Mean ICU stay is the same for neonates with and without preoperative risk factors.  \n",
        "- **Alternative Hypothesis (H₁):** Neonates with preoperative risk factors have a longer mean ICU stay.\n",
        "\n",
        "---\n",
        "\n",
        "**Statistical Test:**  \n",
        "Independent two-sample t-test using Welch’s correction (unequal variances)."
      ],
      "metadata": {
        "id": "aq6l56-jDCX3"
      }
    },
    {
      "cell_type": "code",
      "source": [
        "# Boxplot (clean, no warning, no legend)\n",
        "fig, ax = plt.subplots(figsize=(6, 5))\n",
        "\n",
        "sns.boxplot(\n",
        "    data=df_ttest,\n",
        "    x=\"PREOP_RISK_YN\",\n",
        "    y=\"icu_discharge_d_day\",\n",
        "    hue=\"PREOP_RISK_YN\",         # ← fixes the warning\n",
        "    palette=\"pastel\",\n",
        "    ax=ax,\n",
        "    legend=False                 # ← removes duplicate legend\n",
        ")\n",
        "\n",
        "ax.set_title(\"ICU Length of Stay by Preoperative Risk Status\")\n",
        "ax.set_xlabel(\"Preoperative Risk\")\n",
        "ax.set_ylabel(\"ICU Stay (Days)\")\n",
        "ax.grid(True, linestyle=\"--\", alpha=0.5)\n",
        "\n",
        "plt.tight_layout()\n",
        "plt.show()"
      ],
      "metadata": {
        "colab": {
          "base_uri": "https://localhost:8080/",
          "height": 507
        },
        "id": "BO0BZqMIV3wT",
        "outputId": "7a785f73-b3c3-4330-b004-a28d9004bcb3"
      },
      "execution_count": null,
      "outputs": [
        {
          "output_type": "display_data",
          "data": {
            "text/plain": [
              "<Figure size 600x500 with 1 Axes>"
            ],
            "image/png": "[encoded data removed]"
          },
          "metadata": {}
        }
      ]
    },
    {
      "cell_type": "markdown",
      "source": [
        "### Summary Table – Descriptive Statistics\n",
        "\n",
        "| Preoperative Risk Status | N   | Mean ICU Stay (days) | Std Dev | Median | Min | Max |\n",
        "|---------------------------|-----|-----------------------|---------|--------|-----|-----|\n",
        "| With Preop Risk           | 26  | 4.54                  | 4.15    | 3.00   | 1   | 19  |\n",
        "| Without Preop Risk        | 48  | 2.79                  | 1.25    | 2.00   | 1   | 6   |\n",
        "\n",
        "---\n",
        "\n",
        "### Group Comparison: Mean Difference\n",
        "\n",
        "| Comparison               | Difference in Means |\n",
        "|--------------------------|---------------------|\n",
        "| With Risk − Without Risk | 4.54 − 2.79 = **1.75 days** |\n",
        "\n",
        "---\n",
        "\n",
        "### T-Test Output\n",
        "\n",
        "- **T-statistic:** 2.10  \n",
        "- **Degrees of freedom:** Welch’s method used  \n",
        "- **p-value:** 0.045"
      ],
      "metadata": {
        "id": "J9TOdwbrb0OI"
      }
    },
    {
      "cell_type": "markdown",
      "source": [
        "### Interpretation\n",
        "\n",
        "There is a statistically significant difference in ICU length of stay between neonates **with** vs **without** preoperative risk factors (*p* < 0.05).  \n",
        "We **reject the null hypothesis** and conclude that **preoperative instability or genetic risk contributes to longer ICU recovery**.\n",
        "\n",
        "---\n",
        "\n",
        "### Clinical Insight\n",
        "\n",
        "This finding reinforces the idea that even among neonates, **preoperative condition matters**:\n",
        "\n",
        "- Early identification of high-risk neonates can support triage and ICU resource planning.\n",
        "- Risk scores incorporating intubation, vasoactives, abnormal tests, or chromosomal syndromes may help flag patients who may require extended postoperative care.\n",
        "- Future quality improvement efforts should consider **preop optimization** for this subgroup."
      ],
      "metadata": {
        "id": "iPy3C_cPb4wE"
      }
    },
    {
      "cell_type": "markdown",
      "source": [
        "# Surgical Burden & Physiologic Stress  \n",
        "**Does procedural complexity predict stress and slower recovery?**\n",
        "\n"
      ],
      "metadata": {
        "id": "v2AZ8gkBgNHj"
      }
    },
    {
      "cell_type": "markdown",
      "source": [
        "### Clinical Rationale  \n",
        "\n",
        "Longer **cardiopulmonary bypass (CPB)** and **cross-clamp times** increase metabolic demand and contribute to ischemia-reperfusion injury.  \n",
        "These intraoperative stressors may raise **postoperative lactate levels**, increase the risk of **complications**, and prolong **ICU stay**.  \n",
        "This chapter investigates how intraoperative factors predict markers of physiologic burden and recovery trajectory.\n",
        "\n",
        "---\n",
        "\n",
        "### Statistical Questions  \n",
        "\n",
        "1. **ANOVA**  \n",
        "   Do lactate levels differ across cross-clamp duration groups?\n",
        "\n",
        "2. **T-test**  \n",
        "   Do patients with longer CPB times have higher postoperative lactate?\n",
        "\n",
        "3. **Correlation**  \n",
        "   Is higher postoperative lactate associated with longer ICU stay?\n",
        "\n",
        "---\n",
        "\n",
        "### Grouping Definitions  \n",
        "\n",
        "- **Cross-Clamp Groups (for ANOVA):**  \n",
        "  - Short: < 40 minutes  \n",
        "  - Medium: 40–80 minutes  \n",
        "  - Long: > 80 minutes  "
      ],
      "metadata": {
        "id": "cVabVjCthM3n"
      }
    },
    {
      "cell_type": "code",
      "source": [
        "from google.colab import files\n",
        "upload=files.upload()"
      ],
      "metadata": {
        "id": "rQWZ7zenvrrW",
        "colab": {
          "base_uri": "https://localhost:8080/",
          "height": 72
        },
        "outputId": "4756926f-6aab-4fe0-ed43-bece13be1a08"
      },
      "execution_count": null,
      "outputs": [
        {
          "output_type": "display_data",
          "data": {
            "text/plain": [
              "<IPython.core.display.HTML object>"
            ],
            "text/html": [
              "\n",
              "     <input type=\"file\" id=\"files-d006b7f9-4462-4178-82d3-41fc92a08acc\" name=\"files[]\" multiple disabled\n",
              "        style=\"border:none\" />\n",
              "     <output id=\"result-d006b7f9-4462-4178-82d3-41fc92a08acc\">\n",
              "      Upload widget is only available when the cell has been executed in the\n",
              "      current browser session. Please rerun this cell to enable.\n",
              "      </output>\n",
              "      <script>// Copyright 2017 Google LLC\n",
              "//\n",
              "// Licensed under the Apache License, Version 2.0 (the \"License\");\n",
              "// you may not use this file except in compliance with the License.\n",
              "// You may obtain a copy of the License at\n",
              "//\n",
              "//      http://www.apache.org/licenses/LICENSE-2.0\n",
              "//\n",
              "// Unless required by applicable law or agreed to in writing, software\n",
              "// distributed under the License is distributed on an \"AS IS\" BASIS,\n",
              "// WITHOUT WARRANTIES OR CONDITIONS OF ANY KIND, either express or implied.\n",
              "// See the License for the specific language governing permissions and\n",
              "// limitations under the License.\n",
              "\n",
              "/**\n",
              " * @fileoverview Helpers for google.colab Python module.\n",
              " */\n",
              "(function(scope) {\n",
              "function span(text, styleAttributes = {}) {\n",
              "  const element = document.createElement('span');\n",
              "  element.textContent = text;\n",
              "  for (const key of Object.keys(styleAttributes)) {\n",
              "    element.style[key] = styleAttributes[key];\n",
              "  }\n",
              "  return element;\n",
              "}\n",
              "\n",
              "// Max number of bytes which will be uploaded at a time.\n",
              "const MAX_PAYLOAD_SIZE = 100 * 1024;\n",
              "\n",
              "function _uploadFiles(inputId, outputId) {\n",
              "  const steps = uploadFilesStep(inputId, outputId);\n",
              "  const outputElement = document.getElementById(outputId);\n",
              "  // Cache steps on the outputElement to make it available for the next call\n",
              "  // to uploadFilesContinue from Python.\n",
              "  outputElement.steps = steps;\n",
              "\n",
              "  return _uploadFilesContinue(outputId);\n",
              "}\n",
              "\n",
              "// This is roughly an async generator (not supported in the browser yet),\n",
              "// where there are multiple asynchronous steps and the Python side is going\n",
              "// to poll for completion of each step.\n",
              "// This uses a Promise to block the python side on completion of each step,\n",
              "// then passes the result of the previous step as the input to the next step.\n",
              "function _uploadFilesContinue(outputId) {\n",
              "  const outputElement = document.getElementById(outputId);\n",
              "  const steps = outputElement.steps;\n",
              "\n",
              "  const next = steps.next(outputElement.lastPromiseValue);\n",
              "  return Promise.resolve(next.value.promise).then((value) => {\n",
              "    // Cache the last promise value to make it available to the next\n",
              "    // step of the generator.\n",
              "    outputElement.lastPromiseValue = value;\n",
              "    return next.value.response;\n",
              "  });\n",
              "}\n",
              "\n",
              "/**\n",
              " * Generator function which is called between each async step of the upload\n",
              " * process.\n",
              " * @param {string} inputId Element ID of the input file picker element.\n",
              " * @param {string} outputId Element ID of the output display.\n",
              " * @return {!Iterable<!Object>} Iterable of next steps.\n",
              " */\n",
              "function* uploadFilesStep(inputId, outputId) {\n",
              "  const inputElement = document.getElementById(inputId);\n",
              "  inputElement.disabled = false;\n",
              "\n",
              "  const outputElement = document.getElementById(outputId);\n",
              "  outputElement.innerHTML = '';\n",
              "\n",
              "  const pickedPromise = new Promise((resolve) => {\n",
              "    inputElement.addEventListener('change', (e) => {\n",
              "      resolve(e.target.files);\n",
              "    });\n",
              "  });\n",
              "\n",
              "  const cancel = document.createElement('button');\n",
              "  inputElement.parentElement.appendChild(cancel);\n",
              "  cancel.textContent = 'Cancel upload';\n",
              "  const cancelPromise = new Promise((resolve) => {\n",
              "    cancel.onclick = () => {\n",
              "      resolve(null);\n",
              "    };\n",
              "  });\n",
              "\n",
              "  // Wait for the user to pick the files.\n",
              "  const files = yield {\n",
              "    promise: Promise.race([pickedPromise, cancelPromise]),\n",
              "    response: {\n",
              "      action: 'starting',\n",
              "    }\n",
              "  };\n",
              "\n",
              "  cancel.remove();\n",
              "\n",
              "  // Disable the input element since further picks are not allowed.\n",
              "  inputElement.disabled = true;\n",
              "\n",
              "  if (!files) {\n",
              "    return {\n",
              "      response: {\n",
              "        action: 'complete',\n",
              "      }\n",
              "    };\n",
              "  }\n",
              "\n",
              "  for (const file of files) {\n",
              "    const li = document.createElement('li');\n",
              "    li.append(span(file.name, {fontWeight: 'bold'}));\n",
              "    li.append(span(\n",
              "        `(${file.type || 'n/a'}) - ${file.size} bytes, ` +\n",
              "        `last modified: ${\n",
              "            file.lastModifiedDate ? file.lastModifiedDate.toLocaleDateString() :\n",
              "                                    'n/a'} - `));\n",
              "    const percent = span('0% done');\n",
              "    li.appendChild(percent);\n",
              "\n",
              "    outputElement.appendChild(li);\n",
              "\n",
              "    const fileDataPromise = new Promise((resolve) => {\n",
              "      const reader = new FileReader();\n",
              "      reader.onload = (e) => {\n",
              "        resolve(e.target.result);\n",
              "      };\n",
              "      reader.readAsArrayBuffer(file);\n",
              "    });\n",
              "    // Wait for the data to be ready.\n",
              "    let fileData = yield {\n",
              "      promise: fileDataPromise,\n",
              "      response: {\n",
              "        action: 'continue',\n",
              "      }\n",
              "    };\n",
              "\n",
              "    // Use a chunked sending to avoid message size limits. See b/62115660.\n",
              "    let position = 0;\n",
              "    do {\n",
              "      const length = Math.min(fileData.byteLength - position, MAX_PAYLOAD_SIZE);\n",
              "      const chunk = new Uint8Array(fileData, position, length);\n",
              "      position += length;\n",
              "\n",
              "      const base64 = btoa(String.fromCharCode.apply(null, chunk));\n",
              "      yield {\n",
              "        response: {\n",
              "          action: 'append',\n",
              "          file: file.name,\n",
              "          data: base64,\n",
              "        },\n",
              "      };\n",
              "\n",
              "      let percentDone = fileData.byteLength === 0 ?\n",
              "          100 :\n",
              "          Math.round((position / fileData.byteLength) * 100);\n",
              "      percent.textContent = `${percentDone}% done`;\n",
              "\n",
              "    } while (position < fileData.byteLength);\n",
              "  }\n",
              "\n",
              "  // All done.\n",
              "  yield {\n",
              "    response: {\n",
              "      action: 'complete',\n",
              "    }\n",
              "  };\n",
              "}\n",
              "\n",
              "scope.google = scope.google || {};\n",
              "scope.google.colab = scope.google.colab || {};\n",
              "scope.google.colab._files = {\n",
              "  _uploadFiles,\n",
              "  _uploadFilesContinue,\n",
              "};\n",
              "})(self);\n",
              "</script> "
            ]
          },
          "metadata": {}
        },
        {
          "output_type": "stream",
          "name": "stdout",
          "text": [
            "Saving BIOSTATS_MASTER.csv to BIOSTATS_MASTER (1).csv\n"
          ]
        }
      ]
    },
    {
      "cell_type": "code",
      "source": [
        "# Step: Remove manual outliers (lactate > 20 mmol/L)\n",
        "outlier_ids = [53333, 53489]\n",
        "df_clean = df[~df[\"BLIND_ID\"].isin(outlier_ids)].copy()\n",
        "\n",
        "# Confirm removal\n",
        "print(f\"Remaining patients after removing outliers: {len(df_clean)}\")"
      ],
      "metadata": {
        "colab": {
          "base_uri": "https://localhost:8080/"
        },
        "id": "_oQ4w2YoNkkU",
        "outputId": "77f238ef-9c7b-4f11-ed10-ccea487d76be"
      },
      "execution_count": 85,
      "outputs": [
        {
          "output_type": "stream",
          "name": "stdout",
          "text": [
            "Remaining patients after removing outliers: 320\n"
          ]
        }
      ]
    },
    {
      "cell_type": "markdown",
      "source": [
        "## Q1:**Do initial postoperative lactate levels differ across patients grouped by cross-clamp duration (Short, Medium, Long)?**\n",
        "\n",
        "---\n",
        "\n",
        "### Hypotheses\n",
        "\n",
        "- **Null (H₀):** Mean lactate levels are equal across all cross-clamp groups  \n",
        "- **Alternative (H₁):** At least one group has a different mean lactate level\n",
        "\n",
        "---\n",
        "\n",
        "### Statistical Test: One-Way ANOVA\n",
        "\n",
        "This test compares the mean of a continuous variable across three or more independent groups.\n",
        "\n",
        "---\n",
        "\n",
        "### Variables\n",
        "\n",
        "- **Grouping Variable:** `XCLAMP_T` (Cross-clamp time in minutes)  \n",
        "  - Grouped as:\n",
        "    - **Short**: < 40 min  \n",
        "    - **Medium**: 40–80 min  \n",
        "    - **Long**: > 80 min  \n",
        "\n",
        "- **Outcome Variable:** `LACTATE_VALUE`  \n",
        "  - Initial postoperative lactate measured closest to ICU admission\n",
        "\n",
        "- **Outliers Removed:** 2 patients with lactate > 20 mmol/L were excluded due to documented entry error."
      ],
      "metadata": {
        "id": "bjuVVZyVwjui"
      }
    },
    {
      "cell_type": "code",
      "source": [
        "import pandas as pd\n",
        "from scipy.stats import f_oneway\n",
        "\n",
        "# Load your dataset\n",
        "df = pd.read_csv(\"BIOSTATS_MASTER.csv\")\n",
        "\n",
        "# Exclude manual outliers based on BLIND_ID\n",
        "outlier_ids = [53333, 53489]\n",
        "df_clean = df[~df[\"BLIND_ID\"].isin(outlier_ids)].copy()\n",
        "\n",
        "# Define cross-clamp groups\n",
        "def categorize_clamp_time(x):\n",
        "    if x < 40:\n",
        "        return \"Short\"\n",
        "    elif 40 <= x <= 80:\n",
        "        return \"Medium\"\n",
        "    else:\n",
        "        return \"Long\"\n",
        "\n",
        "df_clean[\"xclamp_group\"] = df_clean[\"XCLAMP_T\"].apply(categorize_clamp_time)\n",
        "\n",
        "# Drop missing lactate values\n",
        "df_anova = df_clean.dropna(subset=[\"LACTATE_VALUE\", \"xclamp_group\"])\n",
        "\n",
        "# Create group-specific samples\n",
        "group_short = df_anova[df_anova[\"xclamp_group\"] == \"Short\"][\"LACTATE_VALUE\"]\n",
        "group_medium = df_anova[df_anova[\"xclamp_group\"] == \"Medium\"][\"LACTATE_VALUE\"]\n",
        "group_long = df_anova[df_anova[\"xclamp_group\"] == \"Long\"][\"LACTATE_VALUE\"]\n",
        "\n",
        "# Run one-way ANOVA\n",
        "f_stat, p_val = f_oneway(group_short, group_medium, group_long)\n",
        "\n",
        "# Print results\n",
        "print(f\"F-statistic: {f_stat:.2f}\")\n",
        "print(f\"P-value: {p_val:.4f}\")"
      ],
      "metadata": {
        "colab": {
          "base_uri": "https://localhost:8080/"
        },
        "id": "ogDJFUT6PSeu",
        "outputId": "1a656855-3a91-4a80-c2f9-95025d12578a"
      },
      "execution_count": 73,
      "outputs": [
        {
          "output_type": "stream",
          "name": "stdout",
          "text": [
            "F-statistic: 2.56\n",
            "P-value: 0.0792\n"
          ]
        }
      ]
    },
    {
      "cell_type": "markdown",
      "source": [
        "### Results\n",
        "\n",
        "- **F-statistic:** 2.56  \n",
        "- **P-value:** 0.0792  \n",
        "\n",
        "There is a **trend toward statistical significance**, but the difference in mean lactate levels across the three cross-clamp duration groups **did not meet the conventional threshold (p < 0.05)**.\n",
        "\n",
        "---\n",
        "\n",
        "### Clinical Interpretation\n",
        "\n",
        "While not statistically significant, this result may suggest **a relationship between cross-clamp time and metabolic stress** as measured by lactate.\n",
        "\n",
        "Further investigation using:\n",
        "- **Larger sample size**\n",
        "- **Post-hoc pairwise comparisons**\n",
        "- Or **continuous modeling (e.g., regression)**  \n",
        "may clarify the association.\n",
        "\n",
        "---\n",
        "\n",
        "### Limitations\n",
        "\n",
        "- Small group sizes may reduce power to detect significance  \n",
        "- Lactate values can fluctuate based on perfusion practices and sampling time  \n",
        "- No adjustment for patient weight, surgery type, or CPB time"
      ],
      "metadata": {
        "id": "x_YFC5m3xpEg"
      }
    },
    {
      "cell_type": "code",
      "source": [
        "import matplotlib.pyplot as plt\n",
        "import seaborn as sns\n",
        "\n",
        "fig, ax = plt.subplots(figsize=(8, 5))\n",
        "\n",
        "# Boxplot of lactate by cross-clamp group (w/o outliers)\n",
        "sns.boxplot(\n",
        "    data=df_anova,\n",
        "    x='xclamp_group',\n",
        "    y='LACTATE_VALUE',\n",
        "    showfliers=False,\n",
        "    boxprops=dict(alpha=0.7),\n",
        "    ax=ax\n",
        ")\n",
        "\n",
        "# Overlay raw data\n",
        "sns.stripplot(\n",
        "    data=df_anova,\n",
        "    x='xclamp_group',\n",
        "    y='LACTATE_VALUE',\n",
        "    color='black',\n",
        "    size=4,\n",
        "    jitter=0.2,\n",
        "    ax=ax\n",
        ")\n",
        "\n",
        "ax.set_title(\"Postop Lactate by Cross-Clamp Group (Box + Raw Data)\")\n",
        "ax.set_xlabel(\"Cross-Clamp Duration Group\")\n",
        "ax.set_ylabel(\"Initial Postop Lactate (mmol/L)\")\n",
        "plt.grid(True, linestyle=\"--\", alpha=0.3)\n",
        "plt.tight_layout()\n",
        "plt.show()"
      ],
      "metadata": {
        "colab": {
          "base_uri": "https://localhost:8080/",
          "height": 507
        },
        "id": "MQqAS7P3P-3V",
        "outputId": "52bf416b-5ba1-4572-c85c-a7fcbd5976e6"
      },
      "execution_count": 74,
      "outputs": [
        {
          "output_type": "display_data",
          "data": {
            "text/plain": [
              "<Figure size 800x500 with 1 Axes>"
            ],
            "image/png": "[encoded data removed]"
          },
          "metadata": {}
        }
      ]
    },
    {
      "cell_type": "markdown",
      "source": [
        "###Figure 1: Postop Lactate by Cross-Clamp Group (Box + Raw Data)\n",
        "\n",
        "- Lactate values appear **slightly higher** in the \"Long\" cross-clamp group.\n",
        "- **Boxplots** show some overlap in interquartile ranges across all three groups.\n",
        "- **Stripplot overlay** highlights individual patient clustering — most values fall below 6 mmol/L.\n",
        "- No clear visual outliers after cleaning, but distribution skew is visible.\n",
        "\n",
        "➡️ Interpretation:  \n",
        "While the median lactate rises with longer clamp time, there is **substantial variability** within each group — aligning with the non-significant ANOVA result."
      ],
      "metadata": {
        "id": "aCoJDWk21CHX"
      }
    },
    {
      "cell_type": "code",
      "source": [
        "g = sns.FacetGrid(\n",
        "    df_anova,\n",
        "    col=\"xclamp_group\",\n",
        "    height=4,\n",
        "    aspect=1\n",
        ")\n",
        "\n",
        "g.map(\n",
        "    sns.histplot,\n",
        "    \"LACTATE_VALUE\",\n",
        "    bins=10,\n",
        "    kde=True,\n",
        "    color=\"salmon\"\n",
        ")\n",
        "\n",
        "g.set_axis_labels(\"Initial Postop Lactate (mmol/L)\", \"Count\")\n",
        "g.set_titles(\"Group: {col_name}\")\n",
        "plt.tight_layout()\n",
        "plt.show()"
      ],
      "metadata": {
        "colab": {
          "base_uri": "https://localhost:8080/",
          "height": 407
        },
        "id": "rfYknnNxz_K-",
        "outputId": "bf04ac45-7c07-4307-d587-944367edd7df"
      },
      "execution_count": 75,
      "outputs": [
        {
          "output_type": "display_data",
          "data": {
            "text/plain": [
              "<Figure size 1200x400 with 3 Axes>"
            ],
            "image/png": "[encoded data removed]"
          },
          "metadata": {}
        }
      ]
    },
    {
      "cell_type": "markdown",
      "source": [
        "### Figure 2: Lactate Distribution by Cross-Clamp Group (Histogram + KDE)\n",
        "\n",
        "- Each panel shows the **frequency and shape** of lactate levels by group.\n",
        "- The **Long** group has a **right-shifted distribution**, with a mild increase in patients showing higher lactate.\n",
        "- **KDE curves** suggest subtle distributional shifts, but overlap remains between groups.\n",
        "\n",
        "➡️ Interpretation:  \n",
        "The shape of the distributions hints at a potential difference, but **the overlap supports the statistical result** — group differences are present, but not strong enough to reach significance in this cohort."
      ],
      "metadata": {
        "id": "y-ZLBGGu1Jw4"
      }
    },
    {
      "cell_type": "markdown",
      "source": [
        "### Post-Hoc Testing\n",
        "\n",
        "Although our ANOVA did not reach conventional significance (**p = 0.0792**), the trend suggested **possible differences** in postoperative lactate between cross-clamp groups.\n",
        "\n",
        "To further explore this, we use a **Tukey Honestly Significant Difference (HSD) test**, which compares **all pairs of group means** while adjusting for multiple comparisons.\n",
        "\n",
        "This helps determine:\n",
        "- If any specific groups (e.g., Short vs. Long) differ significantly  \n",
        "- Whether the trend seen in the data is driven by one group more than others\n",
        "\n",
        "Tukey HSD is appropriate here because:\n",
        "- ANOVA was used as the initial test  \n",
        "- We are comparing **more than two group means**  \n",
        "- Assumptions of normality and equal variances are reasonably met"
      ],
      "metadata": {
        "id": "Aq1cGdzORBqk"
      }
    },
    {
      "cell_type": "code",
      "source": [
        "from statsmodels.stats.multicomp import pairwise_tukeyhsd\n",
        "import statsmodels.api as sm\n",
        "\n",
        "# Run Tukey's HSD post-hoc test\n",
        "tukey = pairwise_tukeyhsd(\n",
        "    endog=df_anova[\"LACTATE_VALUE\"],      # Outcome variable\n",
        "    groups=df_anova[\"xclamp_group\"],      # Grouping variable (Short, Medium, Long)\n",
        "    alpha=0.05\n",
        ")\n",
        "\n",
        "# Display the summary table\n",
        "print(tukey.summary())"
      ],
      "metadata": {
        "colab": {
          "base_uri": "https://localhost:8080/"
        },
        "id": "MV3-VfIRQxE3",
        "outputId": "98f54fc3-597e-4bdf-e900-99591d2434e4"
      },
      "execution_count": 76,
      "outputs": [
        {
          "output_type": "stream",
          "name": "stdout",
          "text": [
            "Multiple Comparison of Means - Tukey HSD, FWER=0.05\n",
            "===================================================\n",
            "group1 group2 meandiff p-adj   lower  upper  reject\n",
            "---------------------------------------------------\n",
            "  Long Medium   0.1736 0.2254  -0.074 0.4212  False\n",
            "  Long  Short  -0.2711 0.4434 -0.7958 0.2536  False\n",
            "Medium  Short  -0.4447 0.1271 -0.9825 0.0931  False\n",
            "---------------------------------------------------\n"
          ]
        }
      ]
    },
    {
      "cell_type": "markdown",
      "source": [
        "### Post-Hoc Results: Tukey HSD\n",
        "\n",
        "| Comparison      | Mean Diff | 95% CI           | p-value | Significant? |\n",
        "|----------------|-----------|------------------|---------|---------------|\n",
        "| Long vs Medium | +0.17     | [-0.07, 0.42]     | 0.225   | ❌ No          |\n",
        "| Long vs Short  | –0.27     | [–0.80, +0.25]    | 0.443   | ❌ No          |\n",
        "| Medium vs Short| –0.44     | [–0.98, +0.09]    | 0.127   | ❌ No          |\n",
        "\n",
        "---\n",
        "\n",
        "### Interpretation\n",
        "\n",
        "- **No pairwise comparisons reached statistical significance** after correcting for multiple testing.\n",
        "- The **largest difference** was between Medium and Short clamp groups (–0.44 mmol/L), but this still did not meet the adjusted threshold (p = 0.127).\n",
        "- These results reinforce the original ANOVA finding — **cross-clamp groupings did not significantly differ in lactate levels** in this cohort.\n",
        "\n",
        "Clinically, this suggests that **clamp duration alone** may not explain postoperative metabolic stress, and other factors (e.g. perfusion strategy, comorbidities) may contribute more meaningfully."
      ],
      "metadata": {
        "id": "N4YTggHTRKAM"
      }
    },
    {
      "cell_type": "code",
      "source": [
        "import numpy as np\n",
        "import matplotlib.pyplot as plt\n",
        "import seaborn as sns\n",
        "import statsmodels.api as sm\n",
        "\n",
        "# Calculate means and confidence intervals\n",
        "group_stats = df_anova.groupby(\"xclamp_group\")[\"LACTATE_VALUE\"].agg([\"mean\", \"count\", \"std\"])\n",
        "group_stats[\"sem\"] = group_stats[\"std\"] / np.sqrt(group_stats[\"count\"])\n",
        "group_stats[\"ci95\"] = group_stats[\"sem\"] * 1.96  # 95% CI\n",
        "\n",
        "# Reset index for plotting\n",
        "group_stats = group_stats.reset_index()\n",
        "\n",
        "# Plot\n",
        "fig, ax = plt.subplots(figsize=(7, 5))\n",
        "sns.pointplot(\n",
        "    data=group_stats,\n",
        "    x=\"xclamp_group\",\n",
        "    y=\"mean\",\n",
        "    join=False,\n",
        "    color=\"darkred\",\n",
        "    markers=\"o\",\n",
        "    scale=1.2,\n",
        "    errwidth=1.5\n",
        ")\n",
        "\n",
        "# Add custom error bars (CI)\n",
        "ax.errorbar(\n",
        "    x=range(len(group_stats)),\n",
        "    y=group_stats[\"mean\"],\n",
        "    yerr=group_stats[\"ci95\"],\n",
        "    fmt='none',\n",
        "    capsize=5,\n",
        "    color='black'\n",
        ")\n",
        "\n",
        "ax.set_title(\"Mean Postop Lactate by Cross-Clamp Group (with 95% CI)\")\n",
        "ax.set_xlabel(\"Cross-Clamp Group\")\n",
        "ax.set_ylabel(\"Mean Lactate (mmol/L)\")\n",
        "plt.grid(True, linestyle=\"--\", alpha=0.3)\n",
        "plt.tight_layout()\n",
        "plt.show()"
      ],
      "metadata": {
        "colab": {
          "base_uri": "https://localhost:8080/",
          "height": 507
        },
        "id": "hsXZk-IhQ0T6",
        "outputId": "4a6e575b-6610-4dc4-c4dc-6e9b7f79f0be"
      },
      "execution_count": 78,
      "outputs": [
        {
          "output_type": "display_data",
          "data": {
            "text/plain": [
              "<Figure size 700x500 with 1 Axes>"
            ],
            "image/png": "[encoded data removed]"
          },
          "metadata": {}
        }
      ]
    },
    {
      "cell_type": "markdown",
      "source": [
        "###Figure: Mean Lactate by Cross-Clamp Group (w/ 95% CI)\n",
        "\n",
        "- **Group means** are plotted with **vertical error bars** showing the 95% confidence interval.\n",
        "- The **\"Long\" clamp group** has the highest mean lactate, while **\"Short\"** has the lowest.\n",
        "- However, the **confidence intervals overlap**, suggesting **no statistically significant difference**.\n",
        "\n",
        "➡️ **Interpretation**:  \n",
        "This visual reinforces the findings of both the ANOVA and post-hoc Tukey test — while lactate levels trend upward with clamp duration, the variation within groups limits statistical confidence.  \n",
        "The **overlapping CI bars** support the conclusion that cross-clamp time, on its own, may not reliably predict early metabolic stress."
      ],
      "metadata": {
        "id": "n9lXgclsR5ef"
      }
    },
    {
      "cell_type": "markdown",
      "source": [
        "## Q2: **Is the *mean postoperative lactate* level higher in patients with prolonged CPB times (≥90 minutes)?**\n",
        "\n",
        "---\n",
        "\n",
        "### Hypotheses  \n",
        "\n",
        "- **Null (H₀):** Mean postoperative lactate levels are equal in short and prolonged CPB groups  \n",
        "- **Alternative (H₁):** Mean postoperative lactate levels differ between short and prolonged CPB groups\n",
        "\n",
        "---\n",
        "\n",
        "### Statistical Test: Independent T-test  \n",
        "\n",
        "We compare the *mean* lactate levels between two CPB duration groups:\n",
        "- **Short CPB:** < 90 minutes  \n",
        "- **Prolonged CPB:** ≥ 90 minutes  \n",
        "\n",
        "This helps assess whether **longer cardiopulmonary bypass time** is associated with **greater metabolic stress**, reflected by higher serum lactate.\n",
        "\n",
        "---\n",
        "\n",
        "### 🔎 Variables Used  \n",
        "\n",
        "- `CPB_T` — Cardiopulmonary bypass time (minutes)  \n",
        "- `LACTATE_VALUE` — Initial postoperative lactate level (mmol/L)"
      ],
      "metadata": {
        "id": "zDPtI-sJ-TY9"
      }
    },
    {
      "cell_type": "code",
      "source": [
        "import pandas as pd\n",
        "\n",
        "# Load your master dataset again\n",
        "df = pd.read_csv(\"/content/BIOSTATS_MASTER.csv\")"
      ],
      "metadata": {
        "id": "In2J1ZK0-aZ8"
      },
      "execution_count": null,
      "outputs": []
    },
    {
      "cell_type": "code",
      "source": [
        "import pandas as pd\n",
        "from scipy.stats import ttest_ind\n",
        "\n",
        "# Load dataset\n",
        "df = pd.read_csv(\"BIOSTATS_MASTER.csv\")\n",
        "\n",
        "# Step 1: Remove lactate outliers\n",
        "lactate_outliers = [53333, 53489]\n",
        "df_clean = df[~df[\"BLIND_ID\"].isin(lactate_outliers)].copy()\n",
        "\n",
        "# Step 2: Drop missing CPB time or lactate values\n",
        "df_ttest = df_clean.dropna(subset=[\"CPB_T\", \"LACTATE_VALUE\"]).copy()\n",
        "\n",
        "# Step 3: Create CPB group column\n",
        "df_ttest[\"CPB_GROUP\"] = df_ttest[\"CPB_T\"].apply(\n",
        "    lambda x: \"Prolonged (≥90 min)\" if x >= 90 else \"Short (<90 min)\"\n",
        ")\n",
        "\n",
        "# Step 4: Create comparison groups\n",
        "group_short = df_ttest[df_ttest[\"CPB_GROUP\"] == \"Short (<90 min)\"][\"LACTATE_VALUE\"]\n",
        "group_long = df_ttest[df_ttest[\"CPB_GROUP\"] == \"Prolonged (≥90 min)\"][\"LACTATE_VALUE\"]\n",
        "\n",
        "# Step 5: Run t-test\n",
        "t_stat, p_val = ttest_ind(group_long, group_short, equal_var=False)\n",
        "\n",
        "# Step 6: Output results\n",
        "print(\"T-test Results\")\n",
        "print(\"-------------------------\")\n",
        "print(f\"T-statistic: {t_stat:.2f}\")\n",
        "print(f\"P-value: {p_val:.4f}\")\n",
        "print(\"\\nGroup Counts\")\n",
        "print(f\"Short CPB group: {len(group_short)}\")\n",
        "print(f\"Prolonged CPB group: {len(group_long)}\")\n",
        "print(\"\\nMean Lactate Values\")\n",
        "print(f\"Short CPB: {group_short.mean():.2f} mmol/L\")\n",
        "print(f\"Prolonged CPB: {group_long.mean():.2f} mmol/L\")"
      ],
      "metadata": {
        "colab": {
          "base_uri": "https://localhost:8080/"
        },
        "id": "E_pbNOtrDxUP",
        "outputId": "fae6f362-de11-4781-b41d-1009604d005f"
      },
      "execution_count": 86,
      "outputs": [
        {
          "output_type": "stream",
          "name": "stdout",
          "text": [
            "T-test Results\n",
            "-------------------------\n",
            "T-statistic: 1.77\n",
            "P-value: 0.0804\n",
            "\n",
            "Group Counts\n",
            "Short CPB group: 47\n",
            "Prolonged CPB group: 109\n",
            "\n",
            "Mean Lactate Values\n",
            "Short CPB: 1.47 mmol/L\n",
            "Prolonged CPB: 1.71 mmol/L\n"
          ]
        }
      ]
    },
    {
      "cell_type": "markdown",
      "source": [
        "## T-Test Results\n",
        "\n",
        "### Comparison:\n",
        "**Mean postoperative lactate levels**  \n",
        "between patients with **short CPB** (<90 min) vs. **prolonged CPB** (≥90 min)\n",
        "\n",
        "---\n",
        "\n",
        "### Group Stats\n",
        "\n",
        "| CPB Group           | Mean Lactate | n   |\n",
        "|---------------------|--------------|-----|\n",
        "| Short (<90 min)     | 1.47 mmol/L  | 47  |\n",
        "| Prolonged (≥90 min) | 1.71 mmol/L  | 109 |\n",
        "\n",
        "---\n",
        "\n",
        "### Statistical Output\n",
        "\n",
        "- **T-statistic:** 1.77  \n",
        "- **P-value:** 0.0804\n",
        "\n",
        "---\n",
        "\n",
        "### Interpretation\n",
        "\n",
        "Patients with prolonged CPB time had **higher mean lactate levels**, but the difference did **not reach statistical significance** (p > 0.05).\n",
        "\n",
        "This suggests a **trend** toward increased physiologic stress with longer bypass duration, though this sample did not demonstrate a conclusive difference.  \n",
        "Further analysis with larger cohorts or continuous modeling may better capture this relationship."
      ],
      "metadata": {
        "id": "QubH-5-zFEIH"
      }
    },
    {
      "cell_type": "code",
      "source": [
        "import matplotlib.pyplot as plt\n",
        "import seaborn as sns\n",
        "\n",
        "# Create the plot\n",
        "fig, ax = plt.subplots(figsize=(8, 5))\n",
        "\n",
        "sns.boxplot(\n",
        "    data=df_ttest,\n",
        "    x=\"CPB_GROUP\",\n",
        "    y=\"LACTATE_VALUE\",\n",
        "    showfliers=False,\n",
        "    palette=\"pastel\",\n",
        "    ax=ax\n",
        ")\n",
        "\n",
        "sns.stripplot(\n",
        "    data=df_ttest,\n",
        "    x=\"CPB_GROUP\",\n",
        "    y=\"LACTATE_VALUE\",\n",
        "    color=\"black\",\n",
        "    size=4,\n",
        "    jitter=0.25,\n",
        "    alpha=0.6,\n",
        "    ax=ax\n",
        ")\n",
        "\n",
        "ax.set_title(\"Postop Lactate by CPB Group (Box + Raw Data)\")\n",
        "ax.set_xlabel(\"CPB Group\")\n",
        "ax.set_ylabel(\"Postoperative Lactate (mmol/L)\")\n",
        "plt.tight_layout()\n",
        "plt.show()"
      ],
      "metadata": {
        "colab": {
          "base_uri": "https://localhost:8080/",
          "height": 507
        },
        "id": "0tAlx6QNGssi",
        "outputId": "4c7662ca-de82-4fe4-c280-7af832c67547"
      },
      "execution_count": 87,
      "outputs": [
        {
          "output_type": "display_data",
          "data": {
            "text/plain": [
              "<Figure size 800x500 with 1 Axes>"
            ],
            "image/png": "[encoded data removed]"
          },
          "metadata": {}
        }
      ]
    },
    {
      "cell_type": "markdown",
      "source": [
        "The boxplot displays the distribution of **postoperative lactate levels** stratified by CPB duration (short vs prolonged).\n",
        "\n",
        "- **Median lactate values** appear slightly higher in the prolonged CPB group.\n",
        "- The **spread (IQR)** is comparable between groups, but prolonged CPB shows **greater right-skew**, with more patients having elevated lactates.\n",
        "- **Overlayed stripplot** reveals dense clustering near the median and a few scattered higher values — suggesting that while most patients cluster around normal lactate levels, **outliers drive the group mean upward** in prolonged CPB.\n",
        "\n",
        "Although the visual hints at a trend, the **mean difference was not statistically significant (p = 0.08)**.  \n",
        "This may reflect subtle physiologic stress that is not large enough to reach significance — or a sample size too small to detect it."
      ],
      "metadata": {
        "id": "Rw6sy8UzHPux"
      }
    },
    {
      "cell_type": "code",
      "source": [
        "# Define CPB group\n",
        "df_clean[\"cpb_group\"] = df_clean[\"CPB_T\"].apply(lambda x: \"Prolonged (≥90 min)\" if x >= 90 else \"Short (<90 min)\")\n",
        "\n",
        "# Now plot the histogram\n",
        "import matplotlib.pyplot as plt\n",
        "import seaborn as sns\n",
        "\n",
        "fig, ax = plt.subplots(figsize=(8, 5))\n",
        "sns.histplot(\n",
        "    data=df_clean,\n",
        "    x=\"LACTATE_VALUE\",\n",
        "    hue=\"cpb_group\",\n",
        "    bins=15,\n",
        "    kde=True,\n",
        "    palette=\"pastel\",\n",
        "    ax=ax\n",
        ")\n",
        "\n",
        "ax.set_title(\"Postoperative Lactate by CPB Duration Group\")\n",
        "ax.set_xlabel(\"Lactate Value (mmol/L)\")\n",
        "ax.set_ylabel(\"Count\")\n",
        "plt.grid(True, linestyle='--', alpha=0.5)\n",
        "plt.tight_layout()\n",
        "plt.show()"
      ],
      "metadata": {
        "colab": {
          "base_uri": "https://localhost:8080/",
          "height": 507
        },
        "id": "sbKqAhUxG94E",
        "outputId": "72ddab13-ee43-4597-ebcd-b6190bc56445"
      },
      "execution_count": 93,
      "outputs": [
        {
          "output_type": "display_data",
          "data": {
            "text/plain": [
              "<Figure size 800x500 with 1 Axes>"
            ],
            "image/png": "[encoded data removed]"
          },
          "metadata": {}
        }
      ]
    },
    {
      "cell_type": "markdown",
      "source": [
        "### Figure 2: Lactate Distribution by CPB Duration Group\n",
        "- Both groups are **right-skewed**, but prolonged CPB group shifts slightly **rightward**.\n",
        "- **Higher peak lactates** and more variability seen in the prolonged group.\n",
        "- The **longer tail** suggests more patients with **elevated lactate** in prolonged cases.\n",
        "- Even though our t-test wasn’t statistically significant, this pattern may reflect a **real clinical trend**."
      ],
      "metadata": {
        "id": "2EDFGYhyHY0P"
      }
    },
    {
      "cell_type": "markdown",
      "source": [
        "## Q3: **Do higher postoperative lactate levels correlate with longer ICU stays?**\n",
        "\n",
        "---\n",
        "\n",
        "### Hypotheses  \n",
        "\n",
        "- **Null (H₀):** There is no linear relationship between postoperative lactate levels and ICU length of stay  \n",
        "- **Alternative (H₁):** Higher postoperative lactate levels are positively correlated with ICU length of stay\n",
        "\n",
        "---\n",
        "\n",
        "### Statistical Test: Pearson Correlation  \n",
        "\n",
        "This test assesses the **linear relationship** between two continuous variables.\n",
        "\n",
        "---\n",
        "\n",
        "### Variables Used  \n",
        "\n",
        "- `LACTATE_VALUE` — Initial postoperative lactate (closest to ICU arrival)  \n",
        "- `ICU_DISCHARGE_D_DAY` — ICU length of stay (days)\n",
        "\n",
        "---\n",
        "\n",
        "### Clinical Rationale  \n",
        "\n",
        "Postoperative lactate reflects **metabolic stress and oxygen debt**.  \n",
        "If elevated lactate correlates with prolonged ICU stay, it may serve as an early marker of **more complex recovery** — useful for triage, resource planning, and identifying patients at risk for complications."
      ],
      "metadata": {
        "id": "dOGtIX5FTv9u"
      }
    },
    {
      "cell_type": "code",
      "source": [
        "import pandas as pd\n",
        "import matplotlib.pyplot as plt\n",
        "import seaborn as sns\n",
        "from scipy.stats import pearsonr\n",
        "\n",
        "# Load dataset\n",
        "df = pd.read_csv(\"BIOSTATS_MASTER.csv\")\n",
        "\n",
        "# Drop missing values for relevant columns\n",
        "df_corr = df[[\"LACTATE_VALUE\", \"icu_discharge_d_day\"]].dropna()\n",
        "\n",
        "# Exclude extreme outliers\n",
        "df_corr = df_corr[\n",
        "    (df_corr[\"LACTATE_VALUE\"] <= 20) &\n",
        "    (df_corr[\"icu_discharge_d_day\"] <= 90)\n",
        "]\n",
        "\n",
        "# Run Pearson correlation\n",
        "r_val, p_val = pearsonr(df_corr[\"LACTATE_VALUE\"], df_corr[\"icu_discharge_d_day\"])\n",
        "print(f\"Pearson correlation coefficient (r): {r_val:.3f}\")\n",
        "print(f\"P-value: {p_val:.4f}\")"
      ],
      "metadata": {
        "colab": {
          "base_uri": "https://localhost:8080/"
        },
        "id": "OgyizPH8T2dU",
        "outputId": "74d8b715-a4e0-42cb-a767-440538f7a4d5"
      },
      "execution_count": 83,
      "outputs": [
        {
          "output_type": "stream",
          "name": "stdout",
          "text": [
            "Pearson correlation coefficient (r): 0.121\n",
            "P-value: 0.0616\n"
          ]
        }
      ]
    },
    {
      "cell_type": "markdown",
      "source": [
        "---\n",
        "\n",
        "### Results\n",
        "\n",
        "- **Pearson correlation coefficient (r):** 0.121  \n",
        "- **P-value:** 0.0616\n",
        "\n",
        "---\n",
        "\n",
        "### Interpretation\n",
        "\n",
        "There is a **weak positive correlation** between postoperative lactate levels and ICU length of stay.  \n",
        "However, this result **did not reach statistical significance** at the conventional α = 0.05 threshold.\n",
        "\n",
        "- While the direction of the relationship suggests that **higher lactates may be associated with longer ICU stays**, the strength of this correlation is **modest**.\n",
        "- The **p-value of 0.0616** indicates a trend, but not strong enough to reject the null hypothesis.\n",
        "\n",
        "---\n",
        "\n",
        "### Clinical Insight\n",
        "\n",
        "Elevated lactate is often viewed as a marker of poor perfusion or increased surgical stress.  \n",
        "This analysis suggests a **possible trend** toward prolonged ICU recovery in patients with higher lactates — but the relationship was **not strong or statistically significant** in this sample.\n",
        "\n",
        "- This may be due to:\n",
        "  - Small effect size\n",
        "  - Timing of lactate measurement\n",
        "  - Confounding clinical factors (e.g., extubation status, complications)\n",
        "\n",
        "Further investigation with **larger samples or adjusted models** may help clarify whether lactate truly predicts ICU trajectory."
      ],
      "metadata": {
        "id": "iCOA3_dTWjjA"
      }
    },
    {
      "cell_type": "code",
      "source": [
        "fig, ax = plt.subplots(figsize=(7, 5))\n",
        "\n",
        "sns.regplot(\n",
        "    data=df_corr,\n",
        "    x=\"LACTATE_VALUE\",\n",
        "    y=\"icu_discharge_d_day\",\n",
        "    scatter_kws={\"alpha\": 0.6},\n",
        "    line_kws={\"color\": \"red\"},\n",
        "    ax=ax\n",
        ")\n",
        "\n",
        "ax.set_title(\"Postoperative Lactate vs. ICU Length of Stay\")\n",
        "ax.set_xlabel(\"Postoperative Lactate (mmol/L)\")\n",
        "ax.set_ylabel(\"ICU Stay (Days)\")\n",
        "plt.grid(True, linestyle=\"--\", alpha=0.3)\n",
        "plt.tight_layout()\n",
        "plt.show()"
      ],
      "metadata": {
        "colab": {
          "base_uri": "https://localhost:8080/",
          "height": 507
        },
        "id": "PmKclIT4Uc6G",
        "outputId": "24f363de-4afa-4937-dd3d-934a76d0283f"
      },
      "execution_count": 84,
      "outputs": [
        {
          "output_type": "display_data",
          "data": {
            "text/plain": [
              "<Figure size 700x500 with 1 Axes>"
            ],
            "image/png": "[encoded data removed]"
          },
          "metadata": {}
        }
      ]
    },
    {
      "cell_type": "markdown",
      "source": [
        "#Extubation Outcomes  \n",
        "**Which patients remain intubated longer — and who requires reintubation?**\n",
        "\n",
        "---\n",
        "\n",
        "### Clinical Rationale  \n",
        "\n",
        "Extubation is a key recovery milestone after congenital heart surgery.  \n",
        "Patients with **airway anomalies**, **genetic syndromes**, or **hemodynamic instability** may face delayed extubation or require reintubation.  \n",
        "While **early extubation** (within 6 hours) is often targeted, it’s not always feasible or safe.\n",
        "\n",
        "This chapter investigates how **airway/genetic vulnerabilities**, **complications**, and **ICU trajectory** relate to the likelihood of **reintubation** or **prolonged intubation**.\n",
        "\n",
        "---\n",
        "\n",
        "### Statistical Questions  \n",
        "\n",
        "1. **Chi-Square**  \n",
        "   *Are patients with airway or genetic abnormalities more likely to be reintubated?*\n",
        "\n",
        "2. **ANOVA**  \n",
        "   *Does ICU length of stay differ across extubation timing groups (early, late, reintubated)?*\n",
        "\n",
        "3. **Chi-Square**  \n",
        "   *Are patients who experience postoperative complications more likely to be reintubated?*\n",
        "\n",
        "---\n",
        "\n",
        "### Group Definitions  \n",
        "\n",
        "- **Extubation Timing (for ANOVA):**  \n",
        "  - **Early:** Extubated < 6 hours after ICU arrival  \n",
        "  - **Late:** Extubated ≥ 6 hours  \n",
        "  - **Reintubated:** Required intubation after initial extubation\n",
        "\n",
        "- **Airway/Genetic Risk (for Chi-Square Q1):**  \n",
        "  - Composite variable includes any of the following:  \n",
        "    `ABNORM_AIRWAY`, `ABNORM_LUNG`, `CHROM_21`, `CHROM_13`, `CHROM_18`, `CHROM_22`,  \n",
        "    `CHROM_PIERRE`, `CHROM_CRI`, `CHROM_OTHER`, `CHROM_ABNORM_OTH`, `CHROM_GENETIC_YN`, `SYNDROME_YN`\n",
        "\n",
        "- **Complication Status (for Chi-Square Q3):**  \n",
        "  - **Yes:** Any recorded complication  \n",
        "  - **No:** No complications recorded"
      ],
      "metadata": {
        "id": "RNOLi2E3kuvJ"
      }
    },
    {
      "cell_type": "markdown",
      "source": [
        "## Q1: **Are patients with airway or genetic abnormalities more likely to be reintubated?**\n",
        "\n",
        "---\n",
        "\n",
        "### Hypotheses\n",
        "\n",
        "- **Null (H₀):** Reintubation is independent of airway/genetic risk status  \n",
        "- **Alternative (H₁):** Reintubation is associated with airway/genetic risk\n",
        "\n",
        "---\n",
        "\n",
        "### Statistical Test: Chi-Square Test of Independence  \n",
        "\n",
        "This test assesses whether **reintubation frequency** differs between patients **with vs. without** airway/genetic risk factors.\n",
        "\n",
        "---\n",
        "\n",
        "### Variables\n",
        "\n",
        "- `HIGH_EXTUBATION_RISK` — Composite variable (1 = airway/genetic risk, 0 = none)  \n",
        "- `REINTUB_ICU_YN` — Reintubated in ICU? (1 = Yes, 0 = No)\n",
        "\n",
        "---\n",
        "\n",
        "### Rationale\n",
        "\n",
        "Airway anomalies, hypotonia, and certain chromosomal conditions are known to increase **extubation difficulty** and risk of **reintubation**.  \n",
        "By testing for an association between these risk factors and actual reintubation events, we can better identify vulnerable subgroups and inform airway planning and monitoring strategies.\n",
        "\n",
        "---"
      ],
      "metadata": {
        "id": "p2W0h6M9cZhF"
      }
    },
    {
      "cell_type": "code",
      "source": [
        "import pandas as pd\n",
        "from scipy.stats import chi2_contingency\n",
        "\n",
        "# Load the updated dataset\n",
        "df = pd.read_csv(\"BIOSTATS_MASTER.csv\")\n",
        "\n",
        "# Filter for rows with non-missing values in both variables\n",
        "df_chi = df.dropna(subset=[\"HIGH_EXTUBATION_RISK\", \"REINTUB_ICU_YN\"])\n",
        "\n",
        "# Build contingency table\n",
        "contingency = pd.crosstab(df_chi[\"HIGH_EXTUBATION_RISK\"], df_chi[\"REINTUB_ICU_YN\"])\n",
        "print(\"Contingency Table:\\n\", contingency)\n",
        "\n",
        "# Run Chi-Square Test\n",
        "chi2, p, dof, expected = chi2_contingency(contingency)\n",
        "\n",
        "# Display results\n",
        "print(\"\\nChi-Square Test Results:\")\n",
        "print(f\"Chi-square statistic: {chi2:.2f}\")\n",
        "print(f\"Degrees of freedom: {dof}\")\n",
        "print(f\"P-value: {p:.4f}\")"
      ],
      "metadata": {
        "colab": {
          "base_uri": "https://localhost:8080/",
          "height": 343
        },
        "id": "4hD2wfrilfB9",
        "outputId": "3c270982-e7fb-474c-cb6f-3bf5e8901e80"
      },
      "execution_count": 102,
      "outputs": [
        {
          "output_type": "error",
          "ename": "KeyError",
          "evalue": "['HIGH_EXTUBATION_RISK', 'REINTUB_ICU_YN']",
          "traceback": [
            "\u001b[0;31m---------------------------------------------------------------------------\u001b[0m",
            "\u001b[0;31mKeyError\u001b[0m                                  Traceback (most recent call last)",
            "\u001b[0;32m/tmp/ipython-input-102-499305236.py\u001b[0m in \u001b[0;36m<cell line: 0>\u001b[0;34m()\u001b[0m\n\u001b[1;32m      6\u001b[0m \u001b[0;34m\u001b[0m\u001b[0m\n\u001b[1;32m      7\u001b[0m \u001b[0;31m# Filter for rows with non-missing values in both variables\u001b[0m\u001b[0;34m\u001b[0m\u001b[0;34m\u001b[0m\u001b[0m\n\u001b[0;32m----> 8\u001b[0;31m \u001b[0mdf_chi\u001b[0m \u001b[0;34m=\u001b[0m \u001b[0mdf\u001b[0m\u001b[0;34m.\u001b[0m\u001b[0mdropna\u001b[0m\u001b[0;34m(\u001b[0m\u001b[0msubset\u001b[0m\u001b[0;34m=\u001b[0m\u001b[0;34m[\u001b[0m\u001b[0;34m\"HIGH_EXTUBATION_RISK\"\u001b[0m\u001b[0;34m,\u001b[0m \u001b[0;34m\"REINTUB_ICU_YN\"\u001b[0m\u001b[0;34m]\u001b[0m\u001b[0;34m)\u001b[0m\u001b[0;34m\u001b[0m\u001b[0;34m\u001b[0m\u001b[0m\n\u001b[0m\u001b[1;32m      9\u001b[0m \u001b[0;34m\u001b[0m\u001b[0m\n\u001b[1;32m     10\u001b[0m \u001b[0;31m# Build contingency table\u001b[0m\u001b[0;34m\u001b[0m\u001b[0;34m\u001b[0m\u001b[0m\n",
            "\u001b[0;32m/usr/local/lib/python3.11/dist-packages/pandas/core/frame.py\u001b[0m in \u001b[0;36mdropna\u001b[0;34m(self, axis, how, thresh, subset, inplace, ignore_index)\u001b[0m\n\u001b[1;32m   6668\u001b[0m             \u001b[0mcheck\u001b[0m \u001b[0;34m=\u001b[0m \u001b[0mindices\u001b[0m \u001b[0;34m==\u001b[0m \u001b[0;34m-\u001b[0m\u001b[0;36m1\u001b[0m\u001b[0;34m\u001b[0m\u001b[0;34m\u001b[0m\u001b[0m\n\u001b[1;32m   6669\u001b[0m             \u001b[0;32mif\u001b[0m \u001b[0mcheck\u001b[0m\u001b[0;34m.\u001b[0m\u001b[0many\u001b[0m\u001b[0;34m(\u001b[0m\u001b[0;34m)\u001b[0m\u001b[0;34m:\u001b[0m\u001b[0;34m\u001b[0m\u001b[0;34m\u001b[0m\u001b[0m\n\u001b[0;32m-> 6670\u001b[0;31m                 \u001b[0;32mraise\u001b[0m \u001b[0mKeyError\u001b[0m\u001b[0;34m(\u001b[0m\u001b[0mnp\u001b[0m\u001b[0;34m.\u001b[0m\u001b[0marray\u001b[0m\u001b[0;34m(\u001b[0m\u001b[0msubset\u001b[0m\u001b[0;34m)\u001b[0m\u001b[0;34m[\u001b[0m\u001b[0mcheck\u001b[0m\u001b[0;34m]\u001b[0m\u001b[0;34m.\u001b[0m\u001b[0mtolist\u001b[0m\u001b[0;34m(\u001b[0m\u001b[0;34m)\u001b[0m\u001b[0;34m)\u001b[0m\u001b[0;34m\u001b[0m\u001b[0;34m\u001b[0m\u001b[0m\n\u001b[0m\u001b[1;32m   6671\u001b[0m             \u001b[0magg_obj\u001b[0m \u001b[0;34m=\u001b[0m \u001b[0mself\u001b[0m\u001b[0;34m.\u001b[0m\u001b[0mtake\u001b[0m\u001b[0;34m(\u001b[0m\u001b[0mindices\u001b[0m\u001b[0;34m,\u001b[0m \u001b[0maxis\u001b[0m\u001b[0;34m=\u001b[0m\u001b[0magg_axis\u001b[0m\u001b[0;34m)\u001b[0m\u001b[0;34m\u001b[0m\u001b[0;34m\u001b[0m\u001b[0m\n\u001b[1;32m   6672\u001b[0m \u001b[0;34m\u001b[0m\u001b[0m\n",
            "\u001b[0;31mKeyError\u001b[0m: ['HIGH_EXTUBATION_RISK', 'REINTUB_ICU_YN']"
          ]
        }
      ]
    },
    {
      "cell_type": "markdown",
      "source": [
        "## Q2: **Does ICU length of stay differ between early extubated, late extubated, and reintubated patients?**\n",
        "\n",
        "---\n",
        "\n",
        "### Hypotheses\n",
        "\n",
        "- **Null (H₀):** Mean ICU stay is equal across all extubation groups  \n",
        "- **Alternative (H₁):** At least one group has a different mean ICU stay\n",
        "\n",
        "---\n",
        "\n",
        "### Statistical Test: One-Way ANOVA  \n",
        "\n",
        "We compare the **mean ICU length of stay** across 3 groups:\n",
        "- **Early Extubation:** < 6 hours after ICU admission  \n",
        "- **Late Extubation:** ≥ 6 hours  \n",
        "- **Reintubated:** Required reintubation after initial extubation  \n",
        "\n",
        "This helps identify whether extubation timing is associated with **longer recovery and ICU burden**.\n",
        "\n",
        "---\n",
        "\n",
        "### Variables  \n",
        "\n",
        "- **Grouping Variable:** `EXTUBATION_GROUP`  \n",
        "  - `\"Early\"` = Extubated < 6 hr  \n",
        "  - `\"Late\"` = Extubated ≥ 6 hr  \n",
        "  - `\"Reintubated\"` = Any reintubation  \n",
        "- **Outcome Variable:** `ICU_LOS_DAYS` — ICU length of stay (in days)\n",
        "\n",
        "---\n",
        "\n",
        "Let me know when you're ready for the Python code or visual setup."
      ],
      "metadata": {
        "id": "xwAMlJmscPbu"
      }
    }
  ]
}