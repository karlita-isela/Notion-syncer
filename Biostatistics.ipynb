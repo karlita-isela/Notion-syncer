{
  "nbformat": 4,
  "nbformat_minor": 0,
  "metadata": {
    "colab": {
      "provenance": [],
      "toc_visible": true,
      "authorship_tag": "ABX9TyPebJ4q5WYGgImsvnh37SKz",
      "include_colab_link": true
    },
    "kernelspec": {
      "name": "python3",
      "display_name": "Python 3"
    },
    "language_info": {
      "name": "python"
    }
  },
  "cells": [
    {
      "cell_type": "markdown",
      "metadata": {
        "id": "view-in-github",
        "colab_type": "text"
      },
      "source": [
        "<a href=\"https://colab.research.google.com/github/karlita-isela/Notion-syncer/blob/main/Biostatistics.ipynb\" target=\"_parent\"><img src=\"https://colab.research.google.com/assets/colab-badge.svg\" alt=\"Open In Colab\"/></a>"
      ]
    },
    {
      "cell_type": "code",
      "source": [
        "!pip install seaborn"
      ],
      "metadata": {
        "colab": {
          "base_uri": "https://localhost:8080/"
        },
        "id": "Nwo8c-sXHhtH",
        "outputId": "8016ff56-6261-476e-d1cb-32547846d768"
      },
      "execution_count": null,
      "outputs": [
        {
          "output_type": "stream",
          "name": "stdout",
          "text": [
            "Requirement already satisfied: seaborn in /usr/local/lib/python3.11/dist-packages (0.11.0)\n",
            "Requirement already satisfied: numpy>=1.15 in /usr/local/lib/python3.11/dist-packages (from seaborn) (2.0.2)\n",
            "Requirement already satisfied: scipy>=1.0 in /usr/local/lib/python3.11/dist-packages (from seaborn) (1.16.0)\n",
            "Requirement already satisfied: pandas>=0.23 in /usr/local/lib/python3.11/dist-packages (from seaborn) (2.2.2)\n",
            "Requirement already satisfied: matplotlib>=2.2 in /usr/local/lib/python3.11/dist-packages (from seaborn) (3.10.0)\n",
            "Requirement already satisfied: contourpy>=1.0.1 in /usr/local/lib/python3.11/dist-packages (from matplotlib>=2.2->seaborn) (1.3.2)\n",
            "Requirement already satisfied: cycler>=0.10 in /usr/local/lib/python3.11/dist-packages (from matplotlib>=2.2->seaborn) (0.12.1)\n",
            "Requirement already satisfied: fonttools>=4.22.0 in /usr/local/lib/python3.11/dist-packages (from matplotlib>=2.2->seaborn) (4.59.0)\n",
            "Requirement already satisfied: kiwisolver>=1.3.1 in /usr/local/lib/python3.11/dist-packages (from matplotlib>=2.2->seaborn) (1.4.8)\n",
            "Requirement already satisfied: packaging>=20.0 in /usr/local/lib/python3.11/dist-packages (from matplotlib>=2.2->seaborn) (25.0)\n",
            "Requirement already satisfied: pillow>=8 in /usr/local/lib/python3.11/dist-packages (from matplotlib>=2.2->seaborn) (11.3.0)\n",
            "Requirement already satisfied: pyparsing>=2.3.1 in /usr/local/lib/python3.11/dist-packages (from matplotlib>=2.2->seaborn) (3.2.3)\n",
            "Requirement already satisfied: python-dateutil>=2.7 in /usr/local/lib/python3.11/dist-packages (from matplotlib>=2.2->seaborn) (2.9.0.post0)\n",
            "Requirement already satisfied: pytz>=2020.1 in /usr/local/lib/python3.11/dist-packages (from pandas>=0.23->seaborn) (2025.2)\n",
            "Requirement already satisfied: tzdata>=2022.7 in /usr/local/lib/python3.11/dist-packages (from pandas>=0.23->seaborn) (2025.2)\n",
            "Requirement already satisfied: six>=1.5 in /usr/local/lib/python3.11/dist-packages (from python-dateutil>=2.7->matplotlib>=2.2->seaborn) (1.17.0)\n"
          ]
        }
      ]
    },
    {
      "cell_type": "code",
      "source": [
        "# 🧼 Make plots look cleaner and prettier\n",
        "import matplotlib.pyplot as plt\n",
        "import seaborn as sns\n",
        "\n",
        "# Set a clean white style with grid lines\n",
        "sns.set_theme(style=\"whitegrid\")\n",
        "\n",
        "# Make plots higher quality (less blurry)\n",
        "plt.rcParams['figure.dpi'] = 120  # You can change to 150 or 200 if you want super crisp"
      ],
      "metadata": {
        "id": "UJHyoUDmHcd-"
      },
      "execution_count": null,
      "outputs": []
    },
    {
      "cell_type": "code",
      "source": [
        "!pip install plotly"
      ],
      "metadata": {
        "colab": {
          "base_uri": "https://localhost:8080/"
        },
        "id": "Yiz1sR4-HwYN",
        "outputId": "46aba6fa-95d6-42bc-a6ed-c01c896b878f"
      },
      "execution_count": null,
      "outputs": [
        {
          "output_type": "stream",
          "name": "stdout",
          "text": [
            "Requirement already satisfied: plotly in /usr/local/lib/python3.11/dist-packages (5.24.1)\n",
            "Requirement already satisfied: tenacity>=6.2.0 in /usr/local/lib/python3.11/dist-packages (from plotly) (8.5.0)\n",
            "Requirement already satisfied: packaging in /usr/local/lib/python3.11/dist-packages (from plotly) (25.0)\n"
          ]
        }
      ]
    },
    {
      "cell_type": "code",
      "execution_count": null,
      "metadata": {
        "id": "1inMtRui9dv4",
        "colab": {
          "base_uri": "https://localhost:8080/",
          "height": 54
        },
        "outputId": "36697df0-36fd-4eb7-eb2c-be55bee8e859"
      },
      "outputs": [
        {
          "data": {
            "text/html": [
              "\n",
              "     <input type=\"file\" id=\"files-329e5bc8-5555-45e3-a504-99627c33f0e6\" name=\"files[]\" multiple disabled\n",
              "        style=\"border:none\" />\n",
              "     <output id=\"result-329e5bc8-5555-45e3-a504-99627c33f0e6\">\n",
              "      Upload widget is only available when the cell has been executed in the\n",
              "      current browser session. Please rerun this cell to enable.\n",
              "      </output>\n",
              "      <script>// Copyright 2017 Google LLC\n",
              "//\n",
              "// Licensed under the Apache License, Version 2.0 (the \"License\");\n",
              "// you may not use this file except in compliance with the License.\n",
              "// You may obtain a copy of the License at\n",
              "//\n",
              "//      http://www.apache.org/licenses/LICENSE-2.0\n",
              "//\n",
              "// Unless required by applicable law or agreed to in writing, software\n",
              "// distributed under the License is distributed on an \"AS IS\" BASIS,\n",
              "// WITHOUT WARRANTIES OR CONDITIONS OF ANY KIND, either express or implied.\n",
              "// See the License for the specific language governing permissions and\n",
              "// limitations under the License.\n",
              "\n",
              "/**\n",
              " * @fileoverview Helpers for google.colab Python module.\n",
              " */\n",
              "(function(scope) {\n",
              "function span(text, styleAttributes = {}) {\n",
              "  const element = document.createElement('span');\n",
              "  element.textContent = text;\n",
              "  for (const key of Object.keys(styleAttributes)) {\n",
              "    element.style[key] = styleAttributes[key];\n",
              "  }\n",
              "  return element;\n",
              "}\n",
              "\n",
              "// Max number of bytes which will be uploaded at a time.\n",
              "const MAX_PAYLOAD_SIZE = 100 * 1024;\n",
              "\n",
              "function _uploadFiles(inputId, outputId) {\n",
              "  const steps = uploadFilesStep(inputId, outputId);\n",
              "  const outputElement = document.getElementById(outputId);\n",
              "  // Cache steps on the outputElement to make it available for the next call\n",
              "  // to uploadFilesContinue from Python.\n",
              "  outputElement.steps = steps;\n",
              "\n",
              "  return _uploadFilesContinue(outputId);\n",
              "}\n",
              "\n",
              "// This is roughly an async generator (not supported in the browser yet),\n",
              "// where there are multiple asynchronous steps and the Python side is going\n",
              "// to poll for completion of each step.\n",
              "// This uses a Promise to block the python side on completion of each step,\n",
              "// then passes the result of the previous step as the input to the next step.\n",
              "function _uploadFilesContinue(outputId) {\n",
              "  const outputElement = document.getElementById(outputId);\n",
              "  const steps = outputElement.steps;\n",
              "\n",
              "  const next = steps.next(outputElement.lastPromiseValue);\n",
              "  return Promise.resolve(next.value.promise).then((value) => {\n",
              "    // Cache the last promise value to make it available to the next\n",
              "    // step of the generator.\n",
              "    outputElement.lastPromiseValue = value;\n",
              "    return next.value.response;\n",
              "  });\n",
              "}\n",
              "\n",
              "/**\n",
              " * Generator function which is called between each async step of the upload\n",
              " * process.\n",
              " * @param {string} inputId Element ID of the input file picker element.\n",
              " * @param {string} outputId Element ID of the output display.\n",
              " * @return {!Iterable<!Object>} Iterable of next steps.\n",
              " */\n",
              "function* uploadFilesStep(inputId, outputId) {\n",
              "  const inputElement = document.getElementById(inputId);\n",
              "  inputElement.disabled = false;\n",
              "\n",
              "  const outputElement = document.getElementById(outputId);\n",
              "  outputElement.innerHTML = '';\n",
              "\n",
              "  const pickedPromise = new Promise((resolve) => {\n",
              "    inputElement.addEventListener('change', (e) => {\n",
              "      resolve(e.target.files);\n",
              "    });\n",
              "  });\n",
              "\n",
              "  const cancel = document.createElement('button');\n",
              "  inputElement.parentElement.appendChild(cancel);\n",
              "  cancel.textContent = 'Cancel upload';\n",
              "  const cancelPromise = new Promise((resolve) => {\n",
              "    cancel.onclick = () => {\n",
              "      resolve(null);\n",
              "    };\n",
              "  });\n",
              "\n",
              "  // Wait for the user to pick the files.\n",
              "  const files = yield {\n",
              "    promise: Promise.race([pickedPromise, cancelPromise]),\n",
              "    response: {\n",
              "      action: 'starting',\n",
              "    }\n",
              "  };\n",
              "\n",
              "  cancel.remove();\n",
              "\n",
              "  // Disable the input element since further picks are not allowed.\n",
              "  inputElement.disabled = true;\n",
              "\n",
              "  if (!files) {\n",
              "    return {\n",
              "      response: {\n",
              "        action: 'complete',\n",
              "      }\n",
              "    };\n",
              "  }\n",
              "\n",
              "  for (const file of files) {\n",
              "    const li = document.createElement('li');\n",
              "    li.append(span(file.name, {fontWeight: 'bold'}));\n",
              "    li.append(span(\n",
              "        `(${file.type || 'n/a'}) - ${file.size} bytes, ` +\n",
              "        `last modified: ${\n",
              "            file.lastModifiedDate ? file.lastModifiedDate.toLocaleDateString() :\n",
              "                                    'n/a'} - `));\n",
              "    const percent = span('0% done');\n",
              "    li.appendChild(percent);\n",
              "\n",
              "    outputElement.appendChild(li);\n",
              "\n",
              "    const fileDataPromise = new Promise((resolve) => {\n",
              "      const reader = new FileReader();\n",
              "      reader.onload = (e) => {\n",
              "        resolve(e.target.result);\n",
              "      };\n",
              "      reader.readAsArrayBuffer(file);\n",
              "    });\n",
              "    // Wait for the data to be ready.\n",
              "    let fileData = yield {\n",
              "      promise: fileDataPromise,\n",
              "      response: {\n",
              "        action: 'continue',\n",
              "      }\n",
              "    };\n",
              "\n",
              "    // Use a chunked sending to avoid message size limits. See b/62115660.\n",
              "    let position = 0;\n",
              "    do {\n",
              "      const length = Math.min(fileData.byteLength - position, MAX_PAYLOAD_SIZE);\n",
              "      const chunk = new Uint8Array(fileData, position, length);\n",
              "      position += length;\n",
              "\n",
              "      const base64 = btoa(String.fromCharCode.apply(null, chunk));\n",
              "      yield {\n",
              "        response: {\n",
              "          action: 'append',\n",
              "          file: file.name,\n",
              "          data: base64,\n",
              "        },\n",
              "      };\n",
              "\n",
              "      let percentDone = fileData.byteLength === 0 ?\n",
              "          100 :\n",
              "          Math.round((position / fileData.byteLength) * 100);\n",
              "      percent.textContent = `${percentDone}% done`;\n",
              "\n",
              "    } while (position < fileData.byteLength);\n",
              "  }\n",
              "\n",
              "  // All done.\n",
              "  yield {\n",
              "    response: {\n",
              "      action: 'complete',\n",
              "    }\n",
              "  };\n",
              "}\n",
              "\n",
              "scope.google = scope.google || {};\n",
              "scope.google.colab = scope.google.colab || {};\n",
              "scope.google.colab._files = {\n",
              "  _uploadFiles,\n",
              "  _uploadFilesContinue,\n",
              "};\n",
              "})(self);\n",
              "</script> "
            ],
            "text/plain": [
              "<IPython.core.display.HTML object>"
            ]
          },
          "metadata": {},
          "output_type": "display_data"
        }
      ],
      "source": [
        "from google.colab import files\n",
        "upload= files.upload()"
      ]
    },
    {
      "cell_type": "markdown",
      "source": [
        "#Preoperative Vulnerability\n",
        "  **Do younger, smaller patients enter surgery already at risk for complications or delayed extubation?**"
      ],
      "metadata": {
        "id": "kfVRRGP98J3I"
      }
    },
    {
      "cell_type": "markdown",
      "source": [
        "### Clinical Rationale  \n",
        "\n",
        "Neonates — infants under 30 days old — are especially vulnerable after heart surgery due to immature cardiac function, limited metabolic reserve, and fragile lungs. These patients are more prone to hemodynamic instability and may require longer ICU stays or vasoactive support to recover (Arslan et al., 2022).\n",
        "\n",
        "---\n",
        "\n",
        "### Group Definitions  \n",
        "- **Neonates:** Age < 30 days at surgery  \n",
        "- **Non-neonates:** Age ≥ 30 days\n"
      ],
      "metadata": {
        "id": "WigtstPSRCQb"
      }
    },
    {
      "cell_type": "markdown",
      "source": [
        "### Q1: Is the mean ICU length of stay significantly longer in neonates compared to non-neonates?\n",
        "\n",
        "**Test Type:** Independent t-test  \n",
        "**Independent Variable (Grouping):** Neonatal status (`PROC_AGE < 30 days`)  \n",
        "**Dependent Variable (Quantitative):** ICU length of stay (`ICU_DISCHARGE_D_DAY`)\n",
        "\n",
        "---\n",
        "\n",
        "#### Hypotheses:\n",
        "- **Null Hypothesis (H₀):**  \n",
        "  There is **no difference** in the mean ICU stay between neonates and non-neonates.\n",
        "\n",
        "- **Alternative Hypothesis (H₁):**  \n",
        "  The **mean ICU stay differs** significantly between neonates and non-neonates.\n",
        "\n",
        "---\n",
        "\n",
        "#### ✅ T-test\n",
        "- We are comparing the **means** of a continuous outcome (ICU days) between **two independent groups** (neonates vs. non-neonates).\n",
        "---\n",
        "\n",
        "#### 🧠 Clinical Significance:\n",
        "Neonates are especially vulnerable during cardiac surgery due to several unique physiological characteristics:\n",
        "\n",
        "- **Immature myocardial calcium handling:** Neonatal hearts have underdeveloped sarcoplasmic reticulum and rely heavily on extracellular calcium, reducing contractile reserve and increasing susceptibility to bypass-related stress\n",
        "- **High oxidative stress response:** CPB triggers oxidative stress, and neonatal antioxidant systems are not fully matured, putting them at greater risk for reperfusion injury\n",
        "- **Limited physiologic reserve:** Neonates have smaller blood volumes and immature organ systems."
      ],
      "metadata": {
        "id": "X-akEOWsTV_o"
      }
    },
    {
      "cell_type": "code",
      "source": [
        "# Safely drop old NEONATE column if it exists\n",
        "if \"NEONATE\" in df_clean.columns:\n",
        "    df_clean = df_clean.drop(columns=[\"NEONATE\"])\n",
        "\n",
        "# Assign new NEONATE column (1 = neonate, 0 = non-neonate)\n",
        "df_clean[\"NEONATE\"] = (df_clean[\"PROC_AGE\"].astype(float) < 30).astype(int)"
      ],
      "metadata": {
        "id": "GzFZEsh8sCLl"
      },
      "execution_count": null,
      "outputs": []
    },
    {
      "cell_type": "code",
      "source": [
        "import pandas as pd\n",
        "from scipy.stats import ttest_ind\n",
        "import matplotlib.pyplot as plt\n",
        "\n",
        "# Load your updated CSV\n",
        "df = pd.read_csv(\"stat_analysis_ICU_days_no_return.csv\")\n",
        "\n",
        "# Drop rows with missing data in required columns\n",
        "df_clean = df.dropna(subset=[\"PROC_AGE\", \"icu_end_d_day\"]).copy()\n",
        "\n",
        "# Ensure the column is explicitly created with int type (safe and clean)\n",
        "df_clean[\"NEONATE\"] = df_clean[\"PROC_AGE\"].apply(lambda x: 1 if x < 30 else 0).astype(int)\n",
        "\n",
        "# Separate groups\n",
        "neonates = df_clean[df_clean[\"NEONATE\"] == 1][\"icu_end_d_day\"]\n",
        "non_neonates = df_clean[df_clean[\"NEONATE\"] == 0][\"icu_end_d_day\"]\n",
        "\n",
        "# Run t-test\n",
        "t_stat, p_val = ttest_ind(neonates, non_neonates, equal_var=False)\n",
        "print(\"Independent t-test: CICU Length of Stay by Neonatal Status\")\n",
        "print(f\"t-statistic = {t_stat:.2f}\")\n",
        "print(f\"p-value = {p_val:.4f}\")\n",
        "\n",
        "# Boxplot\n",
        "plt.figure(figsize=(6, 5))\n",
        "plt.boxplot([neonates, non_neonates],\n",
        "            patch_artist=True,\n",
        "            tick_labels=[\"Neonates\", \"Non-Neonates\"],\n",
        "            boxprops=dict(facecolor=\"lightcoral\"),\n",
        "            medianprops=dict(color=\"black\"))\n",
        "plt.title(\"CICU Length of Stay by Neonatal Status\")\n",
        "plt.ylabel(\"CICU Stay (Days)\")\n",
        "plt.grid(True, linestyle='--', alpha=0.5)\n",
        "plt.tight_layout()\n",
        "plt.show()"
      ],
      "metadata": {
        "id": "EMdin2_6Ywlx"
      },
      "execution_count": null,
      "outputs": []
    },
    {
      "cell_type": "markdown",
      "source": [
        "#### CICU Length of Stay by Neonatal Status\n",
        "\n",
        "We conducted an independent t-test to evaluate whether the mean **Cardiac ICU (CICU) length of stay** differed between **neonates** (patients <30 days old at surgery) and **non-neonates**.\n",
        "\n",
        "- **t-statistic:** –1.44  \n",
        "- **p-value:** 0.1499\n",
        "\n",
        "---\n",
        "\n",
        "#### Interpretation\n",
        "\n",
        "There is **no statistically significant difference** in mean CICU stay between neonates and non-neonates at the conventional α = 0.05 level. Although neonates appeared to have slightly longer stays on average, this difference was **not large enough to rule out chance variation**.\n",
        "\n",
        "This suggests that while neonatal physiology may introduce additional clinical challenges, **age alone may not strongly predict prolonged CICU duration** in this sample."
      ],
      "metadata": {
        "id": "iSk8OfVmYT1f"
      }
    },
    {
      "cell_type": "code",
      "source": [
        "import pandas as pd\n",
        "import matplotlib.pyplot as plt\n",
        "\n",
        "# Load the dataset\n",
        "df = pd.read_csv(\"BIOSTATS_MASTER.csv\")\n",
        "\n",
        "# Drop rows with missing ICU LOS or age\n",
        "df_clean = df.dropna(subset=[\"icu_end_d_day\", \"PROC_AGE\"])\n",
        "\n",
        "# Fix: Safely assign NEONATE classification\n",
        "df_clean.loc[:, \"NEONATE\"] = df_clean[\"PROC_AGE\"] < 30\n",
        "\n",
        "# Split into groups\n",
        "neonates = df_clean[df_clean[\"NEONATE\"]][\"icu_end_d_day\"]\n",
        "non_neonates = df_clean[~df_clean[\"NEONATE\"]][\"icu_end_d_day\"]\n",
        "\n",
        "# Plot histogram\n",
        "plt.figure(figsize=(10, 6))\n",
        "plt.hist(neonates, bins=20, alpha=0.7, label=\"Neonates\", color=\"lightblue\", edgecolor=\"black\")\n",
        "plt.hist(non_neonates, bins=20, alpha=0.7, label=\"Non-Neonates\", color=\"salmon\", edgecolor=\"black\")\n",
        "plt.title(\"Distribution of ICU Length of Stay by Neonatal Status\")\n",
        "plt.xlabel(\"ICU Stay (Days)\")\n",
        "plt.ylabel(\"Number of Patients\")\n",
        "plt.legend()\n",
        "plt.grid(True, linestyle='--', alpha=0.5)\n",
        "plt.tight_layout()\n",
        "plt.show()"
      ],
      "metadata": {
        "id": "cxOUTuV9Y-r6"
      },
      "execution_count": null,
      "outputs": []
    },
    {
      "cell_type": "markdown",
      "source": [
        "#### Distribution of ICU Stay by Neonatal Status\n",
        "\n",
        "This histogram displays the distribution of ICU length of stay (`icu_end_d_day`) for two groups:\n",
        "- **Neonates** (age at procedure < 30 days)\n",
        "- **Non-neonates** (age at procedure ≥ 30 days)\n",
        "\n",
        "Key observations:\n",
        "- Both distributions are right-skewed, indicating that most patients had relatively short ICU stays but a few had prolonged stays.\n",
        "- Neonates show a slightly broader spread and longer upper tail.\n",
        "- Visual overlap suggests variability within both groups, supporting the t-test result (p = 0.1499) that the difference in means is **not statistically significant** at the α = 0.05 level.\n",
        "\n",
        "This distribution helps illustrate that although neonates often face more complex postoperative courses, the mean ICU stay difference may be influenced by wide intra-group variation."
      ],
      "metadata": {
        "id": "7HHnaAVptfJs"
      }
    },
    {
      "cell_type": "markdown",
      "source": [
        "#### Do Neonates Require Greater Hemodynamic Support Postoperatively?\n",
        "\n",
        "In Question 1, we assessed whether neonatal patients experience prolonged ICU stays, a broad indicator of postoperative vulnerability.\n",
        "\n",
        "To further characterize this risk, we now examine a more acute physiologic marker —  \n",
        "**the use of vasopressors in the immediate postoperative period.**\n",
        "\n",
        "Due to limited cardiac reserve and immature physiology, neonates are thought to be at higher risk for needing vasoactive support after surgery."
      ],
      "metadata": {
        "id": "jPSvS_NZ4H9a"
      }
    },
    {
      "cell_type": "markdown",
      "source": [
        "### Q2: Are Neonates More Likely to Require Postoperative Vasopressors?\n",
        "\n",
        "**Test Type:** Chi-Square Test of Independence\n",
        "\n",
        "We now assess whether **neonatal status** is associated with the need for **vasopressor support after surgery** — a marker of hemodynamic instability.\n",
        "\n",
        "---\n",
        "\n",
        "### Variables\n",
        "\n",
        "- **NEONATE**:  \n",
        "  - `1` = Neonate (age < 30 days)  \n",
        "  - `0` = Non-neonate\n",
        "\n",
        "- **POSTOP_VASO_YN**:  \n",
        "  - `1` = Received vasopressors  \n",
        "  - `0` = Did not receive vasopressors\n",
        "\n",
        "---\n",
        "\n",
        "### Hypotheses\n",
        "\n",
        "- **Null (H₀):** Vasopressor use is independent of neonatal status  \n",
        "- **Alternative (H₁):** Vasopressor use is associated with neonatal status\n",
        "\n",
        "---\n",
        "\n",
        "### Rationale for Chi-Square Test\n",
        "\n",
        "This test compares the distribution of one **categorical variable** across levels of another.  \n",
        "It is appropriate when:\n",
        "- Both variables are categorical  \n",
        "- Expected cell counts are ≥ 5  \n",
        "- Normality is not assumed"
      ],
      "metadata": {
        "id": "VHVgx3NTXSxv"
      }
    },
    {
      "cell_type": "code",
      "source": [
        "import pandas as pd\n",
        "from scipy.stats import chi2_contingency\n",
        "\n",
        "# Load the cleaned dataset\n",
        "df = pd.read_csv(\"BIOSTATS_MASTER.csv\")\n",
        "\n",
        "# Create NEONATE column (1 if <30 days old, else 0)\n",
        "df[\"NEONATE\"] = df[\"PROC_AGE\"].astype(float).apply(lambda x: 1 if x < 30 else 0)\n",
        "\n",
        "# Create binary POSTOP_VASO_YN column from VASO_INFUS (Yes/No)\n",
        "df[\"POSTOP_VASO_YN\"] = df[\"VASO_INFUS\"].astype(str).str.strip().str.upper().map({'YES': 1, 'NO': 0})\n",
        "\n",
        "# Drop rows with missing or unmappable values\n",
        "df_clean = df.dropna(subset=[\"NEONATE\", \"POSTOP_VASO_YN\"])\n",
        "\n",
        "# Build contingency table\n",
        "contingency = pd.crosstab(df_clean[\"NEONATE\"], df_clean[\"POSTOP_VASO_YN\"])\n",
        "print(\"Contingency Table:\\n\", contingency)\n",
        "\n",
        "# Run Chi-Square Test\n",
        "chi2, p, dof, expected = chi2_contingency(contingency)\n",
        "\n",
        "# Display results\n",
        "print(\"\\nChi-Square Test Results:\")\n",
        "print(\"Chi-square statistic:\", round(chi2, 2))\n",
        "print(\"Degrees of freedom:\", dof)\n",
        "print(\"p-value:\", round(p, 4))"
      ],
      "metadata": {
        "id": "by6OrdaE-jeM"
      },
      "execution_count": null,
      "outputs": []
    },
    {
      "cell_type": "code",
      "source": [],
      "metadata": {
        "id": "t3RHM7VlXO0s"
      },
      "execution_count": null,
      "outputs": []
    },
    {
      "cell_type": "markdown",
      "source": [
        "#### Chi-Square Test Results\n",
        "\n",
        "#### Observed Counts (Contingency Table)\n",
        "\n",
        "| Neonatal Status | No Vasopressors | Yes Vasopressors | Total |\n",
        "|-----------------|------------------|-------------------|-------|\n",
        "| Non-neonates (0) |        62         |        186         | 248   |\n",
        "| Neonates (1)     |        48         |         26         | 74    |\n",
        "| **Total**        |      110         |        212         | 322   |\n",
        "\n",
        "---\n",
        "\n",
        "#### Row Proportions (% Requiring Vasopressors)\n",
        "\n",
        "| Neonatal Status | % Requiring Vasopressors |\n",
        "|-----------------|--------------------------|\n",
        "| Non-neonates    | 186 / 248 = **75.0%**     |\n",
        "| Neonates        |  26 / 74 = **35.1%**      |\n",
        "\n",
        "---\n",
        "\n",
        "#### Chi-Square Output\n",
        "\n",
        "- **Chi-square statistic:** 38.52  \n",
        "- **Degrees of freedom:** 1  \n",
        "- **p-value:** < 0.001\n",
        "\n",
        "➡️ **Conclusion:**  \n",
        "There is a statistically significant association between neonatal status and vasopressor use.  \n",
        "We **reject the null hypothesis**."
      ],
      "metadata": {
        "id": "xrWYXy5xZunu"
      }
    },
    {
      "cell_type": "code",
      "source": [
        "import pandas as pd\n",
        "import matplotlib.pyplot as plt\n",
        "\n",
        "# Load your data\n",
        "df = pd.read_csv(\"BIOSTATS_MASTER.csv\")\n",
        "\n",
        "# Convert neonatal status\n",
        "df[\"NEONATE\"] = (df[\"PROC_AGE\"].astype(float) < 30).astype(int)\n",
        "\n",
        "# Convert vasopressor use\n",
        "df[\"POSTOP_VASO_YN\"] = df[\"VASO_INFUS\"].replace({'Yes': 1, 'No': 0}).fillna(0).astype(int)\n",
        "\n",
        "# Create proportion table\n",
        "contingency = pd.crosstab(df[\"NEONATE\"], df[\"POSTOP_VASO_YN\"])\n",
        "proportions = contingency.div(contingency.sum(axis=1), axis=0)\n",
        "\n",
        "# Setup plot\n",
        "fig, ax = plt.subplots(figsize=(6, 5))  # this avoids the <Figure size ...> message\n",
        "\n",
        "# Plot stacked bar chart\n",
        "bar = proportions.plot(kind='bar', stacked=True, ax=ax, color=[\"lightgray\", \"tomato\"], edgecolor='black')\n",
        "\n",
        "# Custom x-tick labels\n",
        "bar.set_xticklabels(['Non-neonate', 'Neonate'])\n",
        "\n",
        "# Add percentages inside bars\n",
        "for i, total in enumerate(contingency.sum(axis=1)):\n",
        "    for j, val in enumerate(contingency.iloc[i]):\n",
        "        percent = val / total\n",
        "        ax.text(i, proportions.iloc[i, :j+1].sum() - (proportions.iloc[i, j] / 2),\n",
        "                f\"{percent:.0%}\", ha='center', va='center', fontsize=11, color=\"black\")\n",
        "\n",
        "# Labels and title\n",
        "ax.set_ylabel(\"Proportion\")\n",
        "ax.set_xlabel(\"Neonatal Status\")\n",
        "ax.set_title(\"Proportion of Patients Receiving Vasopressors by Neonatal Status\")\n",
        "ax.legend(title=\"Vasopressors\", labels=[\"No\", \"Yes\"], loc=\"upper right\")\n",
        "\n",
        "# Save figure\n",
        "plt.tight_layout()\n",
        "plt.savefig(\"vaso_barplot_cleaned.png\", bbox_inches='tight', dpi=300)\n",
        "plt.show()"
      ],
      "metadata": {
        "id": "Iq17URKURzbJ"
      },
      "execution_count": null,
      "outputs": []
    },
    {
      "cell_type": "markdown",
      "source": [
        "#### Logistic Regression: Modeling Vasopressor Use by Neonatal Status\n",
        "\n",
        "While the chi-square test confirmed an association, it did not quantify the **magnitude** or **direction** of that relationship.\n",
        "\n",
        "We now use **binary logistic regression** to estimate how **neonatal status** affects the **likelihood of receiving postoperative vasopressors**.\n",
        "\n",
        "---\n",
        "\n",
        "### Why Logistic Regression?\n",
        "\n",
        "- Outcome variable: `POSTOP_VASO_YN`  \n",
        "  (1 = received vasopressors, 0 = did not)\n",
        "  \n",
        "- Predictor variable: `NEONATE`  \n",
        "  (1 = neonate, age < 30 days; 0 = non-neonate)\n",
        "\n",
        "- Output: **Odds Ratio (OR)** — indicates whether neonates are more or less likely to receive vasopressors\n",
        "\n",
        "This approach models the **probability** of vasopressor use and helps determine whether neonates are at increased risk of hemodynamic instability in the immediate postoperative period."
      ],
      "metadata": {
        "id": "OJiHgnLkgaSp"
      }
    },
    {
      "cell_type": "code",
      "source": [
        "import pandas as pd\n",
        "import statsmodels.api as sm\n",
        "\n",
        "# Load data\n",
        "df = pd.read_csv(\"BIOSTATS_MASTER.csv\")\n",
        "\n",
        "# Binary variables\n",
        "df[\"NEONATE\"] = (df[\"PROC_AGE\"].astype(float) < 30).astype(int)\n",
        "df[\"POSTOP_VASO_YN\"] = df[\"VASO_INFUS\"].astype(str).str.strip().str.upper().map({'YES': 1, 'NO': 0})\n",
        "\n",
        "# Drop missing values\n",
        "df_clean = df.dropna(subset=[\"NEONATE\", \"POSTOP_VASO_YN\"])\n",
        "\n",
        "# Define outcome and predictor\n",
        "X = sm.add_constant(df_clean[\"NEONATE\"])\n",
        "y = df_clean[\"POSTOP_VASO_YN\"]\n",
        "\n",
        "# Run logistic regression\n",
        "model = sm.Logit(y, X)\n",
        "result = model.fit()\n",
        "\n",
        "# Show summary\n",
        "print(result.summary())\n",
        "\n",
        "# Calculate odds ratio and 95% CI\n",
        "import numpy as np\n",
        "params = result.params\n",
        "conf = result.conf_int()\n",
        "conf['OR'] = np.exp(params)\n",
        "conf.columns = ['2.5%', '97.5%', 'OR']\n",
        "conf = np.exp(conf)\n",
        "print(\"\\nOdds Ratio with 95% CI:\\n\", conf)"
      ],
      "metadata": {
        "id": "ngkUenqWjUii"
      },
      "execution_count": null,
      "outputs": []
    },
    {
      "cell_type": "markdown",
      "source": [
        "#### Logistic Regression Results\n",
        "\n",
        "We modeled vasopressor use based on neonatal status.\n",
        "\n",
        "---\n",
        "\n",
        "**Reference Group:** Non-neonates (`NEONATE = 0`)  \n",
        "**Predictor:** Neonates (`NEONATE = 1`)\n",
        "\n",
        "---\n",
        "\n",
        "### Key Findings\n",
        "\n",
        "- **Odds Ratio (OR):** 0.18  \n",
        "- **95% Confidence Interval:** [0.10, 0.32]  \n",
        "- **p-value:** < 0.001\n",
        "\n",
        "---\n",
        "\n",
        "### Interpretation\n",
        "\n",
        "Neonates were **significantly less likely** to receive postoperative vasopressors.\n",
        "\n",
        "- The odds of vasopressor use were **82% lower** in neonates compared to non-neonates.\n",
        "- The confidence interval does not include 1, indicating a statistically significant effect.\n",
        "\n",
        "---\n",
        "\n",
        "### Clinical Insight\n",
        "\n",
        "Although neonates are typically viewed as more physiologically fragile, this model suggests older infants required **more pharmacologic hemodynamic support** after surgery.  \n",
        "This finding aligns with the earlier chi-square result and may reflect factors such as:\n",
        "- Greater procedural complexity in older infants\n",
        "- Institutional variations in vasopressor initiation\n",
        "- Unmeasured intraoperative risk factors"
      ],
      "metadata": {
        "id": "7xlcxkhOjZzL"
      }
    },
    {
      "cell_type": "code",
      "source": [
        "import pandas as pd\n",
        "import numpy as np\n",
        "import matplotlib.pyplot as plt\n",
        "\n",
        "# Odds ratio data\n",
        "or_df = pd.DataFrame({\n",
        "    \"Variable\": [\"NEONATE\"],\n",
        "    \"Odds Ratio\": [0.18],\n",
        "    \"CI Lower\": [0.10],\n",
        "    \"CI Upper\": [0.32]\n",
        "})\n",
        "\n",
        "# Plot\n",
        "fig, ax = plt.subplots(figsize=(6, 4))\n",
        "\n",
        "# Define y-position for the variable\n",
        "y_pos = [0]  # Single variable at position 0\n",
        "\n",
        "# Calculate error bars\n",
        "lower_error = or_df[\"Odds Ratio\"] - or_df[\"CI Lower\"]\n",
        "upper_error = or_df[\"CI Upper\"] - or_df[\"Odds Ratio\"]\n",
        "asymmetric_error = [lower_error.values, upper_error.values]\n",
        "\n",
        "# Plot odds ratio with error bar\n",
        "ax.errorbar(\n",
        "    x=or_df[\"Odds Ratio\"],\n",
        "    y=y_pos,\n",
        "    xerr=asymmetric_error,\n",
        "    fmt='o', color='black', ecolor='gray', elinewidth=3, capsize=5\n",
        ")\n",
        "\n",
        "# Formatting\n",
        "ax.axvline(x=1, color='red', linestyle='--', label='No Effect')\n",
        "ax.set_yticks(y_pos)\n",
        "ax.set_yticklabels(or_df[\"Variable\"])\n",
        "ax.set_xlabel(\"Odds Ratio (log scale)\")\n",
        "ax.set_xscale(\"log\")\n",
        "ax.set_title(\"Odds Ratio for Vasopressor Use by Neonatal Status\")\n",
        "ax.legend()\n",
        "\n",
        "plt.tight_layout()\n",
        "plt.savefig(\"odds_ratio_plot.png\", bbox_inches='tight', dpi=300)\n",
        "plt.show()"
      ],
      "metadata": {
        "id": "bQH1fS3ZX8w2"
      },
      "execution_count": null,
      "outputs": []
    },
    {
      "cell_type": "markdown",
      "source": [
        "#### Odds Ratio Plot\n",
        "\n",
        "This plot helps us interpret the **strength and direction** of association between two groups:\n",
        "- **Neonates** (age < 30 days at surgery)\n",
        "- **Non-neonates** (older infants)\n",
        "\n",
        "The outcome we’re modeling is **postoperative vasopressor use**, and we’re asking:\n",
        "> Are neonates more or less likely to require vasopressors?\n",
        "\n",
        "---\n",
        "\n",
        "### How to Read This Plot:\n",
        "- The black **dot** shows the **odds ratio (OR)**: here, OR = 0.18.\n",
        "- The **horizontal bar** is the 95% **confidence interval (CI)**.\n",
        "  - It ranges from **0.10 to 0.32**.\n",
        "- The **red dashed line** at OR = 1 means **no difference** between groups.\n",
        "\n",
        "If the CI does **not cross 1**, the association is statistically significant.\n",
        "\n",
        "---\n",
        "\n",
        "### Interpretation:\n",
        "- An OR of **0.18** means **neonates are ~82% less likely** to receive vasopressors compared to non-neonates.\n",
        "- Since the entire CI is **below 1**, this result is **statistically significant**."
      ],
      "metadata": {
        "id": "F4XKpQqVnLq3"
      }
    },
    {
      "cell_type": "code",
      "source": [
        "import pandas as pd\n",
        "\n",
        "# Load your file (assuming you've uploaded it via the file browser in Colab)\n",
        "df_master = pd.read_csv(\"BIOSTATS_MASTER.csv\")\n",
        "\n",
        "# Confirm it's loaded\n",
        "df_master.head()"
      ],
      "metadata": {
        "id": "sD63hBZvVUAY"
      },
      "execution_count": null,
      "outputs": []
    },
    {
      "cell_type": "markdown",
      "source": [
        "## Q3: Do neonates with preoperative risk indicators experience longer ICU stays postoperatively?\n",
        "\n",
        "---\n",
        "\n",
        "**Hypotheses:**  \n",
        "- **Null Hypothesis (H₀):** Mean ICU stay is the same for neonates with and without preoperative risk factors.  \n",
        "- **Alternative Hypothesis (H₁):** Neonates with preoperative risk factors have a longer mean ICU stay.\n",
        "\n",
        "---\n",
        "\n",
        "**Statistical Test:**  \n",
        "Independent two-sample t-test using Welch’s correction (unequal variances)."
      ],
      "metadata": {
        "id": "aq6l56-jDCX3"
      }
    },
    {
      "cell_type": "code",
      "source": [
        "# Boxplot (clean, no warning, no legend)\n",
        "fig, ax = plt.subplots(figsize=(6, 5))\n",
        "\n",
        "sns.boxplot(\n",
        "    data=df_ttest,\n",
        "    x=\"PREOP_RISK_YN\",\n",
        "    y=\"icu_discharge_d_day\",\n",
        "    hue=\"PREOP_RISK_YN\",         # ← fixes the warning\n",
        "    palette=\"pastel\",\n",
        "    ax=ax,\n",
        "    legend=False                 # ← removes duplicate legend\n",
        ")\n",
        "\n",
        "ax.set_title(\"ICU Length of Stay by Preoperative Risk Status\")\n",
        "ax.set_xlabel(\"Preoperative Risk\")\n",
        "ax.set_ylabel(\"ICU Stay (Days)\")\n",
        "ax.grid(True, linestyle=\"--\", alpha=0.5)\n",
        "\n",
        "plt.tight_layout()\n",
        "plt.show()"
      ],
      "metadata": {
        "id": "BO0BZqMIV3wT"
      },
      "execution_count": null,
      "outputs": []
    },
    {
      "cell_type": "markdown",
      "source": [
        "### Summary Table – Descriptive Statistics\n",
        "\n",
        "| Preoperative Risk Status | N   | Mean ICU Stay (days) | Std Dev | Median | Min | Max |\n",
        "|---------------------------|-----|-----------------------|---------|--------|-----|-----|\n",
        "| With Preop Risk           | 26  | 4.54                  | 4.15    | 3.00   | 1   | 19  |\n",
        "| Without Preop Risk        | 48  | 2.79                  | 1.25    | 2.00   | 1   | 6   |\n",
        "\n",
        "---\n",
        "\n",
        "### Group Comparison: Mean Difference\n",
        "\n",
        "| Comparison               | Difference in Means |\n",
        "|--------------------------|---------------------|\n",
        "| With Risk − Without Risk | 4.54 − 2.79 = **1.75 days** |\n",
        "\n",
        "---\n",
        "\n",
        "### T-Test Output\n",
        "\n",
        "- **T-statistic:** 2.10  \n",
        "- **Degrees of freedom:** Welch’s method used  \n",
        "- **p-value:** 0.045"
      ],
      "metadata": {
        "id": "J9TOdwbrb0OI"
      }
    },
    {
      "cell_type": "markdown",
      "source": [
        "### Interpretation\n",
        "\n",
        "There is a statistically significant difference in ICU length of stay between neonates **with** vs **without** preoperative risk factors (*p* < 0.05).  \n",
        "We **reject the null hypothesis** and conclude that **preoperative instability or genetic risk contributes to longer ICU recovery**.\n",
        "\n",
        "---\n",
        "\n",
        "### Clinical Insight\n",
        "\n",
        "This finding reinforces the idea that even among neonates, **preoperative condition matters**:\n",
        "\n",
        "- Early identification of high-risk neonates can support triage and ICU resource planning.\n",
        "- Risk scores incorporating intubation, vasoactives, abnormal tests, or chromosomal syndromes may help flag patients who may require extended postoperative care.\n",
        "- Future quality improvement efforts should consider **preop optimization** for this subgroup."
      ],
      "metadata": {
        "id": "iPy3C_cPb4wE"
      }
    },
    {
      "cell_type": "markdown",
      "source": [
        "# Surgical Burden & Physiologic Stress  \n",
        "**Does procedural complexity predict stress and slower recovery?**\n",
        "\n"
      ],
      "metadata": {
        "id": "v2AZ8gkBgNHj"
      }
    },
    {
      "cell_type": "markdown",
      "source": [
        "### Clinical Rationale  \n",
        "\n",
        "Longer **cardiopulmonary bypass (CPB)** and **cross-clamp times** increase metabolic demand and contribute to ischemia-reperfusion injury.  \n",
        "These intraoperative stressors may raise **postoperative lactate levels**, increase the risk of **complications**, and prolong **ICU stay**.  \n",
        "This chapter investigates how intraoperative factors predict markers of physiologic burden and recovery trajectory.\n",
        "\n",
        "---\n",
        "\n",
        "### Statistical Questions  \n",
        "\n",
        "1. **ANOVA**  \n",
        "   Do lactate levels differ across cross-clamp duration groups?\n",
        "\n",
        "2. **T-test**  \n",
        "   Do patients with longer CPB times have higher postoperative lactate?\n",
        "\n",
        "3. **Correlation**  \n",
        "   Is higher postoperative lactate associated with longer ICU stay?\n",
        "\n",
        "---\n",
        "\n",
        "### Grouping Definitions  \n",
        "\n",
        "- **Cross-Clamp Groups (for ANOVA):**  \n",
        "  - Short: < 40 minutes  \n",
        "  - Medium: 40–80 minutes  \n",
        "  - Long: > 80 minutes  "
      ],
      "metadata": {
        "id": "cVabVjCthM3n"
      }
    },
    {
      "cell_type": "code",
      "source": [
        "from google.colab import files\n",
        "upload=files.upload()"
      ],
      "metadata": {
        "id": "rQWZ7zenvrrW"
      },
      "execution_count": null,
      "outputs": []
    },
    {
      "cell_type": "code",
      "source": [
        "# Step: Remove manual outliers (lactate > 20 mmol/L)\n",
        "outlier_ids = [53333, 53489]\n",
        "df_clean = df[~df[\"BLIND_ID\"].isin(outlier_ids)].copy()\n",
        "\n",
        "# Confirm removal\n",
        "print(f\"Remaining patients after removing outliers: {len(df_clean)}\")"
      ],
      "metadata": {
        "id": "_oQ4w2YoNkkU"
      },
      "execution_count": null,
      "outputs": []
    },
    {
      "cell_type": "markdown",
      "source": [
        "## Q1:**Do initial postoperative lactate levels differ across patients grouped by cross-clamp duration (Short, Medium, Long)?**\n",
        "\n",
        "---\n",
        "\n",
        "### Hypotheses\n",
        "\n",
        "- **Null (H₀):** Mean lactate levels are equal across all cross-clamp groups  \n",
        "- **Alternative (H₁):** At least one group has a different mean lactate level\n",
        "\n",
        "---\n",
        "\n",
        "### Statistical Test: One-Way ANOVA\n",
        "\n",
        "This test compares the mean of a continuous variable across three or more independent groups.\n",
        "\n",
        "---\n",
        "\n",
        "### Variables\n",
        "\n",
        "- **Grouping Variable:** `XCLAMP_T` (Cross-clamp time in minutes)  \n",
        "  - Grouped as:\n",
        "    - **Short**: < 40 min  \n",
        "    - **Medium**: 40–80 min  \n",
        "    - **Long**: > 80 min  \n",
        "\n",
        "- **Outcome Variable:** `LACTATE_VALUE`  \n",
        "  - Initial postoperative lactate measured closest to ICU admission\n",
        "\n",
        "- **Outliers Removed:** 2 patients with lactate > 20 mmol/L were excluded due to documented entry error."
      ],
      "metadata": {
        "id": "bjuVVZyVwjui"
      }
    },
    {
      "cell_type": "code",
      "source": [
        "import pandas as pd\n",
        "from scipy.stats import f_oneway\n",
        "\n",
        "# Load your dataset\n",
        "df = pd.read_csv(\"BIOSTATS_MASTER.csv\")\n",
        "\n",
        "# Exclude manual outliers based on BLIND_ID\n",
        "outlier_ids = [53333, 53489]\n",
        "df_clean = df[~df[\"BLIND_ID\"].isin(outlier_ids)].copy()\n",
        "\n",
        "# Define cross-clamp groups\n",
        "def categorize_clamp_time(x):\n",
        "    if x < 40:\n",
        "        return \"Short\"\n",
        "    elif 40 <= x <= 80:\n",
        "        return \"Medium\"\n",
        "    else:\n",
        "        return \"Long\"\n",
        "\n",
        "df_clean[\"xclamp_group\"] = df_clean[\"XCLAMP_T\"].apply(categorize_clamp_time)\n",
        "\n",
        "# Drop missing lactate values\n",
        "df_anova = df_clean.dropna(subset=[\"LACTATE_VALUE\", \"xclamp_group\"])\n",
        "\n",
        "# Create group-specific samples\n",
        "group_short = df_anova[df_anova[\"xclamp_group\"] == \"Short\"][\"LACTATE_VALUE\"]\n",
        "group_medium = df_anova[df_anova[\"xclamp_group\"] == \"Medium\"][\"LACTATE_VALUE\"]\n",
        "group_long = df_anova[df_anova[\"xclamp_group\"] == \"Long\"][\"LACTATE_VALUE\"]\n",
        "\n",
        "# Run one-way ANOVA\n",
        "f_stat, p_val = f_oneway(group_short, group_medium, group_long)\n",
        "\n",
        "# Print results\n",
        "print(f\"F-statistic: {f_stat:.2f}\")\n",
        "print(f\"P-value: {p_val:.4f}\")"
      ],
      "metadata": {
        "id": "ogDJFUT6PSeu"
      },
      "execution_count": null,
      "outputs": []
    },
    {
      "cell_type": "markdown",
      "source": [
        "### Results\n",
        "\n",
        "- **F-statistic:** 2.56  \n",
        "- **P-value:** 0.0792  \n",
        "\n",
        "There is a **trend toward statistical significance**, but the difference in mean lactate levels across the three cross-clamp duration groups **did not meet the conventional threshold (p < 0.05)**.\n",
        "\n",
        "---\n",
        "\n",
        "### Clinical Interpretation\n",
        "\n",
        "While not statistically significant, this result may suggest **a relationship between cross-clamp time and metabolic stress** as measured by lactate.\n",
        "\n",
        "Further investigation using:\n",
        "- **Larger sample size**\n",
        "- **Post-hoc pairwise comparisons**\n",
        "- Or **continuous modeling (e.g., regression)**  \n",
        "may clarify the association.\n",
        "\n",
        "---\n",
        "\n",
        "### Limitations\n",
        "\n",
        "- Small group sizes may reduce power to detect significance  \n",
        "- Lactate values can fluctuate based on perfusion practices and sampling time  \n",
        "- No adjustment for patient weight, surgery type, or CPB time"
      ],
      "metadata": {
        "id": "x_YFC5m3xpEg"
      }
    },
    {
      "cell_type": "code",
      "source": [
        "import matplotlib.pyplot as plt\n",
        "import seaborn as sns\n",
        "\n",
        "fig, ax = plt.subplots(figsize=(8, 5))\n",
        "\n",
        "# Boxplot of lactate by cross-clamp group (w/o outliers)\n",
        "sns.boxplot(\n",
        "    data=df_anova,\n",
        "    x='xclamp_group',\n",
        "    y='LACTATE_VALUE',\n",
        "    showfliers=False,\n",
        "    boxprops=dict(alpha=0.7),\n",
        "    ax=ax\n",
        ")\n",
        "\n",
        "# Overlay raw data\n",
        "sns.stripplot(\n",
        "    data=df_anova,\n",
        "    x='xclamp_group',\n",
        "    y='LACTATE_VALUE',\n",
        "    color='black',\n",
        "    size=4,\n",
        "    jitter=0.2,\n",
        "    ax=ax\n",
        ")\n",
        "\n",
        "ax.set_title(\"Postop Lactate by Cross-Clamp Group (Box + Raw Data)\")\n",
        "ax.set_xlabel(\"Cross-Clamp Duration Group\")\n",
        "ax.set_ylabel(\"Initial Postop Lactate (mmol/L)\")\n",
        "plt.grid(True, linestyle=\"--\", alpha=0.3)\n",
        "plt.tight_layout()\n",
        "plt.show()"
      ],
      "metadata": {
        "id": "MQqAS7P3P-3V"
      },
      "execution_count": null,
      "outputs": []
    },
    {
      "cell_type": "markdown",
      "source": [
        "###Figure 1: Postop Lactate by Cross-Clamp Group (Box + Raw Data)\n",
        "\n",
        "- Lactate values appear **slightly higher** in the \"Long\" cross-clamp group.\n",
        "- **Boxplots** show some overlap in interquartile ranges across all three groups.\n",
        "- **Stripplot overlay** highlights individual patient clustering — most values fall below 6 mmol/L.\n",
        "- No clear visual outliers after cleaning, but distribution skew is visible.\n",
        "\n",
        "➡️ Interpretation:  \n",
        "While the median lactate rises with longer clamp time, there is **substantial variability** within each group — aligning with the non-significant ANOVA result."
      ],
      "metadata": {
        "id": "aCoJDWk21CHX"
      }
    },
    {
      "cell_type": "code",
      "source": [
        "g = sns.FacetGrid(\n",
        "    df_anova,\n",
        "    col=\"xclamp_group\",\n",
        "    height=4,\n",
        "    aspect=1\n",
        ")\n",
        "\n",
        "g.map(\n",
        "    sns.histplot,\n",
        "    \"LACTATE_VALUE\",\n",
        "    bins=10,\n",
        "    kde=True,\n",
        "    color=\"salmon\"\n",
        ")\n",
        "\n",
        "g.set_axis_labels(\"Initial Postop Lactate (mmol/L)\", \"Count\")\n",
        "g.set_titles(\"Group: {col_name}\")\n",
        "plt.tight_layout()\n",
        "plt.show()"
      ],
      "metadata": {
        "id": "rfYknnNxz_K-"
      },
      "execution_count": null,
      "outputs": []
    },
    {
      "cell_type": "markdown",
      "source": [
        "### Figure 2: Lactate Distribution by Cross-Clamp Group (Histogram + KDE)\n",
        "\n",
        "- Each panel shows the **frequency and shape** of lactate levels by group.\n",
        "- The **Long** group has a **right-shifted distribution**, with a mild increase in patients showing higher lactate.\n",
        "- **KDE curves** suggest subtle distributional shifts, but overlap remains between groups.\n",
        "\n",
        "➡️ Interpretation:  \n",
        "The shape of the distributions hints at a potential difference, but **the overlap supports the statistical result** — group differences are present, but not strong enough to reach significance in this cohort."
      ],
      "metadata": {
        "id": "y-ZLBGGu1Jw4"
      }
    },
    {
      "cell_type": "markdown",
      "source": [
        "### Post-Hoc Testing\n",
        "\n",
        "Although our ANOVA did not reach conventional significance (**p = 0.0792**), the trend suggested **possible differences** in postoperative lactate between cross-clamp groups.\n",
        "\n",
        "To further explore this, we use a **Tukey Honestly Significant Difference (HSD) test**, which compares **all pairs of group means** while adjusting for multiple comparisons.\n",
        "\n",
        "This helps determine:\n",
        "- If any specific groups (e.g., Short vs. Long) differ significantly  \n",
        "- Whether the trend seen in the data is driven by one group more than others\n",
        "\n",
        "Tukey HSD is appropriate here because:\n",
        "- ANOVA was used as the initial test  \n",
        "- We are comparing **more than two group means**  \n",
        "- Assumptions of normality and equal variances are reasonably met"
      ],
      "metadata": {
        "id": "Aq1cGdzORBqk"
      }
    },
    {
      "cell_type": "code",
      "source": [
        "from statsmodels.stats.multicomp import pairwise_tukeyhsd\n",
        "import statsmodels.api as sm\n",
        "\n",
        "# Run Tukey's HSD post-hoc test\n",
        "tukey = pairwise_tukeyhsd(\n",
        "    endog=df_anova[\"LACTATE_VALUE\"],      # Outcome variable\n",
        "    groups=df_anova[\"xclamp_group\"],      # Grouping variable (Short, Medium, Long)\n",
        "    alpha=0.05\n",
        ")\n",
        "\n",
        "# Display the summary table\n",
        "print(tukey.summary())"
      ],
      "metadata": {
        "id": "MV3-VfIRQxE3"
      },
      "execution_count": null,
      "outputs": []
    },
    {
      "cell_type": "markdown",
      "source": [
        "### Post-Hoc Results: Tukey HSD\n",
        "\n",
        "| Comparison      | Mean Diff | 95% CI           | p-value | Significant? |\n",
        "|----------------|-----------|------------------|---------|---------------|\n",
        "| Long vs Medium | +0.17     | [-0.07, 0.42]     | 0.225   | ❌ No          |\n",
        "| Long vs Short  | –0.27     | [–0.80, +0.25]    | 0.443   | ❌ No          |\n",
        "| Medium vs Short| –0.44     | [–0.98, +0.09]    | 0.127   | ❌ No          |\n",
        "\n",
        "---\n",
        "\n",
        "### Interpretation\n",
        "\n",
        "- **No pairwise comparisons reached statistical significance** after correcting for multiple testing.\n",
        "- The **largest difference** was between Medium and Short clamp groups (–0.44 mmol/L), but this still did not meet the adjusted threshold (p = 0.127).\n",
        "- These results reinforce the original ANOVA finding — **cross-clamp groupings did not significantly differ in lactate levels** in this cohort.\n",
        "\n",
        "Clinically, this suggests that **clamp duration alone** may not explain postoperative metabolic stress, and other factors (e.g. perfusion strategy, comorbidities) may contribute more meaningfully."
      ],
      "metadata": {
        "id": "N4YTggHTRKAM"
      }
    },
    {
      "cell_type": "code",
      "source": [
        "import numpy as np\n",
        "import matplotlib.pyplot as plt\n",
        "import seaborn as sns\n",
        "import statsmodels.api as sm\n",
        "\n",
        "# Calculate means and confidence intervals\n",
        "group_stats = df_anova.groupby(\"xclamp_group\")[\"LACTATE_VALUE\"].agg([\"mean\", \"count\", \"std\"])\n",
        "group_stats[\"sem\"] = group_stats[\"std\"] / np.sqrt(group_stats[\"count\"])\n",
        "group_stats[\"ci95\"] = group_stats[\"sem\"] * 1.96  # 95% CI\n",
        "\n",
        "# Reset index for plotting\n",
        "group_stats = group_stats.reset_index()\n",
        "\n",
        "# Plot\n",
        "fig, ax = plt.subplots(figsize=(7, 5))\n",
        "sns.pointplot(\n",
        "    data=group_stats,\n",
        "    x=\"xclamp_group\",\n",
        "    y=\"mean\",\n",
        "    join=False,\n",
        "    color=\"darkred\",\n",
        "    markers=\"o\",\n",
        "    scale=1.2,\n",
        "    errwidth=1.5\n",
        ")\n",
        "\n",
        "# Add custom error bars (CI)\n",
        "ax.errorbar(\n",
        "    x=range(len(group_stats)),\n",
        "    y=group_stats[\"mean\"],\n",
        "    yerr=group_stats[\"ci95\"],\n",
        "    fmt='none',\n",
        "    capsize=5,\n",
        "    color='black'\n",
        ")\n",
        "\n",
        "ax.set_title(\"Mean Postop Lactate by Cross-Clamp Group (with 95% CI)\")\n",
        "ax.set_xlabel(\"Cross-Clamp Group\")\n",
        "ax.set_ylabel(\"Mean Lactate (mmol/L)\")\n",
        "plt.grid(True, linestyle=\"--\", alpha=0.3)\n",
        "plt.tight_layout()\n",
        "plt.show()"
      ],
      "metadata": {
        "id": "hsXZk-IhQ0T6"
      },
      "execution_count": null,
      "outputs": []
    },
    {
      "cell_type": "markdown",
      "source": [
        "###Figure: Mean Lactate by Cross-Clamp Group (w/ 95% CI)\n",
        "\n",
        "- **Group means** are plotted with **vertical error bars** showing the 95% confidence interval.\n",
        "- The **\"Long\" clamp group** has the highest mean lactate, while **\"Short\"** has the lowest.\n",
        "- However, the **confidence intervals overlap**, suggesting **no statistically significant difference**.\n",
        "\n",
        "➡️ **Interpretation**:  \n",
        "This visual reinforces the findings of both the ANOVA and post-hoc Tukey test — while lactate levels trend upward with clamp duration, the variation within groups limits statistical confidence.  \n",
        "The **overlapping CI bars** support the conclusion that cross-clamp time, on its own, may not reliably predict early metabolic stress."
      ],
      "metadata": {
        "id": "n9lXgclsR5ef"
      }
    },
    {
      "cell_type": "markdown",
      "source": [
        "## Q2: **Is the *mean postoperative lactate* level higher in patients with prolonged CPB times (≥90 minutes)?**\n",
        "\n",
        "---\n",
        "\n",
        "### Hypotheses  \n",
        "\n",
        "- **Null (H₀):** Mean postoperative lactate levels are equal in short and prolonged CPB groups  \n",
        "- **Alternative (H₁):** Mean postoperative lactate levels differ between short and prolonged CPB groups\n",
        "\n",
        "---\n",
        "\n",
        "### Statistical Test: Independent T-test  \n",
        "\n",
        "We compare the *mean* lactate levels between two CPB duration groups:\n",
        "- **Short CPB:** < 90 minutes  \n",
        "- **Prolonged CPB:** ≥ 90 minutes  \n",
        "\n",
        "This helps assess whether **longer cardiopulmonary bypass time** is associated with **greater metabolic stress**, reflected by higher serum lactate.\n",
        "\n",
        "---\n",
        "\n",
        "### 🔎 Variables Used  \n",
        "\n",
        "- `CPB_T` — Cardiopulmonary bypass time (minutes)  \n",
        "- `LACTATE_VALUE` — Initial postoperative lactate level (mmol/L)"
      ],
      "metadata": {
        "id": "zDPtI-sJ-TY9"
      }
    },
    {
      "cell_type": "code",
      "source": [
        "import pandas as pd\n",
        "\n",
        "# Load your master dataset again\n",
        "df = pd.read_csv(\"/content/BIOSTATS_MASTER.csv\")"
      ],
      "metadata": {
        "id": "In2J1ZK0-aZ8"
      },
      "execution_count": null,
      "outputs": []
    },
    {
      "cell_type": "code",
      "source": [
        "import pandas as pd\n",
        "from scipy.stats import ttest_ind\n",
        "\n",
        "# Load dataset\n",
        "df = pd.read_csv(\"BIOSTATS_MASTER.csv\")\n",
        "\n",
        "# Step 1: Remove lactate outliers\n",
        "lactate_outliers = [53333, 53489]\n",
        "df_clean = df[~df[\"BLIND_ID\"].isin(lactate_outliers)].copy()\n",
        "\n",
        "# Step 2: Drop missing CPB time or lactate values\n",
        "df_ttest = df_clean.dropna(subset=[\"CPB_T\", \"LACTATE_VALUE\"]).copy()\n",
        "\n",
        "# Step 3: Create CPB group column\n",
        "df_ttest[\"CPB_GROUP\"] = df_ttest[\"CPB_T\"].apply(\n",
        "    lambda x: \"Prolonged (≥90 min)\" if x >= 90 else \"Short (<90 min)\"\n",
        ")\n",
        "\n",
        "# Step 4: Create comparison groups\n",
        "group_short = df_ttest[df_ttest[\"CPB_GROUP\"] == \"Short (<90 min)\"][\"LACTATE_VALUE\"]\n",
        "group_long = df_ttest[df_ttest[\"CPB_GROUP\"] == \"Prolonged (≥90 min)\"][\"LACTATE_VALUE\"]\n",
        "\n",
        "# Step 5: Run t-test\n",
        "t_stat, p_val = ttest_ind(group_long, group_short, equal_var=False)\n",
        "\n",
        "# Step 6: Output results\n",
        "print(\"T-test Results\")\n",
        "print(\"-------------------------\")\n",
        "print(f\"T-statistic: {t_stat:.2f}\")\n",
        "print(f\"P-value: {p_val:.4f}\")\n",
        "print(\"\\nGroup Counts\")\n",
        "print(f\"Short CPB group: {len(group_short)}\")\n",
        "print(f\"Prolonged CPB group: {len(group_long)}\")\n",
        "print(\"\\nMean Lactate Values\")\n",
        "print(f\"Short CPB: {group_short.mean():.2f} mmol/L\")\n",
        "print(f\"Prolonged CPB: {group_long.mean():.2f} mmol/L\")"
      ],
      "metadata": {
        "id": "E_pbNOtrDxUP"
      },
      "execution_count": null,
      "outputs": []
    },
    {
      "cell_type": "markdown",
      "source": [
        "## T-Test Results\n",
        "\n",
        "### Comparison:\n",
        "**Mean postoperative lactate levels**  \n",
        "between patients with **short CPB** (<90 min) vs. **prolonged CPB** (≥90 min)\n",
        "\n",
        "---\n",
        "\n",
        "### Group Stats\n",
        "\n",
        "| CPB Group           | Mean Lactate | n   |\n",
        "|---------------------|--------------|-----|\n",
        "| Short (<90 min)     | 1.47 mmol/L  | 47  |\n",
        "| Prolonged (≥90 min) | 1.71 mmol/L  | 109 |\n",
        "\n",
        "---\n",
        "\n",
        "### Statistical Output\n",
        "\n",
        "- **T-statistic:** 1.77  \n",
        "- **P-value:** 0.0804\n",
        "\n",
        "---\n",
        "\n",
        "### Interpretation\n",
        "\n",
        "Patients with prolonged CPB time had **higher mean lactate levels**, but the difference did **not reach statistical significance** (p > 0.05).\n",
        "\n",
        "This suggests a **trend** toward increased physiologic stress with longer bypass duration, though this sample did not demonstrate a conclusive difference.  \n",
        "Further analysis with larger cohorts or continuous modeling may better capture this relationship."
      ],
      "metadata": {
        "id": "QubH-5-zFEIH"
      }
    },
    {
      "cell_type": "code",
      "source": [
        "import matplotlib.pyplot as plt\n",
        "import seaborn as sns\n",
        "\n",
        "# Create the plot\n",
        "fig, ax = plt.subplots(figsize=(8, 5))\n",
        "\n",
        "sns.boxplot(\n",
        "    data=df_ttest,\n",
        "    x=\"CPB_GROUP\",\n",
        "    y=\"LACTATE_VALUE\",\n",
        "    showfliers=False,\n",
        "    palette=\"pastel\",\n",
        "    ax=ax\n",
        ")\n",
        "\n",
        "sns.stripplot(\n",
        "    data=df_ttest,\n",
        "    x=\"CPB_GROUP\",\n",
        "    y=\"LACTATE_VALUE\",\n",
        "    color=\"black\",\n",
        "    size=4,\n",
        "    jitter=0.25,\n",
        "    alpha=0.6,\n",
        "    ax=ax\n",
        ")\n",
        "\n",
        "ax.set_title(\"Postop Lactate by CPB Group (Box + Raw Data)\")\n",
        "ax.set_xlabel(\"CPB Group\")\n",
        "ax.set_ylabel(\"Postoperative Lactate (mmol/L)\")\n",
        "plt.tight_layout()\n",
        "plt.show()"
      ],
      "metadata": {
        "id": "0tAlx6QNGssi"
      },
      "execution_count": null,
      "outputs": []
    },
    {
      "cell_type": "markdown",
      "source": [
        "The boxplot displays the distribution of **postoperative lactate levels** stratified by CPB duration (short vs prolonged).\n",
        "\n",
        "- **Median lactate values** appear slightly higher in the prolonged CPB group.\n",
        "- The **spread (IQR)** is comparable between groups, but prolonged CPB shows **greater right-skew**, with more patients having elevated lactates.\n",
        "- **Overlayed stripplot** reveals dense clustering near the median and a few scattered higher values — suggesting that while most patients cluster around normal lactate levels, **outliers drive the group mean upward** in prolonged CPB.\n",
        "\n",
        "Although the visual hints at a trend, the **mean difference was not statistically significant (p = 0.08)**.  \n",
        "This may reflect subtle physiologic stress that is not large enough to reach significance — or a sample size too small to detect it."
      ],
      "metadata": {
        "id": "Rw6sy8UzHPux"
      }
    },
    {
      "cell_type": "code",
      "source": [
        "# Define CPB group\n",
        "df_clean[\"cpb_group\"] = df_clean[\"CPB_T\"].apply(lambda x: \"Prolonged (≥90 min)\" if x >= 90 else \"Short (<90 min)\")\n",
        "\n",
        "# Now plot the histogram\n",
        "import matplotlib.pyplot as plt\n",
        "import seaborn as sns\n",
        "\n",
        "fig, ax = plt.subplots(figsize=(8, 5))\n",
        "sns.histplot(\n",
        "    data=df_clean,\n",
        "    x=\"LACTATE_VALUE\",\n",
        "    hue=\"cpb_group\",\n",
        "    bins=15,\n",
        "    kde=True,\n",
        "    palette=\"pastel\",\n",
        "    ax=ax\n",
        ")\n",
        "\n",
        "ax.set_title(\"Postoperative Lactate by CPB Duration Group\")\n",
        "ax.set_xlabel(\"Lactate Value (mmol/L)\")\n",
        "ax.set_ylabel(\"Count\")\n",
        "plt.grid(True, linestyle='--', alpha=0.5)\n",
        "plt.tight_layout()\n",
        "plt.show()"
      ],
      "metadata": {
        "id": "sbKqAhUxG94E"
      },
      "execution_count": null,
      "outputs": []
    },
    {
      "cell_type": "markdown",
      "source": [
        "### Figure 2: Lactate Distribution by CPB Duration Group\n",
        "- Both groups are **right-skewed**, but prolonged CPB group shifts slightly **rightward**.\n",
        "- **Higher peak lactates** and more variability seen in the prolonged group.\n",
        "- The **longer tail** suggests more patients with **elevated lactate** in prolonged cases.\n",
        "- Even though our t-test wasn’t statistically significant, this pattern may reflect a **real clinical trend**."
      ],
      "metadata": {
        "id": "2EDFGYhyHY0P"
      }
    },
    {
      "cell_type": "markdown",
      "source": [
        "## Q3: **Do higher postoperative lactate levels correlate with longer ICU stays?**\n",
        "\n",
        "---\n",
        "\n",
        "### Hypotheses  \n",
        "\n",
        "- **Null (H₀):** There is no linear relationship between postoperative lactate levels and ICU length of stay  \n",
        "- **Alternative (H₁):** Higher postoperative lactate levels are positively correlated with ICU length of stay\n",
        "\n",
        "---\n",
        "\n",
        "### Statistical Test: Pearson Correlation  \n",
        "\n",
        "This test assesses the **linear relationship** between two continuous variables.\n",
        "\n",
        "---\n",
        "\n",
        "### Variables Used  \n",
        "\n",
        "- `LACTATE_VALUE` — Initial postoperative lactate (closest to ICU arrival)  \n",
        "- `ICU_DISCHARGE_D_DAY` — ICU length of stay (days)\n",
        "\n",
        "---\n",
        "\n",
        "### Clinical Rationale  \n",
        "\n",
        "Postoperative lactate reflects **metabolic stress and oxygen debt**.  \n",
        "If elevated lactate correlates with prolonged ICU stay, it may serve as an early marker of **more complex recovery** — useful for triage, resource planning, and identifying patients at risk for complications."
      ],
      "metadata": {
        "id": "dOGtIX5FTv9u"
      }
    },
    {
      "cell_type": "code",
      "source": [
        "import pandas as pd\n",
        "import matplotlib.pyplot as plt\n",
        "import seaborn as sns\n",
        "from scipy.stats import pearsonr\n",
        "\n",
        "# Load dataset\n",
        "df = pd.read_csv(\"BIOSTATS_MASTER.csv\")\n",
        "\n",
        "# Drop missing values for relevant columns\n",
        "df_corr = df[[\"LACTATE_VALUE\", \"icu_discharge_d_day\"]].dropna()\n",
        "\n",
        "# Exclude extreme outliers\n",
        "df_corr = df_corr[\n",
        "    (df_corr[\"LACTATE_VALUE\"] <= 20) &\n",
        "    (df_corr[\"icu_discharge_d_day\"] <= 90)\n",
        "]\n",
        "\n",
        "# Run Pearson correlation\n",
        "r_val, p_val = pearsonr(df_corr[\"LACTATE_VALUE\"], df_corr[\"icu_discharge_d_day\"])\n",
        "print(f\"Pearson correlation coefficient (r): {r_val:.3f}\")\n",
        "print(f\"P-value: {p_val:.4f}\")"
      ],
      "metadata": {
        "id": "OgyizPH8T2dU"
      },
      "execution_count": null,
      "outputs": []
    },
    {
      "cell_type": "markdown",
      "source": [
        "---\n",
        "\n",
        "### Results\n",
        "\n",
        "- **Pearson correlation coefficient (r):** 0.121  \n",
        "- **P-value:** 0.0616\n",
        "\n",
        "---\n",
        "\n",
        "### Interpretation\n",
        "\n",
        "There is a **weak positive correlation** between postoperative lactate levels and ICU length of stay.  \n",
        "However, this result **did not reach statistical significance** at the conventional α = 0.05 threshold.\n",
        "\n",
        "- While the direction of the relationship suggests that **higher lactates may be associated with longer ICU stays**, the strength of this correlation is **modest**.\n",
        "- The **p-value of 0.0616** indicates a trend, but not strong enough to reject the null hypothesis.\n",
        "\n",
        "---\n",
        "\n",
        "### Clinical Insight\n",
        "\n",
        "Elevated lactate is often viewed as a marker of poor perfusion or increased surgical stress.  \n",
        "This analysis suggests a **possible trend** toward prolonged ICU recovery in patients with higher lactates — but the relationship was **not strong or statistically significant** in this sample.\n",
        "\n",
        "- This may be due to:\n",
        "  - Small effect size\n",
        "  - Timing of lactate measurement\n",
        "  - Confounding clinical factors (e.g., extubation status, complications)\n",
        "\n",
        "Further investigation with **larger samples or adjusted models** may help clarify whether lactate truly predicts ICU trajectory."
      ],
      "metadata": {
        "id": "iCOA3_dTWjjA"
      }
    },
    {
      "cell_type": "code",
      "source": [
        "fig, ax = plt.subplots(figsize=(7, 5))\n",
        "\n",
        "sns.regplot(\n",
        "    data=df_corr,\n",
        "    x=\"LACTATE_VALUE\",\n",
        "    y=\"icu_discharge_d_day\",\n",
        "    scatter_kws={\"alpha\": 0.6},\n",
        "    line_kws={\"color\": \"red\"},\n",
        "    ax=ax\n",
        ")\n",
        "\n",
        "ax.set_title(\"Postoperative Lactate vs. ICU Length of Stay\")\n",
        "ax.set_xlabel(\"Postoperative Lactate (mmol/L)\")\n",
        "ax.set_ylabel(\"ICU Stay (Days)\")\n",
        "plt.grid(True, linestyle=\"--\", alpha=0.3)\n",
        "plt.tight_layout()\n",
        "plt.show()"
      ],
      "metadata": {
        "id": "PmKclIT4Uc6G"
      },
      "execution_count": null,
      "outputs": []
    },
    {
      "cell_type": "markdown",
      "source": [
        "## Q1: **Do neonates differ from non-neonates in the type of postoperative respiratory support they require?**\n",
        "\n",
        "---\n",
        "\n",
        "### Hypotheses\n",
        "\n",
        "- **Null (H₀):** There is no association between neonate status and type of postoperative respiratory support  \n",
        "- **Alternative (H₁):** Neonates are more likely to require PAP or HFNC support than non-neonates\n",
        "\n",
        "---\n",
        "\n",
        "### Clinical Rationale\n",
        "\n",
        "Neonates have immature lungs, altered respiratory mechanics, and may experience greater difficulty weaning from ventilation.  \n",
        "This analysis investigates whether **neonate status** influences the type of **non-invasive support** needed after extubation (e.g., CPAP/BiPAP, HFNC, or none).\n",
        "\n",
        "---\n",
        "\n",
        "### Statistical Test: Chi-Square Test of Independence\n",
        "\n",
        "Used to compare a **categorical outcome** (support mode) across two **independent groups** (neonates vs non-neonates)\n",
        "\n",
        "---\n",
        "\n",
        "### Variables\n",
        "\n",
        "- **`NEONATE`** – Binary flag  \n",
        "  - `1` = Age < 30 days at time of surgery  \n",
        "  - `0` = Age ≥ 30 days  \n",
        "\n",
        "- **`POSTOP_SUPPORT_MODE`** – Derived category:  \n",
        "  - `\"None\"` = No non-invasive support  \n",
        "  - `\"HFNC\"` = High flow nasal cannula only  \n",
        "  - `\"PAP\"` = CPAP/BiPAP only  \n",
        "  - `\"Both\"` = Received both PAP and HFNC\n",
        "\n",
        "---\n",
        "\n",
        "### Interpretation Template\n",
        "\n",
        "- **Chi² =** X.XX  \n",
        "- **P-value =** X.XXXX  \n",
        "\n",
        "🔎 If p < 0.05 → Significant association between neonate status and support mode  \n",
        "🔎 If p ≥ 0.05 → No significant association"
      ],
      "metadata": {
        "id": "RNOLi2E3kuvJ"
      }
    },
    {
      "cell_type": "code",
      "source": [],
      "metadata": {
        "id": "eJl4KGvg9htY"
      },
      "execution_count": null,
      "outputs": []
    },
    {
      "cell_type": "code",
      "source": [
        "import pandas as pd\n",
        "from scipy.stats import chi2_contingency\n",
        "\n",
        "# Load your master dataset\n",
        "df = pd.read_csv(\"BIOSTATS_MASTER.csv\")\n",
        "\n",
        "# Rebuild NEONATE flag using age in days (if needed)\n",
        "df[\"NEONATE\"] = df[\"PROC_AGE_DAYS\"].apply(lambda x: 1 if x < 30 else 0)\n",
        "\n",
        "# Convert support variables to binary\n",
        "df[\"PAP_YN\"] = df[\"PAP\"].astype(str).str.upper().map({\"YES\": 1, \"NO\": 0})\n",
        "df[\"HFNC_YN\"] = df[\"HFNC\"].astype(str).str.upper().map({\"YES\": 1, \"NO\": 0})\n",
        "\n",
        "# Create support type variable\n",
        "def classify_support(row):\n",
        "    if row[\"PAP_YN\"] == 1 and row[\"HFNC_YN\"] == 1:\n",
        "        return \"Both\"\n",
        "    elif row[\"PAP_YN\"] == 1:\n",
        "        return \"PAP\"\n",
        "    elif row[\"HFNC_YN\"] == 1:\n",
        "        return \"HFNC\"\n",
        "    else:\n",
        "        return \"None\"\n",
        "\n",
        "df[\"POSTOP_SUPPORT_MODE\"] = df.apply(classify_support, axis=1)\n",
        "\n",
        "# Drop rows with missing values\n",
        "df_clean = df.dropna(subset=[\"NEONATE\", \"POSTOP_SUPPORT_MODE\"])\n",
        "\n",
        "# Build contingency table\n",
        "contingency = pd.crosstab(df_clean[\"NEONATE\"], df_clean[\"POSTOP_SUPPORT_MODE\"])\n",
        "print(\"Contingency Table:\\n\", contingency)\n",
        "\n",
        "# Run chi-square test\n",
        "chi2, p, dof, expected = chi2_contingency(contingency)\n",
        "print(f\"\\nChi² = {chi2:.2f}\")\n",
        "print(f\"P-value = {p:.4f}\")"
      ],
      "metadata": {
        "id": "QTzsQdZ49jIc"
      },
      "execution_count": null,
      "outputs": []
    },
    {
      "cell_type": "markdown",
      "source": [
        "---\n",
        "\n",
        "### 🔬 Results\n",
        "\n",
        "**Contingency Table:**  \n",
        "- **Non-neonates (Age ≥ 30 days):**  \n",
        "  - Both: 32  \n",
        "  - HFNC: 25  \n",
        "  - None: 148  \n",
        "  - PAP: 43  \n",
        "\n",
        "- **Neonates (Age < 30 days):**  \n",
        "  - Both: 11  \n",
        "  - HFNC: 13  \n",
        "  - None: 34  \n",
        "  - PAP: 16  \n",
        "\n",
        "**Chi² =** 5.34  \n",
        "**P-value =** 0.1483\n",
        "\n",
        "---\n",
        "\n",
        "### ✅ Interpretation\n",
        "\n",
        "There was **no statistically significant association** between neonate status and the type of postoperative respiratory support required.  \n",
        "(P > 0.05)\n",
        "\n",
        "We **fail to reject the null hypothesis**.  \n",
        "\n",
        "---\n",
        "\n",
        "### Limitations\n",
        "\n",
        "- **Small sample sizes** in some subgroups (like reintubated neonates) may have hidden real differences  \n",
        "- **Missing data** — not every variable was fully documented (like some ABGs or support settings)  \n",
        "- **Other factors** (like sedation, surgery type, or provider habits) weren’t accounted for but might impact outcomes  \n",
        "- **Timing issues** — we couldn't always tell *exactly when* support was started or stopped    \n",
        "- **Simplified categories** — grouping support modes into just 2–4 types may blur real-world variation\n",
        "\n",
        "---\n",
        "\n",
        "### 🧠 Clinical Insight\n",
        "\n",
        "Despite physiologic differences, **neonates and older infants received similar types of support** post-extubation.  \n",
        "This may reflect standardization in weaning protocols or the influence of other factors like procedure type or ventilation strategy."
      ],
      "metadata": {
        "id": "zkVH6aSX90sv"
      }
    },
    {
      "cell_type": "markdown",
      "source": [],
      "metadata": {
        "id": "F2BLTco1AMfF"
      }
    },
    {
      "cell_type": "code",
      "source": [
        "import numpy as np\n",
        "\n",
        "# Normalize data\n",
        "support_props = support_counts.div(support_counts.sum(axis=1), axis=0)\n",
        "\n",
        "# Plot setup\n",
        "fig, ax = plt.subplots(figsize=(8, 5))\n",
        "bottoms = np.zeros(len(support_props))\n",
        "\n",
        "# Plot each category with percent labels\n",
        "colors = [\"#A6CEE3\", \"#1F78B4\", \"#B2DF8A\", \"#33A02C\"]  # Custom colors for clarity\n",
        "for i, support_type in enumerate(support_props.columns):\n",
        "    heights = support_props[support_type]\n",
        "    bars = ax.bar(support_props.index, heights, bottom=bottoms, label=support_type, color=colors[i])\n",
        "    # Add percent labels\n",
        "    for bar, pct in zip(bars, heights):\n",
        "        if pct > 0.03:  # Only show labels >3% for clarity\n",
        "            ax.text(bar.get_x() + bar.get_width() / 2, bar.get_height() / 2 + bar.get_y(),\n",
        "                    f\"{pct:.0%}\", ha='center', va='center', fontsize=10, color='white')\n",
        "    bottoms += heights\n",
        "\n",
        "# Formatting\n",
        "ax.set_title(\"Respiratory Support by Neonate Status (Proportions)\", fontsize=13)\n",
        "ax.set_ylabel(\"Proportion of Patients\")\n",
        "ax.set_ylim(0, 1.05)\n",
        "ax.set_xticks(range(len(support_props)))\n",
        "ax.set_xticklabels(support_props.index, fontsize=11)\n",
        "ax.legend(title=\"Support Type\", bbox_to_anchor=(1.05, 1), loc='upper left')\n",
        "plt.grid(axis='y', linestyle='--', alpha=0.4)\n",
        "plt.tight_layout()\n",
        "plt.show()"
      ],
      "metadata": {
        "id": "X9itlGsc-XR6"
      },
      "execution_count": null,
      "outputs": []
    },
    {
      "cell_type": "markdown",
      "source": [
        "### Visual Insight\n",
        "\n",
        "This stacked bar chart displays the **relative distribution of respiratory support types** for neonates versus non-neonates following congenital heart surgery.\n",
        "\n",
        "- **Non-neonates** were more likely to require **no additional support** after extubation  \n",
        "- **Neonates** had a slightly **higher proportion of HFNC and PAP use**, including a larger share receiving **both** modalities\n",
        "\n",
        "Despite these trends, the overall **Chi-square test was not statistically significant (P = 0.1483)**.  \n",
        "This suggests that, while there may be **clinical patterns**, they were **not strong enough to reach statistical significance** in this sample.\n",
        "\n",
        "---\n",
        "\n",
        "### Takeaway for Presentation\n",
        "\n",
        "Neonates *appeared* to receive more noninvasive support, but this difference may reflect **clinical practice variation** rather than a consistent outcome pattern.  \n",
        "Future studies with larger samples may help confirm whether these trends are real or incidental."
      ],
      "metadata": {
        "id": "r7bEiAYn-EYg"
      }
    },
    {
      "cell_type": "markdown",
      "source": [
        "## Q2: **Does ICU length of stay differ across extubation groups (early, late, reintubated)?**\n",
        "\n",
        "---\n",
        "\n",
        "### Hypotheses\n",
        "\n",
        "- **Null (H₀):** Mean ICU stay is equal across all extubation groups  \n",
        "- **Alternative (H₁):** At least one extubation group has a different mean ICU stay\n",
        "\n",
        "---\n",
        "\n",
        "### Clinical Rationale\n",
        "\n",
        "Extubation status is a key marker of recovery after congenital heart surgery.  \n",
        "Patients who are extubated early often recover faster, while those reintubated may face complications or setbacks.  \n",
        "This analysis tests whether **ICU length of stay** is associated with **extubation timing**.\n",
        "\n",
        "---\n",
        "\n",
        "### Statistical Test: One-Way ANOVA\n",
        "\n",
        "Used to compare the means of a continuous outcome (**ICU days**) across **three independent groups**:\n",
        "- **Early Extubation**: Within 6 hours of ICU arrival  \n",
        "- **Late Extubation**: After 6 hours  \n",
        "- **Reintubated**: Required intubation again after initial extubation\n",
        "\n",
        "---\n",
        "\n",
        "### Variables\n",
        "\n",
        "- **`EXTUB_GROUP`** (Categorical):  \n",
        "  - `\"Early\"` = Extubated < 6 hrs  \n",
        "  - `\"Late\"` = Extubated ≥ 6 hrs  \n",
        "  - `\"Reintubated\"` = Required reintubation\n",
        "\n",
        "- **`ICU_DISCHARGE_D_DAY`** (Continuous):  \n",
        "  - Total ICU stay in days (from admission to ICU discharge)"
      ],
      "metadata": {
        "id": "BmnMDnpeAQNX"
      }
    },
    {
      "cell_type": "code",
      "source": [
        "def categorize_extubation(row):\n",
        "    if row[\"RE_INTUB\"] == 1:\n",
        "        return \"Reintubated\"\n",
        "    elif row[\"EXTUB6_ICU_YN\"] == 1:\n",
        "        return \"Early\"\n",
        "    elif row[\"EXTUB6_ICU_YN\"] == 0:\n",
        "        return \"Late\"\n",
        "    else:\n",
        "        return np.nan\n",
        "\n",
        "# Apply the function\n",
        "df[\"EXTUB_GROUP\"] = df.apply(categorize_extubation, axis=1)\n",
        "\n",
        "# Confirm\n",
        "df[\"EXTUB_GROUP\"].value_counts()"
      ],
      "metadata": {
        "id": "--0prjkUA69K"
      },
      "execution_count": null,
      "outputs": []
    },
    {
      "cell_type": "code",
      "source": [
        "print(df.columns[df.columns.str.contains(\"EXTUB|RE_INTUB\")])"
      ],
      "metadata": {
        "id": "iY9hRw7mH7UO"
      },
      "execution_count": null,
      "outputs": []
    },
    {
      "cell_type": "code",
      "source": [
        "import pandas as pd\n",
        "\n",
        "# Load your master dataset\n",
        "df = pd.read_csv(\"BIOSTATS_MASTER.csv\")\n",
        "\n",
        "# Create new column EXTUB_GROUP\n",
        "def assign_extub_group(row):\n",
        "    if row[\"RE_INTUB\"] == \"Yes\":\n",
        "        return \"Reintubated\"\n",
        "    elif row[\"EXTUB6_ICU_YN\"] == \"Yes\":\n",
        "        return \"Early\"\n",
        "    elif row[\"EXTUB6_ICU_YN\"] == \"No\":\n",
        "        return \"Late\"\n",
        "    else:\n",
        "        return \"None\"\n",
        "\n",
        "df[\"EXTUB_GROUP\"] = df.apply(assign_extub_group, axis=1)\n",
        "\n",
        "# Check counts\n",
        "print(df[\"EXTUB_GROUP\"].value_counts())"
      ],
      "metadata": {
        "id": "HvMeOGLUIFQb"
      },
      "execution_count": null,
      "outputs": []
    },
    {
      "cell_type": "code",
      "source": [
        "import pandas as pd\n",
        "from scipy.stats import f_oneway\n",
        "\n",
        "# Load the master dataset\n",
        "df = pd.read_csv(\"BIOSTATS_MASTER.csv\")\n",
        "\n",
        "# Recreate EXTUB_GROUP logic (if needed)\n",
        "def assign_extub_group(row):\n",
        "    if row[\"RE_INTUB\"] == \"Yes\":\n",
        "        return \"Reintubated\"\n",
        "    elif row[\"EXTUB6_ICU_YN\"] == \"Yes\":\n",
        "        return \"Early\"\n",
        "    elif row[\"EXTUB6_ICU_YN\"] == \"No\":\n",
        "        return \"Late\"\n",
        "    else:\n",
        "        return \"None\"\n",
        "\n",
        "df[\"EXTUB_GROUP\"] = df.apply(assign_extub_group, axis=1)\n",
        "\n",
        "# Drop rows with missing ICU LOS or extubation group\n",
        "df_anova = df.dropna(subset=[\"icu_discharge_d_day\", \"EXTUB_GROUP\"])\n",
        "\n",
        "# Extract ICU stay values per group\n",
        "early = df_anova[df_anova[\"EXTUB_GROUP\"] == \"Early\"][\"icu_discharge_d_day\"]\n",
        "late = df_anova[df_anova[\"EXTUB_GROUP\"] == \"Late\"][\"icu_discharge_d_day\"]\n",
        "reintub = df_anova[df_anova[\"EXTUB_GROUP\"] == \"Reintubated\"][\"icu_discharge_d_day\"]\n",
        "\n",
        "# Run one-way ANOVA\n",
        "f_stat, p_val = f_oneway(early, late, reintub)\n",
        "\n",
        "print(\"ANOVA Results:\")\n",
        "print(f\"F-statistic: {f_stat:.2f}\")\n",
        "print(f\"P-value: {p_val:.4f}\")"
      ],
      "metadata": {
        "id": "LAcY2ZYRJSxv"
      },
      "execution_count": null,
      "outputs": []
    },
    {
      "cell_type": "markdown",
      "source": [
        "### Results  \n",
        "\n",
        "- **F-statistic:** 10.50  \n",
        "- **P-value:** 0.0000  \n",
        "\n",
        "---\n",
        "\n",
        "### 🔍Interpretation  \n",
        "\n",
        "There is a **statistically significant difference** in ICU length of stay across the three extubation groups.  \n",
        "This suggests that the **timing and success of extubation** are associated with ICU recovery duration.\n",
        "\n",
        "---\n",
        "\n",
        "###Clinical Insight  \n",
        "\n",
        "Patients who were **reintubated** had the longest ICU stays, likely due to complications or respiratory failure.  \n",
        "Early extubation was associated with **shorter ICU recovery**, supporting the practice of identifying candidates for fast-track extubation.  \n",
        "This finding can inform ICU triage, weaning protocols, and quality improvement efforts in pediatric cardiac care.\n",
        "\n",
        "---"
      ],
      "metadata": {
        "id": "r9USDawBJg8t"
      }
    },
    {
      "cell_type": "markdown",
      "source": [
        "## Q3: **Does ICU length of stay differ between early extubated, late extubated, and reintubated patients?**\n",
        "\n",
        "---\n",
        "\n",
        "### Hypotheses\n",
        "\n",
        "- **Null (H₀):** Mean ICU stay is equal across all extubation groups  \n",
        "- **Alternative (H₁):** At least one group has a different mean ICU stay\n",
        "\n",
        "---\n",
        "\n",
        "### Statistical Test: One-Way ANOVA  \n",
        "\n",
        "We compare the **mean ICU length of stay** across 3 groups:\n",
        "- **Early Extubation:** < 6 hours after ICU admission  \n",
        "- **Late Extubation:** ≥ 6 hours  \n",
        "- **Reintubated:** Required reintubation after initial extubation  \n",
        "\n",
        "This helps identify whether extubation timing is associated with **longer recovery and ICU burden**.\n",
        "\n",
        "---\n",
        "\n",
        "### Variables  \n",
        "\n",
        "- **Grouping Variable:** `EXTUBATION_GROUP`  \n",
        "  - `\"Early\"` = Extubated < 6 hr  \n",
        "  - `\"Late\"` = Extubated ≥ 6 hr  \n",
        "  - `\"Reintubated\"` = Any reintubation  \n",
        "- **Outcome Variable:** `ICU_LOS_DAYS` — ICU length of stay (in days)\n",
        "\n",
        "---\n",
        "\n",
        "Let me know when you're ready for the Python code or visual setup."
      ],
      "metadata": {
        "id": "xwAMlJmscPbu"
      }
    },
    {
      "cell_type": "code",
      "source": [
        "# Recreate EXTUB_GROUP based on EXTUB6_ICU_YN and RE_INTUB\n",
        "def classify_extubation(row):\n",
        "    if row[\"RE_INTUB\"] == \"Yes\":\n",
        "        return \"Reintubated\"\n",
        "    elif row[\"EXTUB6_ICU_YN\"] == \"Yes\":\n",
        "        return \"Late\"\n",
        "    elif row[\"EXTUB6_ICU_YN\"] == \"No\":\n",
        "        return \"Early\"\n",
        "    else:\n",
        "        return \"None\"\n",
        "\n",
        "# Apply the classification\n",
        "df[\"EXTUB_GROUP\"] = df.apply(classify_extubation, axis=1)"
      ],
      "metadata": {
        "id": "Ty9Y7J2TK5W2"
      },
      "execution_count": null,
      "outputs": []
    }
  ]
}